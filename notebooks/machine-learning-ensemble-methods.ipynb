{
 "cells": [
  {
   "cell_type": "markdown",
   "metadata": {},
   "source": [
    "# Machine Learning Ensemble Methods  --- Meta-Algorithms \n",
    "\n",
    "### 85xp\n",
    "\n",
    "As the name suggests, machine learning ensemble methods combine multiple learning algorithms in an effort to improve performance. Two major methods in this area are adaboost and random forest. For this notebook you have the option of trying one or the other. A critical skill for any machine learning expert is the ability to learn new things about machine learning on their own. \n",
    "\n",
    "Adaboost and Random Forest are usually built from Decision Trees. One way of looking at these algorithms is that we have a set of different decision trees for a problem, perhaps the Iris Problem. We train them all. And then ask them to classify an instance. Each algorithm 'votes' and we select the label that matches the majority vote. This is not entirely accurate but it paints a picture in the right direction.\n",
    "\n",
    "\n",
    "#### This notebook, as all notebooks, is optional.\n",
    "\n",
    "## Here are the steps I would like you to follow\n",
    "\n",
    "### 1. Select the algorithm you want to investigate (either Adaboost or Random Forest). \n",
    "Find one or two (maybe 3) others in the class who are interested in the same algorithm.  (Shout out your claim to the algorithm.) Once Adaboost and Random Forest are chosen other teams can pick other ensemble algorithms (Bagging estimator, Voting Classifier, Gradient Tree Boosting)\n",
    "\n",
    "### 2. Do some research on the algorithm.\n",
    "Get a general understanding of how the algorithm works. If you can explain the algorithm to others in class you probably have a reasonable understanding.\n",
    "\n",
    "### 3. Find sklearn documentation on your algorithm\n",
    "This likely will include sample code.\n",
    "\n",
    "### 4. Deploy the algorithm\n",
    "Create the classifier and train it. \n",
    "\n",
    "### 5. Make predictions\n",
    "\n",
    "### 6. Evaluate it (and perhaps plot it)\n",
    "You might want to compare it to a previous algorithm (or algorithms) you used. \n",
    "\n",
    "### 7. Present on Last Day of Class\n",
    "\n",
    "\n",
    "\n",
    "\n"
   ]
  },
  {
   "cell_type": "code",
   "execution_count": null,
   "metadata": {
    "collapsed": true
   },
   "outputs": [],
   "source": []
  }
 ],
 "metadata": {
  "kernelspec": {
   "display_name": "Python 3",
   "language": "python",
   "name": "python3"
  },
  "language_info": {
   "codemirror_mode": {
    "name": "ipython",
    "version": 3
   },
   "file_extension": ".py",
   "mimetype": "text/x-python",
   "name": "python",
   "nbconvert_exporter": "python",
   "pygments_lexer": "ipython3",
   "version": "3.6.0"
  }
 },
 "nbformat": 4,
 "nbformat_minor": 2
}
