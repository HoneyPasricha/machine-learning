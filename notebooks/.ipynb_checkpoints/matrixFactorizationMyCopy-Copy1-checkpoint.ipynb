{
 "cells": [
  {
   "cell_type": "markdown",
   "metadata": {},
   "source": [
    "## Matrix Factorization and Stochastic Gradient Descent\n",
    "\n",
    "\n",
    "### step one: write a dot product function\n",
    "\n",
    "15xp"
   ]
  },
  {
   "cell_type": "code",
   "execution_count": 1,
   "metadata": {
    "collapsed": false
   },
   "outputs": [
    {
     "data": {
      "text/plain": [
       "84"
      ]
     },
     "execution_count": 1,
     "metadata": {},
     "output_type": "execute_result"
    }
   ],
   "source": [
    "def dot(a, b):\n",
    "    total = 0\n",
    "    for i in range(len(a)):\n",
    "        total += a[i] * b[i]\n",
    "    return total\n",
    "\n",
    "a = [2, 4, 6]\n",
    "b = [3, 6, 9]\n",
    "dot(a, b)\n"
   ]
  },
  {
   "cell_type": "markdown",
   "metadata": {},
   "source": [
    "should return 84\n",
    "\n",
    "### now some additional functions  we will need:"
   ]
  },
  {
   "cell_type": "code",
   "execution_count": 2,
   "metadata": {
    "collapsed": false
   },
   "outputs": [
    {
     "name": "stdout",
     "output_type": "stream",
     "text": [
      "[4.997032834327799, 2.9330884336676823, 4.121609930427961, 0.995788649960746]\n",
      "[3.960698640501951, 2.3329915753309693, 3.4585191682164638, 0.997277812062709]\n",
      "[1.0747834402096434, 0.8177841226178048, 5.258229675851485, 4.95802557060687]\n",
      "[0.9617906007448743, 0.7134234148971222, 4.275407774007592, 3.9701621535435514]\n",
      "[1.8388283001447419, 1.2242568641489167, 4.906232113552432, 4.044489286963926]\n",
      "\n",
      "\n",
      "\n",
      "\n",
      "[4.997032834327799, 3.960698640501951, 1.0747834402096434, 0.9617906007448743, 1.8388283001447419]\n",
      "[2.9330884336676823, 2.3329915753309693, 0.8177841226178048, 0.7134234148971222, 1.2242568641489167]\n",
      "[4.121609930427961, 3.4585191682164638, 5.258229675851485, 4.275407774007592, 4.906232113552432]\n",
      "[0.995788649960746, 0.997277812062709, 4.95802557060687, 3.9701621535435514, 4.044489286963926]\n"
     ]
    }
   ],
   "source": [
    "p = [[ 1.3756739,   1.82247159],\n",
    " [ 1.16901533,  1.39862014],\n",
    " [ 2.08942885, -0.65458002],\n",
    " [ 1.69334605, -0.48281951],\n",
    " [ 1.89681673, -0.14079464]]\n",
    "\n",
    "q = [[1.11071814, 0.72430544,2.60828792, 2.05752625,],\n",
    "    [1.90348475, 1.06266696, 0.29271036, -1.00670788]]\n",
    "\n",
    "\n",
    "q2 = [[ 1.11071814,  1.90348475],\n",
    " [ 0.72430544,  1.06266696],\n",
    " [ 2.60828792,  0.29271036],\n",
    " [ 2.05752625, -1.00670788]]\n",
    "\n",
    "def transpose(a):\n",
    "    result = [[a[y][x] for y in range(len(a))] for x in range(len(a[0]))]\n",
    "    \n",
    "    return result\n",
    "\n",
    "def matMult(a, b):\n",
    "    #matrix multiplication\n",
    "    b  = transpose(b)\n",
    "    result = [[0 for y in range(len(b))] for x in range(len(a))]\n",
    "    for x in range(len(a)):\n",
    "        for y in range(len(b)):\n",
    "            result[x][y] = dot(a[x], b[y])\n",
    "    return result\n",
    "\n",
    "def prettyPrintMatrix(a):\n",
    "  for x in a:\n",
    "    print (x)\n",
    "\n",
    "#    my test code\n",
    "r = matMult(p, q)\n",
    "prettyPrintMatrix(r)\n",
    "print('\\n\\n\\n')\n",
    "prettyPrintMatrix(transpose(r))\n",
    "\n",
    "\n"
   ]
  },
  {
   "cell_type": "markdown",
   "metadata": {},
   "source": [
    "####my results\n",
    "     [4.997032834327799, 2.9330884336676823, 4.121609930427961, 0.995788649960746]\n",
    "     [3.960698640501951, 2.3329915753309693, 3.4585191682164638, 0.997277812062709]\n",
    "     [1.0747834402096434, 0.8177841226178048, 5.258229675851485, 4.95802557060687]\n",
    "     [0.9617906007448743, 0.7134234148971222, 4.275407774007592, 3.9701621535435514]\n",
    "     [1.8388283001447419, 1.2242568641489167, 4.906232113552432, 4.044489286963926]\n",
    "\n",
    "\n",
    "     [4.997032834327799, 3.960698640501951, 1.0747834402096434, 0.9617906007448743, 1.8388283001447419]\n",
    "     [2.9330884336676823, 2.3329915753309693, 0.8177841226178048, 0.7134234148971222, 1.2242568641489167]\n",
    "     [4.121609930427961, 3.4585191682164638, 5.258229675851485, 4.275407774007592, 4.906232113552432]\n",
    "     [0.995788649960746, 0.997277812062709, 4.95802557060687, 3.9701621535435514, 4.044489286963926]\n",
    "\n",
    "\n",
    "### Gradient Descent\n",
    "\n",
    "#### finish the algorithm for 30xp\n",
    "\n",
    "Here is the data we will use.\n",
    "\n",
    "|Customer | Taylor Swift | Miranda Lambert | Carrie Underwood | Nicki Minaj | Ariana Grande |\n",
    "|:-----------|:------:|:------:|:---------:|:------:|:--------:|\n",
    "|Jake|5|-|5|2|2|\n",
    "|Clara|2|-|-|4|5|\n",
    "|Kelsey|5|5|5|2|-|\n",
    "|Angelica|2|3|-|5|5|\n",
    "|Jordyn|2|1|-|5|-|\n",
    "\n",
    "\n",
    "Now you need to finish the following algorithm:"
   ]
  },
  {
   "cell_type": "code",
   "execution_count": 7,
   "metadata": {
    "collapsed": false
   },
   "outputs": [
    {
     "name": "stdout",
     "output_type": "stream",
     "text": [
      "EIJ 4.268508614682636\n",
      "Our final estimate of the P matrix\n",
      "[0.64302809521042, 0.38367547529051]\n",
      "[0.09269561253044675, 0.8218386996285996]\n",
      "[0.7748947123971361, 0.0860847690895796]\n",
      "[0.36209498134528817, 0.052972524578088084]\n",
      "[0.3724326168945808, 0.31592779916775265]\n",
      "\n",
      "Our final estimate of the Q matrix\n",
      "[0.696105222912857, 0.7548921501025916]\n",
      "[0.7527661920986092, 0.3632558743903015]\n",
      "[0.22576679358784443, 0.5894376601317007]\n",
      "[0.1187379616109712, 0.3103534917208276]\n",
      "[0.046968070874781255, 0.29224448390547253]\n",
      "\n",
      "\n",
      "Our predictions\n",
      "[0.7372488200393661, 0.6234221809027385, 0.37132716564771207, 0.1954268687279287, 0.14232883041378058]\n",
      "[0.6849254830237019, 0.3683158587101678, 0.5053502713354215, 0.26606699814318596, 0.24453156072561602]\n",
      "[0.6043929729363205, 0.6145853399958615, 0.22568709945121587, 0.1187261272840879, 0.06155310868706789]\n",
      "[0.29204475068010394, 0.2918154410195847, 0.1129730238511533, 0.05943462796257916, 0.0324878308537214]\n",
      "[0.4977437053943454, 0.39511731176393927, 0.2703026604558175, 0.14227118537089067, 0.10982059816555657]\n"
     ]
    }
   ],
   "source": [
    "\n",
    "def matrix_factorization(R, P, Q, K, steps=1, alpha=0.0002, beta=0.02):\n",
    "    Q = transpose(Q)\n",
    "    for step in range(steps):\n",
    "        for i in range(len(R)):\n",
    "            for j in range(len(R[i])):\n",
    "                if R[i][j] > 0:\n",
    "                    eij = R[i][j] - dot(P[i],transpose(Q)[j])\n",
    "                    if i == 0 and j == 0:\n",
    "                        print (\"EIJ\", eij)\n",
    "                    for k in range(K):\n",
    "                        P[i][k] = P[i][k] + alpha * (2 * eij * Q[k][j] - beta * P[i][k])\n",
    "                        Q[k][j] = Q[k][j] + alpha * (2 * eij * P[i][k] - beta * Q[k][j])\n",
    "        eR = matMult(P,Q)\n",
    "        e = 0\n",
    "        for i in range(len(R)):\n",
    "            for j in range(len(R[i])):\n",
    "                if R[i][j] > 0:\n",
    "                    e = e + pow(R[i][j] - dot(P[i],transpose(Q)[j]), 2)\n",
    "                    for k in range(K):\n",
    "                        e = e + (beta/2) * (pow(P[i][k],2) + pow(Q[k][j],2))\n",
    "        if e < 0.001:\n",
    "            break\n",
    "    return P, transpose(Q)\n",
    "\n",
    "\n",
    "\n",
    "R = [\n",
    "     [5, 0, 5, 2, 2],\n",
    "     [2, 0, 0, 4, 5],\n",
    "     [5, 5, 5, 2, 0],\n",
    "     [2, 3, 0, 5, 5],\n",
    "     [2, 1, 0, 5, 0]\n",
    "    ]\n",
    "\n",
    "\n",
    "K = 2\n",
    "\n",
    "## these are some random arrays I created\n",
    "\n",
    "P = [[ 0.64132372,  0.3808661 ],\n",
    "     [ 0.092069,    0.82043744],\n",
    "     [ 0.77184994,  0.08276139],\n",
    "     [ 0.36048553,  0.05087073],\n",
    "     [ 0.37160684,  0.3147877 ]]\n",
    "\n",
    "Q = [[ 0.69314147,  0.75344936],\n",
    "     [ 0.75093344,  0.36297899],\n",
    "     [ 0.22309714,  0.58856832],\n",
    "     [ 0.11611411,  0.30807273],\n",
    "     [ 0.04559444,  0.29029353]]\n",
    "\n",
    "\n",
    "nP, nQ = matrix_factorization(R, P, Q, K)\n",
    "print(\"Our final estimate of the P matrix\")\n",
    "prettyPrintMatrix (nP)\n",
    "print(\"\\nOur final estimate of the Q matrix\")\n",
    "prettyPrintMatrix (nQ)\n",
    "nR = matMult(nP, transpose(nQ))\n",
    "print(\"\\n\\nOur predictions\")\n",
    "prettyPrintMatrix (nR)"
   ]
  },
  {
   "cell_type": "markdown",
   "metadata": {},
   "source": [
    "### Here were my predictions. \n",
    "How did you do?\n",
    "\n",
    "|Customer | Taylor Swift | Miranda Lambert | Carrie Underwood | Nicki Minaj | Ariana Grande |\n",
    "|:-----------|:------:|:------:|:---------:|:------:|:--------:|\n",
    "|Jake|4.94 | 5.159|5.009 | 1.999 | 1.997 |\n",
    "|Clara|1.9854| 1.9243| 3.9860| 4.2796|4.7320|\n",
    "|Kelsey|4.8817|5.0919| 4.9719| 2.0206|2.0240|\n",
    "|Angelica|2.5388|2.4927| 4.6699| 4.72029| 5.2006|\n",
    "|Jordyn|1.5507| 1.4340|4.0388| 4.9721|5.5380|"
   ]
  },
  {
   "cell_type": "code",
   "execution_count": 10,
   "metadata": {
    "collapsed": false
   },
   "outputs": [],
   "source": [
    "import numpy as np\n",
    "from pandas import DataFrame\n",
    "import pandas as pd\n",
    "R = [\n",
    "     [5, 0, 5, 2, 2],\n",
    "     [2, 0, 0, 4, 5],\n",
    "     [5, 5, 5, 2, 0],\n",
    "     [2, 3, 0, 5, 5],\n",
    "     [2, 1, 0, 5, 0]\n",
    "    ]\n",
    "P = [[ 0.64132372,  0.3808661 ],\n",
    "     [ 0.092069,    0.82043744],\n",
    "     [ 0.77184994,  0.08276139],\n",
    "     [ 0.36048553,  0.05087073],\n",
    "     [ 0.37160684,  0.3147877 ]]"
   ]
  },
  {
   "cell_type": "code",
   "execution_count": 48,
   "metadata": {
    "collapsed": false
   },
   "outputs": [
    {
     "data": {
      "text/html": [
       "<div>\n",
       "<table border=\"1\" class=\"dataframe\">\n",
       "  <thead>\n",
       "    <tr style=\"text-align: right;\">\n",
       "      <th></th>\n",
       "      <th>Taylor</th>\n",
       "      <th>Miranda</th>\n",
       "      <th>Carrie</th>\n",
       "      <th>Nicki</th>\n",
       "      <th>Ariana</th>\n",
       "    </tr>\n",
       "    <tr>\n",
       "      <th>Customer</th>\n",
       "      <th></th>\n",
       "      <th></th>\n",
       "      <th></th>\n",
       "      <th></th>\n",
       "      <th></th>\n",
       "    </tr>\n",
       "  </thead>\n",
       "  <tbody>\n",
       "    <tr>\n",
       "      <th>Jake</th>\n",
       "      <td>5</td>\n",
       "      <td>0</td>\n",
       "      <td>5</td>\n",
       "      <td>2</td>\n",
       "      <td>2</td>\n",
       "    </tr>\n",
       "    <tr>\n",
       "      <th>Clara</th>\n",
       "      <td>2</td>\n",
       "      <td>0</td>\n",
       "      <td>0</td>\n",
       "      <td>4</td>\n",
       "      <td>5</td>\n",
       "    </tr>\n",
       "    <tr>\n",
       "      <th>Kelsey</th>\n",
       "      <td>5</td>\n",
       "      <td>5</td>\n",
       "      <td>5</td>\n",
       "      <td>2</td>\n",
       "      <td>0</td>\n",
       "    </tr>\n",
       "    <tr>\n",
       "      <th>Angel</th>\n",
       "      <td>2</td>\n",
       "      <td>3</td>\n",
       "      <td>0</td>\n",
       "      <td>5</td>\n",
       "      <td>5</td>\n",
       "    </tr>\n",
       "    <tr>\n",
       "      <th>Jordyn</th>\n",
       "      <td>2</td>\n",
       "      <td>1</td>\n",
       "      <td>0</td>\n",
       "      <td>5</td>\n",
       "      <td>0</td>\n",
       "    </tr>\n",
       "  </tbody>\n",
       "</table>\n",
       "</div>"
      ],
      "text/plain": [
       "          Taylor  Miranda  Carrie  Nicki  Ariana\n",
       "Customer                                        \n",
       "Jake           5        0       5      2       2\n",
       "Clara          2        0       0      4       5\n",
       "Kelsey         5        5       5      2       0\n",
       "Angel          2        3       0      5       5\n",
       "Jordyn         2        1       0      5       0"
      ]
     },
     "execution_count": 48,
     "metadata": {},
     "output_type": "execute_result"
    }
   ],
   "source": [
    "r = {'Customer': ['Jake', 'Clara', 'Kelsey', 'Angel', 'Jordyn'], 'Taylor': [5,2, 5, 2, 2], 'Miranda': [0,0,5,3,1], 'Carrie': [5,0,5,0,0], 'Nicki': [2,4,2,5,5], 'Ariana': [2, 5, 0, 5,0]}\n",
    "R = DataFrame(r, columns = ['Customer', 'Taylor', 'Miranda', 'Carrie', 'Nicki', 'Ariana'])\n",
    "R = R.set_index('Customer')\n",
    "R"
   ]
  },
  {
   "cell_type": "code",
   "execution_count": 38,
   "metadata": {
    "collapsed": false
   },
   "outputs": [
    {
     "data": {
      "text/html": [
       "<div>\n",
       "<table border=\"1\" class=\"dataframe\">\n",
       "  <thead>\n",
       "    <tr style=\"text-align: right;\">\n",
       "      <th></th>\n",
       "      <th>feature_1</th>\n",
       "      <th>feature_2</th>\n",
       "    </tr>\n",
       "    <tr>\n",
       "      <th>Customer</th>\n",
       "      <th></th>\n",
       "      <th></th>\n",
       "    </tr>\n",
       "  </thead>\n",
       "  <tbody>\n",
       "    <tr>\n",
       "      <th>Jake</th>\n",
       "      <td>0.641324</td>\n",
       "      <td>0.380866</td>\n",
       "    </tr>\n",
       "    <tr>\n",
       "      <th>Clara</th>\n",
       "      <td>0.092069</td>\n",
       "      <td>0.820437</td>\n",
       "    </tr>\n",
       "    <tr>\n",
       "      <th>Kelsey</th>\n",
       "      <td>0.771850</td>\n",
       "      <td>0.082761</td>\n",
       "    </tr>\n",
       "    <tr>\n",
       "      <th>Angel</th>\n",
       "      <td>0.360486</td>\n",
       "      <td>0.050871</td>\n",
       "    </tr>\n",
       "    <tr>\n",
       "      <th>Jordyn</th>\n",
       "      <td>0.371607</td>\n",
       "      <td>0.314788</td>\n",
       "    </tr>\n",
       "  </tbody>\n",
       "</table>\n",
       "</div>"
      ],
      "text/plain": [
       "          feature_1  feature_2\n",
       "Customer                      \n",
       "Jake       0.641324   0.380866\n",
       "Clara      0.092069   0.820437\n",
       "Kelsey     0.771850   0.082761\n",
       "Angel      0.360486   0.050871\n",
       "Jordyn     0.371607   0.314788"
      ]
     },
     "execution_count": 38,
     "metadata": {},
     "output_type": "execute_result"
    }
   ],
   "source": [
    "p = {'Customer': ['Jake', 'Clara', 'Kelsey', 'Angel', 'Jordyn'], 'feature_1': [0.64132372, 0.092069, 0.77184994, 0.36048553,0.37160684], 'feature_2': [0.3808661, 0.82043744, 0.08276139, 0.05087073, 0.3147877]}\n",
    "P = DataFrame(p)\n",
    "P = P.set_index('Customer')\n",
    "P\n"
   ]
  },
  {
   "cell_type": "code",
   "execution_count": 40,
   "metadata": {
    "collapsed": false
   },
   "outputs": [
    {
     "data": {
      "text/html": [
       "<div>\n",
       "<table border=\"1\" class=\"dataframe\">\n",
       "  <thead>\n",
       "    <tr style=\"text-align: right;\">\n",
       "      <th></th>\n",
       "      <th>feature_1</th>\n",
       "      <th>feature_2</th>\n",
       "    </tr>\n",
       "    <tr>\n",
       "      <th>Artist</th>\n",
       "      <th></th>\n",
       "      <th></th>\n",
       "    </tr>\n",
       "  </thead>\n",
       "  <tbody>\n",
       "    <tr>\n",
       "      <th>Taylor</th>\n",
       "      <td>0.693141</td>\n",
       "      <td>0.753449</td>\n",
       "    </tr>\n",
       "    <tr>\n",
       "      <th>Miranda</th>\n",
       "      <td>0.750933</td>\n",
       "      <td>0.362979</td>\n",
       "    </tr>\n",
       "    <tr>\n",
       "      <th>Carrie</th>\n",
       "      <td>0.223097</td>\n",
       "      <td>0.588568</td>\n",
       "    </tr>\n",
       "    <tr>\n",
       "      <th>Nicki</th>\n",
       "      <td>0.116114</td>\n",
       "      <td>0.308073</td>\n",
       "    </tr>\n",
       "    <tr>\n",
       "      <th>Ariana</th>\n",
       "      <td>0.045594</td>\n",
       "      <td>0.290294</td>\n",
       "    </tr>\n",
       "  </tbody>\n",
       "</table>\n",
       "</div>"
      ],
      "text/plain": [
       "         feature_1  feature_2\n",
       "Artist                       \n",
       "Taylor    0.693141   0.753449\n",
       "Miranda   0.750933   0.362979\n",
       "Carrie    0.223097   0.588568\n",
       "Nicki     0.116114   0.308073\n",
       "Ariana    0.045594   0.290294"
      ]
     },
     "execution_count": 40,
     "metadata": {},
     "output_type": "execute_result"
    }
   ],
   "source": [
    "Q = [[ 0.69314147,  0.75344936],\n",
    "     [ 0.75093344,  0.36297899],\n",
    "     [ 0.22309714,  0.58856832],\n",
    "     [ 0.11611411,  0.30807273],\n",
    "     [ 0.04559444,  0.29029353]]\n",
    "q = {'Artist': ['Taylor', 'Miranda', 'Carrie', 'Nicki', 'Ariana'],\n",
    "     'feature_1': [0.69314147, 0.75093344, 0.22309714, 0.11611411, 0.04559444], \n",
    "     'feature_2': [0.75344936, 0.36297899, 0.58856832, 0.30807273, 0.29029353]}\n",
    "Q = DataFrame(q)\n",
    "Q = Q.set_index('Artist')\n",
    "Q"
   ]
  },
  {
   "cell_type": "code",
   "execution_count": 33,
   "metadata": {
    "collapsed": false
   },
   "outputs": [
    {
     "data": {
      "text/plain": [
       "0.73149138531736435"
      ]
     },
     "execution_count": 33,
     "metadata": {},
     "output_type": "execute_result"
    }
   ],
   "source": [
    "#eij = R[i][j] - dot(P[i],transpose(Q)[j])\n",
    "R['Taylor'][0]\n",
    "px = P.loc[0]\n",
    "qx = Q.loc[0]\n",
    "px\n",
    "qx\n",
    "px.dot(qx.T)"
   ]
  },
  {
   "cell_type": "code",
   "execution_count": 42,
   "metadata": {
    "collapsed": false
   },
   "outputs": [
    {
     "data": {
      "text/html": [
       "<div>\n",
       "<table border=\"1\" class=\"dataframe\">\n",
       "  <thead>\n",
       "    <tr style=\"text-align: right;\">\n",
       "      <th></th>\n",
       "      <th>Taylor</th>\n",
       "      <th>Miranda</th>\n",
       "      <th>Carrie</th>\n",
       "      <th>Nicki</th>\n",
       "      <th>Ariana</th>\n",
       "    </tr>\n",
       "    <tr>\n",
       "      <th>Customer</th>\n",
       "      <th></th>\n",
       "      <th></th>\n",
       "      <th></th>\n",
       "      <th></th>\n",
       "      <th></th>\n",
       "    </tr>\n",
       "  </thead>\n",
       "  <tbody>\n",
       "    <tr>\n",
       "      <th>Jake</th>\n",
       "      <td>4.268509</td>\n",
       "      <td>-0.619838</td>\n",
       "      <td>4.632757</td>\n",
       "      <td>1.808199</td>\n",
       "      <td>1.860196</td>\n",
       "    </tr>\n",
       "    <tr>\n",
       "      <th>Clara</th>\n",
       "      <td>1.318025</td>\n",
       "      <td>-0.366939</td>\n",
       "      <td>-0.503424</td>\n",
       "      <td>3.736555</td>\n",
       "      <td>4.757634</td>\n",
       "    </tr>\n",
       "    <tr>\n",
       "      <th>Kelsey</th>\n",
       "      <td>4.402642</td>\n",
       "      <td>4.390351</td>\n",
       "      <td>4.779092</td>\n",
       "      <td>1.884881</td>\n",
       "      <td>-0.059217</td>\n",
       "    </tr>\n",
       "    <tr>\n",
       "      <th>Angel</th>\n",
       "      <td>1.711804</td>\n",
       "      <td>2.710834</td>\n",
       "      <td>-0.110364</td>\n",
       "      <td>4.942471</td>\n",
       "      <td>4.968796</td>\n",
       "    </tr>\n",
       "    <tr>\n",
       "      <th>Jordyn</th>\n",
       "      <td>1.505247</td>\n",
       "      <td>0.606687</td>\n",
       "      <td>-0.268178</td>\n",
       "      <td>4.859874</td>\n",
       "      <td>-0.108324</td>\n",
       "    </tr>\n",
       "  </tbody>\n",
       "</table>\n",
       "</div>"
      ],
      "text/plain": [
       "            Taylor   Miranda    Carrie     Nicki    Ariana\n",
       "Customer                                                  \n",
       "Jake      4.268509 -0.619838  4.632757  1.808199  1.860196\n",
       "Clara     1.318025 -0.366939 -0.503424  3.736555  4.757634\n",
       "Kelsey    4.402642  4.390351  4.779092  1.884881 -0.059217\n",
       "Angel     1.711804  2.710834 -0.110364  4.942471  4.968796\n",
       "Jordyn    1.505247  0.606687 -0.268178  4.859874 -0.108324"
      ]
     },
     "execution_count": 42,
     "metadata": {},
     "output_type": "execute_result"
    }
   ],
   "source": [
    "Rhat = P.dot(Q.T)\n",
    "R - Rhat"
   ]
  },
  {
   "cell_type": "code",
   "execution_count": 53,
   "metadata": {
    "collapsed": false
   },
   "outputs": [
    {
     "ename": "AttributeError",
     "evalue": "'numpy.int64' object has no attribute 'name'",
     "output_type": "error",
     "traceback": [
      "\u001b[0;31m---------------------------------------------------------------------------\u001b[0m",
      "\u001b[0;31mAttributeError\u001b[0m                            Traceback (most recent call last)",
      "\u001b[0;32m<ipython-input-53-4244428b73f6>\u001b[0m in \u001b[0;36m<module>\u001b[0;34m()\u001b[0m\n\u001b[1;32m      1\u001b[0m \u001b[0mRx\u001b[0m \u001b[0;34m=\u001b[0m \u001b[0mR\u001b[0m \u001b[0;34m+\u001b[0m \u001b[0mR\u001b[0m \u001b[0;34m*\u001b[0m \u001b[0;36m.1\u001b[0m\u001b[0;34m\u001b[0m\u001b[0m\n\u001b[1;32m      2\u001b[0m \u001b[0mx\u001b[0m \u001b[0;34m=\u001b[0m \u001b[0mR\u001b[0m\u001b[0;34m[\u001b[0m\u001b[0;34m'Taylor'\u001b[0m\u001b[0;34m]\u001b[0m\u001b[0;34m[\u001b[0m\u001b[0;34m'Jake'\u001b[0m\u001b[0;34m]\u001b[0m\u001b[0;34m\u001b[0m\u001b[0m\n\u001b[0;32m----> 3\u001b[0;31m \u001b[0mx\u001b[0m\u001b[0;34m.\u001b[0m\u001b[0mname\u001b[0m\u001b[0;34m\u001b[0m\u001b[0m\n\u001b[0m",
      "\u001b[0;31mAttributeError\u001b[0m: 'numpy.int64' object has no attribute 'name'"
     ]
    }
   ],
   "source": [
    "Rx = R + R * .1\n",
    "x = R['Taylor']['Jake']\n",
    "x.name"
   ]
  },
  {
   "cell_type": "code",
   "execution_count": 54,
   "metadata": {
    "collapsed": false
   },
   "outputs": [
    {
     "data": {
      "text/plain": [
       "Index(['Jake', 'Clara', 'Kelsey', 'Angel', 'Jordyn'], dtype='object', name='Customer')"
      ]
     },
     "execution_count": 54,
     "metadata": {},
     "output_type": "execute_result"
    }
   ],
   "source": [
    "R.index"
   ]
  },
  {
   "cell_type": "code",
   "execution_count": 55,
   "metadata": {
    "collapsed": false
   },
   "outputs": [
    {
     "data": {
      "text/plain": [
       "Index(['Jake', 'Clara', 'Kelsey', 'Angel', 'Jordyn'], dtype='object', name='Customer')"
      ]
     },
     "execution_count": 55,
     "metadata": {},
     "output_type": "execute_result"
    }
   ],
   "source": [
    "x = R.index\n",
    "x\n"
   ]
  },
  {
   "cell_type": "code",
   "execution_count": 57,
   "metadata": {
    "collapsed": false
   },
   "outputs": [
    {
     "name": "stdout",
     "output_type": "stream",
     "text": [
      "Jake\n",
      "Clara\n",
      "Kelsey\n",
      "Angel\n",
      "Jordyn\n"
     ]
    }
   ],
   "source": [
    "for i in x:\n",
    "    print( i)"
   ]
  },
  {
   "cell_type": "code",
   "execution_count": 58,
   "metadata": {
    "collapsed": false
   },
   "outputs": [
    {
     "ename": "KeyError",
     "evalue": "0",
     "output_type": "error",
     "traceback": [
      "\u001b[0;31m---------------------------------------------------------------------------\u001b[0m",
      "\u001b[0;31mKeyError\u001b[0m                                  Traceback (most recent call last)",
      "\u001b[0;32m/Users/raz/anaconda/lib/python3.5/site-packages/pandas/indexes/base.py\u001b[0m in \u001b[0;36mget_loc\u001b[0;34m(self, key, method, tolerance)\u001b[0m\n\u001b[1;32m   1944\u001b[0m             \u001b[0;32mtry\u001b[0m\u001b[0;34m:\u001b[0m\u001b[0;34m\u001b[0m\u001b[0m\n\u001b[0;32m-> 1945\u001b[0;31m                 \u001b[0;32mreturn\u001b[0m \u001b[0mself\u001b[0m\u001b[0;34m.\u001b[0m\u001b[0m_engine\u001b[0m\u001b[0;34m.\u001b[0m\u001b[0mget_loc\u001b[0m\u001b[0;34m(\u001b[0m\u001b[0mkey\u001b[0m\u001b[0;34m)\u001b[0m\u001b[0;34m\u001b[0m\u001b[0m\n\u001b[0m\u001b[1;32m   1946\u001b[0m             \u001b[0;32mexcept\u001b[0m \u001b[0mKeyError\u001b[0m\u001b[0;34m:\u001b[0m\u001b[0;34m\u001b[0m\u001b[0m\n",
      "\u001b[0;32mpandas/index.pyx\u001b[0m in \u001b[0;36mpandas.index.IndexEngine.get_loc (pandas/index.c:4154)\u001b[0;34m()\u001b[0m\n",
      "\u001b[0;32mpandas/index.pyx\u001b[0m in \u001b[0;36mpandas.index.IndexEngine.get_loc (pandas/index.c:4018)\u001b[0;34m()\u001b[0m\n",
      "\u001b[0;32mpandas/hashtable.pyx\u001b[0m in \u001b[0;36mpandas.hashtable.PyObjectHashTable.get_item (pandas/hashtable.c:12368)\u001b[0;34m()\u001b[0m\n",
      "\u001b[0;32mpandas/hashtable.pyx\u001b[0m in \u001b[0;36mpandas.hashtable.PyObjectHashTable.get_item (pandas/hashtable.c:12322)\u001b[0;34m()\u001b[0m\n",
      "\u001b[0;31mKeyError\u001b[0m: 0",
      "\nDuring handling of the above exception, another exception occurred:\n",
      "\u001b[0;31mKeyError\u001b[0m                                  Traceback (most recent call last)",
      "\u001b[0;32m<ipython-input-58-ccfee0d08285>\u001b[0m in \u001b[0;36m<module>\u001b[0;34m()\u001b[0m\n\u001b[1;32m     26\u001b[0m             \u001b[0;32mbreak\u001b[0m\u001b[0;34m\u001b[0m\u001b[0m\n\u001b[1;32m     27\u001b[0m     return P, transpose(Q)\"\"\"\n\u001b[0;32m---> 28\u001b[0;31m \u001b[0mmatrix_factorization\u001b[0m\u001b[0;34m(\u001b[0m\u001b[0mR\u001b[0m\u001b[0;34m,\u001b[0m \u001b[0mP\u001b[0m\u001b[0;34m,\u001b[0m \u001b[0mQ\u001b[0m\u001b[0;34m)\u001b[0m\u001b[0;34m\u001b[0m\u001b[0m\n\u001b[0m",
      "\u001b[0;32m<ipython-input-58-ccfee0d08285>\u001b[0m in \u001b[0;36mmatrix_factorization\u001b[0;34m(R, P, Q, steps, alpha, beta)\u001b[0m\n\u001b[1;32m      1\u001b[0m \u001b[0;32mdef\u001b[0m \u001b[0mmatrix_factorization\u001b[0m\u001b[0;34m(\u001b[0m\u001b[0mR\u001b[0m\u001b[0;34m,\u001b[0m \u001b[0mP\u001b[0m\u001b[0;34m,\u001b[0m \u001b[0mQ\u001b[0m\u001b[0;34m,\u001b[0m  \u001b[0msteps\u001b[0m\u001b[0;34m=\u001b[0m\u001b[0;36m1\u001b[0m\u001b[0;34m,\u001b[0m \u001b[0malpha\u001b[0m\u001b[0;34m=\u001b[0m\u001b[0;36m0.0002\u001b[0m\u001b[0;34m,\u001b[0m \u001b[0mbeta\u001b[0m\u001b[0;34m=\u001b[0m\u001b[0;36m0.02\u001b[0m\u001b[0;34m)\u001b[0m\u001b[0;34m:\u001b[0m\u001b[0;34m\u001b[0m\u001b[0m\n\u001b[0;32m----> 2\u001b[0;31m     \u001b[0mQ\u001b[0m \u001b[0;34m=\u001b[0m \u001b[0mtranspose\u001b[0m\u001b[0;34m(\u001b[0m\u001b[0mQ\u001b[0m\u001b[0;34m)\u001b[0m\u001b[0;34m\u001b[0m\u001b[0m\n\u001b[0m\u001b[1;32m      3\u001b[0m     \u001b[0;32mfor\u001b[0m \u001b[0mstep\u001b[0m \u001b[0;32min\u001b[0m \u001b[0mrange\u001b[0m\u001b[0;34m(\u001b[0m\u001b[0msteps\u001b[0m\u001b[0;34m)\u001b[0m\u001b[0;34m:\u001b[0m\u001b[0;34m\u001b[0m\u001b[0m\n\u001b[1;32m      4\u001b[0m         \u001b[0mRhat\u001b[0m \u001b[0;34m=\u001b[0m \u001b[0mP\u001b[0m\u001b[0;34m.\u001b[0m\u001b[0mdot\u001b[0m\u001b[0;34m(\u001b[0m\u001b[0mQ\u001b[0m\u001b[0;34m.\u001b[0m\u001b[0mT\u001b[0m\u001b[0;34m)\u001b[0m\u001b[0;34m\u001b[0m\u001b[0m\n\u001b[1;32m      5\u001b[0m         \u001b[0mdifference\u001b[0m \u001b[0;34m=\u001b[0m \u001b[0mR\u001b[0m \u001b[0;34m-\u001b[0m \u001b[0mRhat\u001b[0m\u001b[0;34m\u001b[0m\u001b[0m\n",
      "\u001b[0;32m<ipython-input-2-ee7cf82e3d41>\u001b[0m in \u001b[0;36mtranspose\u001b[0;34m(a)\u001b[0m\n\u001b[1;32m     15\u001b[0m \u001b[0;34m\u001b[0m\u001b[0m\n\u001b[1;32m     16\u001b[0m \u001b[0;32mdef\u001b[0m \u001b[0mtranspose\u001b[0m\u001b[0;34m(\u001b[0m\u001b[0ma\u001b[0m\u001b[0;34m)\u001b[0m\u001b[0;34m:\u001b[0m\u001b[0;34m\u001b[0m\u001b[0m\n\u001b[0;32m---> 17\u001b[0;31m     \u001b[0mresult\u001b[0m \u001b[0;34m=\u001b[0m \u001b[0;34m[\u001b[0m\u001b[0;34m[\u001b[0m\u001b[0ma\u001b[0m\u001b[0;34m[\u001b[0m\u001b[0my\u001b[0m\u001b[0;34m]\u001b[0m\u001b[0;34m[\u001b[0m\u001b[0mx\u001b[0m\u001b[0;34m]\u001b[0m \u001b[0;32mfor\u001b[0m \u001b[0my\u001b[0m \u001b[0;32min\u001b[0m \u001b[0mrange\u001b[0m\u001b[0;34m(\u001b[0m\u001b[0mlen\u001b[0m\u001b[0;34m(\u001b[0m\u001b[0ma\u001b[0m\u001b[0;34m)\u001b[0m\u001b[0;34m)\u001b[0m\u001b[0;34m]\u001b[0m \u001b[0;32mfor\u001b[0m \u001b[0mx\u001b[0m \u001b[0;32min\u001b[0m \u001b[0mrange\u001b[0m\u001b[0;34m(\u001b[0m\u001b[0mlen\u001b[0m\u001b[0;34m(\u001b[0m\u001b[0ma\u001b[0m\u001b[0;34m[\u001b[0m\u001b[0;36m0\u001b[0m\u001b[0;34m]\u001b[0m\u001b[0;34m)\u001b[0m\u001b[0;34m)\u001b[0m\u001b[0;34m]\u001b[0m\u001b[0;34m\u001b[0m\u001b[0m\n\u001b[0m\u001b[1;32m     18\u001b[0m \u001b[0;34m\u001b[0m\u001b[0m\n\u001b[1;32m     19\u001b[0m     \u001b[0;32mreturn\u001b[0m \u001b[0mresult\u001b[0m\u001b[0;34m\u001b[0m\u001b[0m\n",
      "\u001b[0;32m/Users/raz/anaconda/lib/python3.5/site-packages/pandas/core/frame.py\u001b[0m in \u001b[0;36m__getitem__\u001b[0;34m(self, key)\u001b[0m\n\u001b[1;32m   1995\u001b[0m             \u001b[0;32mreturn\u001b[0m \u001b[0mself\u001b[0m\u001b[0;34m.\u001b[0m\u001b[0m_getitem_multilevel\u001b[0m\u001b[0;34m(\u001b[0m\u001b[0mkey\u001b[0m\u001b[0;34m)\u001b[0m\u001b[0;34m\u001b[0m\u001b[0m\n\u001b[1;32m   1996\u001b[0m         \u001b[0;32melse\u001b[0m\u001b[0;34m:\u001b[0m\u001b[0;34m\u001b[0m\u001b[0m\n\u001b[0;32m-> 1997\u001b[0;31m             \u001b[0;32mreturn\u001b[0m \u001b[0mself\u001b[0m\u001b[0;34m.\u001b[0m\u001b[0m_getitem_column\u001b[0m\u001b[0;34m(\u001b[0m\u001b[0mkey\u001b[0m\u001b[0;34m)\u001b[0m\u001b[0;34m\u001b[0m\u001b[0m\n\u001b[0m\u001b[1;32m   1998\u001b[0m \u001b[0;34m\u001b[0m\u001b[0m\n\u001b[1;32m   1999\u001b[0m     \u001b[0;32mdef\u001b[0m \u001b[0m_getitem_column\u001b[0m\u001b[0;34m(\u001b[0m\u001b[0mself\u001b[0m\u001b[0;34m,\u001b[0m \u001b[0mkey\u001b[0m\u001b[0;34m)\u001b[0m\u001b[0;34m:\u001b[0m\u001b[0;34m\u001b[0m\u001b[0m\n",
      "\u001b[0;32m/Users/raz/anaconda/lib/python3.5/site-packages/pandas/core/frame.py\u001b[0m in \u001b[0;36m_getitem_column\u001b[0;34m(self, key)\u001b[0m\n\u001b[1;32m   2002\u001b[0m         \u001b[0;31m# get column\u001b[0m\u001b[0;34m\u001b[0m\u001b[0;34m\u001b[0m\u001b[0m\n\u001b[1;32m   2003\u001b[0m         \u001b[0;32mif\u001b[0m \u001b[0mself\u001b[0m\u001b[0;34m.\u001b[0m\u001b[0mcolumns\u001b[0m\u001b[0;34m.\u001b[0m\u001b[0mis_unique\u001b[0m\u001b[0;34m:\u001b[0m\u001b[0;34m\u001b[0m\u001b[0m\n\u001b[0;32m-> 2004\u001b[0;31m             \u001b[0;32mreturn\u001b[0m \u001b[0mself\u001b[0m\u001b[0;34m.\u001b[0m\u001b[0m_get_item_cache\u001b[0m\u001b[0;34m(\u001b[0m\u001b[0mkey\u001b[0m\u001b[0;34m)\u001b[0m\u001b[0;34m\u001b[0m\u001b[0m\n\u001b[0m\u001b[1;32m   2005\u001b[0m \u001b[0;34m\u001b[0m\u001b[0m\n\u001b[1;32m   2006\u001b[0m         \u001b[0;31m# duplicate columns & possible reduce dimensionality\u001b[0m\u001b[0;34m\u001b[0m\u001b[0;34m\u001b[0m\u001b[0m\n",
      "\u001b[0;32m/Users/raz/anaconda/lib/python3.5/site-packages/pandas/core/generic.py\u001b[0m in \u001b[0;36m_get_item_cache\u001b[0;34m(self, item)\u001b[0m\n\u001b[1;32m   1348\u001b[0m         \u001b[0mres\u001b[0m \u001b[0;34m=\u001b[0m \u001b[0mcache\u001b[0m\u001b[0;34m.\u001b[0m\u001b[0mget\u001b[0m\u001b[0;34m(\u001b[0m\u001b[0mitem\u001b[0m\u001b[0;34m)\u001b[0m\u001b[0;34m\u001b[0m\u001b[0m\n\u001b[1;32m   1349\u001b[0m         \u001b[0;32mif\u001b[0m \u001b[0mres\u001b[0m \u001b[0;32mis\u001b[0m \u001b[0;32mNone\u001b[0m\u001b[0;34m:\u001b[0m\u001b[0;34m\u001b[0m\u001b[0m\n\u001b[0;32m-> 1350\u001b[0;31m             \u001b[0mvalues\u001b[0m \u001b[0;34m=\u001b[0m \u001b[0mself\u001b[0m\u001b[0;34m.\u001b[0m\u001b[0m_data\u001b[0m\u001b[0;34m.\u001b[0m\u001b[0mget\u001b[0m\u001b[0;34m(\u001b[0m\u001b[0mitem\u001b[0m\u001b[0;34m)\u001b[0m\u001b[0;34m\u001b[0m\u001b[0m\n\u001b[0m\u001b[1;32m   1351\u001b[0m             \u001b[0mres\u001b[0m \u001b[0;34m=\u001b[0m \u001b[0mself\u001b[0m\u001b[0;34m.\u001b[0m\u001b[0m_box_item_values\u001b[0m\u001b[0;34m(\u001b[0m\u001b[0mitem\u001b[0m\u001b[0;34m,\u001b[0m \u001b[0mvalues\u001b[0m\u001b[0;34m)\u001b[0m\u001b[0;34m\u001b[0m\u001b[0m\n\u001b[1;32m   1352\u001b[0m             \u001b[0mcache\u001b[0m\u001b[0;34m[\u001b[0m\u001b[0mitem\u001b[0m\u001b[0;34m]\u001b[0m \u001b[0;34m=\u001b[0m \u001b[0mres\u001b[0m\u001b[0;34m\u001b[0m\u001b[0m\n",
      "\u001b[0;32m/Users/raz/anaconda/lib/python3.5/site-packages/pandas/core/internals.py\u001b[0m in \u001b[0;36mget\u001b[0;34m(self, item, fastpath)\u001b[0m\n\u001b[1;32m   3288\u001b[0m \u001b[0;34m\u001b[0m\u001b[0m\n\u001b[1;32m   3289\u001b[0m             \u001b[0;32mif\u001b[0m \u001b[0;32mnot\u001b[0m \u001b[0misnull\u001b[0m\u001b[0;34m(\u001b[0m\u001b[0mitem\u001b[0m\u001b[0;34m)\u001b[0m\u001b[0;34m:\u001b[0m\u001b[0;34m\u001b[0m\u001b[0m\n\u001b[0;32m-> 3290\u001b[0;31m                 \u001b[0mloc\u001b[0m \u001b[0;34m=\u001b[0m \u001b[0mself\u001b[0m\u001b[0;34m.\u001b[0m\u001b[0mitems\u001b[0m\u001b[0;34m.\u001b[0m\u001b[0mget_loc\u001b[0m\u001b[0;34m(\u001b[0m\u001b[0mitem\u001b[0m\u001b[0;34m)\u001b[0m\u001b[0;34m\u001b[0m\u001b[0m\n\u001b[0m\u001b[1;32m   3291\u001b[0m             \u001b[0;32melse\u001b[0m\u001b[0;34m:\u001b[0m\u001b[0;34m\u001b[0m\u001b[0m\n\u001b[1;32m   3292\u001b[0m                 \u001b[0mindexer\u001b[0m \u001b[0;34m=\u001b[0m \u001b[0mnp\u001b[0m\u001b[0;34m.\u001b[0m\u001b[0marange\u001b[0m\u001b[0;34m(\u001b[0m\u001b[0mlen\u001b[0m\u001b[0;34m(\u001b[0m\u001b[0mself\u001b[0m\u001b[0;34m.\u001b[0m\u001b[0mitems\u001b[0m\u001b[0;34m)\u001b[0m\u001b[0;34m)\u001b[0m\u001b[0;34m[\u001b[0m\u001b[0misnull\u001b[0m\u001b[0;34m(\u001b[0m\u001b[0mself\u001b[0m\u001b[0;34m.\u001b[0m\u001b[0mitems\u001b[0m\u001b[0;34m)\u001b[0m\u001b[0;34m]\u001b[0m\u001b[0;34m\u001b[0m\u001b[0m\n",
      "\u001b[0;32m/Users/raz/anaconda/lib/python3.5/site-packages/pandas/indexes/base.py\u001b[0m in \u001b[0;36mget_loc\u001b[0;34m(self, key, method, tolerance)\u001b[0m\n\u001b[1;32m   1945\u001b[0m                 \u001b[0;32mreturn\u001b[0m \u001b[0mself\u001b[0m\u001b[0;34m.\u001b[0m\u001b[0m_engine\u001b[0m\u001b[0;34m.\u001b[0m\u001b[0mget_loc\u001b[0m\u001b[0;34m(\u001b[0m\u001b[0mkey\u001b[0m\u001b[0;34m)\u001b[0m\u001b[0;34m\u001b[0m\u001b[0m\n\u001b[1;32m   1946\u001b[0m             \u001b[0;32mexcept\u001b[0m \u001b[0mKeyError\u001b[0m\u001b[0;34m:\u001b[0m\u001b[0;34m\u001b[0m\u001b[0m\n\u001b[0;32m-> 1947\u001b[0;31m                 \u001b[0;32mreturn\u001b[0m \u001b[0mself\u001b[0m\u001b[0;34m.\u001b[0m\u001b[0m_engine\u001b[0m\u001b[0;34m.\u001b[0m\u001b[0mget_loc\u001b[0m\u001b[0;34m(\u001b[0m\u001b[0mself\u001b[0m\u001b[0;34m.\u001b[0m\u001b[0m_maybe_cast_indexer\u001b[0m\u001b[0;34m(\u001b[0m\u001b[0mkey\u001b[0m\u001b[0;34m)\u001b[0m\u001b[0;34m)\u001b[0m\u001b[0;34m\u001b[0m\u001b[0m\n\u001b[0m\u001b[1;32m   1948\u001b[0m \u001b[0;34m\u001b[0m\u001b[0m\n\u001b[1;32m   1949\u001b[0m         \u001b[0mindexer\u001b[0m \u001b[0;34m=\u001b[0m \u001b[0mself\u001b[0m\u001b[0;34m.\u001b[0m\u001b[0mget_indexer\u001b[0m\u001b[0;34m(\u001b[0m\u001b[0;34m[\u001b[0m\u001b[0mkey\u001b[0m\u001b[0;34m]\u001b[0m\u001b[0;34m,\u001b[0m \u001b[0mmethod\u001b[0m\u001b[0;34m=\u001b[0m\u001b[0mmethod\u001b[0m\u001b[0;34m,\u001b[0m \u001b[0mtolerance\u001b[0m\u001b[0;34m=\u001b[0m\u001b[0mtolerance\u001b[0m\u001b[0;34m)\u001b[0m\u001b[0;34m\u001b[0m\u001b[0m\n",
      "\u001b[0;32mpandas/index.pyx\u001b[0m in \u001b[0;36mpandas.index.IndexEngine.get_loc (pandas/index.c:4154)\u001b[0;34m()\u001b[0m\n",
      "\u001b[0;32mpandas/index.pyx\u001b[0m in \u001b[0;36mpandas.index.IndexEngine.get_loc (pandas/index.c:4018)\u001b[0;34m()\u001b[0m\n",
      "\u001b[0;32mpandas/hashtable.pyx\u001b[0m in \u001b[0;36mpandas.hashtable.PyObjectHashTable.get_item (pandas/hashtable.c:12368)\u001b[0;34m()\u001b[0m\n",
      "\u001b[0;32mpandas/hashtable.pyx\u001b[0m in \u001b[0;36mpandas.hashtable.PyObjectHashTable.get_item (pandas/hashtable.c:12322)\u001b[0;34m()\u001b[0m\n",
      "\u001b[0;31mKeyError\u001b[0m: 0"
     ]
    }
   ],
   "source": [
    "def matrix_factorization(R, P, Q,  steps=1, alpha=0.0002, beta=0.02):\n",
    "    \n",
    "    for step in range(steps):\n",
    "        Rhat = P.dot(Q.T)\n",
    "        difference = R - Rhat\n",
    "        print(P.index)\n",
    "        print(Q.index)\n",
    "        \"\"\"for i in range(len(R)):\n",
    "            for j in range(len(R[i])):\n",
    "                if R[i][j] > 0:\n",
    "                    eij = R[i][j] - dot(P[i],transpose(Q)[j])\n",
    "                    if i == 0 and j == 0:\n",
    "                        print (\"EIJ\", eij)\n",
    "                    for k in range(K):\n",
    "                        P[i][k] = P[i][k] + alpha * (2 * eij * Q[k][j] - beta * P[i][k])\n",
    "                        Q[k][j] = Q[k][j] + alpha * (2 * eij * P[i][k] - beta * Q[k][j])\n",
    "        eR = matMult(P,Q)\n",
    "        e = 0\n",
    "        for i in range(len(R)):\n",
    "            for j in range(len(R[i])):\n",
    "                if R[i][j] > 0:\n",
    "                    e = e + pow(R[i][j] - dot(P[i],transpose(Q)[j]), 2)\n",
    "                    for k in range(K):\n",
    "                        e = e + (beta/2) * (pow(P[i][k],2) + pow(Q[k][j],2))\n",
    "        if e < 0.001:\n",
    "            break\n",
    "    return P, transpose(Q)\"\"\"\n",
    "matrix_factorization(R, P, Q)"
   ]
  },
  {
   "cell_type": "code",
   "execution_count": null,
   "metadata": {
    "collapsed": true
   },
   "outputs": [],
   "source": []
  }
 ],
 "metadata": {
  "anaconda-cloud": {},
  "kernelspec": {
   "display_name": "Python [default]",
   "language": "python",
   "name": "python3"
  },
  "language_info": {
   "codemirror_mode": {
    "name": "ipython",
    "version": 3
   },
   "file_extension": ".py",
   "mimetype": "text/x-python",
   "name": "python",
   "nbconvert_exporter": "python",
   "pygments_lexer": "ipython3",
   "version": "3.5.2"
  }
 },
 "nbformat": 4,
 "nbformat_minor": 0
}
