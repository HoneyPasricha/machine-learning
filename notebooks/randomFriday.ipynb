{
 "cells": [
  {
   "cell_type": "markdown",
   "metadata": {},
   "source": [
    "# Random Friday\n",
    "\n",
    "\n",
    "Here are a few things that may be helpful. (Some of which took a bit of time to figure out - so hopefully this will save you some work.\n",
    "\n",
    "First, let me create a sample dataframe\n"
   ]
  },
  {
   "cell_type": "code",
   "execution_count": 5,
   "metadata": {
    "collapsed": false
   },
   "outputs": [
    {
     "data": {
      "text/html": [
       "<div>\n",
       "<table border=\"1\" class=\"dataframe\">\n",
       "  <thead>\n",
       "    <tr style=\"text-align: right;\">\n",
       "      <th></th>\n",
       "      <th>name</th>\n",
       "      <th>schoolClass</th>\n",
       "      <th>status</th>\n",
       "    </tr>\n",
       "  </thead>\n",
       "  <tbody>\n",
       "    <tr>\n",
       "      <th>0</th>\n",
       "      <td>Ann</td>\n",
       "      <td>senior</td>\n",
       "      <td>in state</td>\n",
       "    </tr>\n",
       "    <tr>\n",
       "      <th>1</th>\n",
       "      <td>Becky</td>\n",
       "      <td>freshman</td>\n",
       "      <td>in state</td>\n",
       "    </tr>\n",
       "    <tr>\n",
       "      <th>2</th>\n",
       "      <td>Clara</td>\n",
       "      <td>junior</td>\n",
       "      <td>out state</td>\n",
       "    </tr>\n",
       "    <tr>\n",
       "      <th>3</th>\n",
       "      <td>Dan</td>\n",
       "      <td>freshman</td>\n",
       "      <td>in state</td>\n",
       "    </tr>\n",
       "    <tr>\n",
       "      <th>4</th>\n",
       "      <td>Lila</td>\n",
       "      <td>junior</td>\n",
       "      <td>out state</td>\n",
       "    </tr>\n",
       "    <tr>\n",
       "      <th>5</th>\n",
       "      <td>Enric</td>\n",
       "      <td>senior</td>\n",
       "      <td>out state</td>\n",
       "    </tr>\n",
       "  </tbody>\n",
       "</table>\n",
       "</div>"
      ],
      "text/plain": [
       "    name schoolClass     status\n",
       "0    Ann      senior   in state\n",
       "1  Becky    freshman   in state\n",
       "2  Clara      junior  out state\n",
       "3    Dan    freshman   in state\n",
       "4   Lila      junior  out state\n",
       "5  Enric      senior  out state"
      ]
     },
     "execution_count": 5,
     "metadata": {},
     "output_type": "execute_result"
    }
   ],
   "source": [
    "import pandas as pd\n",
    "import numpy as np\n",
    "from pandas import DataFrame\n",
    "\n",
    "names = ['Ann', 'Becky', 'Clara', 'Dan', 'Lila', 'Enric']\n",
    "status = ['in state', 'in state', 'out state', 'in state', 'out state', 'out state']\n",
    "schoolClass = ['senior', 'freshman', 'junior', 'freshman', 'junior', 'senior']\n",
    "\n",
    "students = DataFrame({'name': names, 'status': status, 'schoolClass':  schoolClass})\n",
    "students\n",
    "\n"
   ]
  },
  {
   "cell_type": "markdown",
   "metadata": {
    "collapsed": true
   },
   "source": [
    "## creating new columns that are conditional on other columns\n",
    "\n",
    "Suppose I want to make the `schoolClass` and `status` columns numeric so I can do kNN on the dataset.  The status column is easy and we can use `np.where`. The `schoolClass` column requires that we write a little function. Here is how to do both (here I am keeping the original columns and just adding 2 more):"
   ]
  },
  {
   "cell_type": "code",
   "execution_count": 11,
   "metadata": {
    "collapsed": false
   },
   "outputs": [
    {
     "data": {
      "text/html": [
       "<div>\n",
       "<table border=\"1\" class=\"dataframe\">\n",
       "  <thead>\n",
       "    <tr style=\"text-align: right;\">\n",
       "      <th></th>\n",
       "      <th>name</th>\n",
       "      <th>schoolClass</th>\n",
       "      <th>status</th>\n",
       "      <th>in state</th>\n",
       "      <th>year</th>\n",
       "    </tr>\n",
       "  </thead>\n",
       "  <tbody>\n",
       "    <tr>\n",
       "      <th>0</th>\n",
       "      <td>Ann</td>\n",
       "      <td>senior</td>\n",
       "      <td>in state</td>\n",
       "      <td>1</td>\n",
       "      <td>4</td>\n",
       "    </tr>\n",
       "    <tr>\n",
       "      <th>1</th>\n",
       "      <td>Becky</td>\n",
       "      <td>freshman</td>\n",
       "      <td>in state</td>\n",
       "      <td>1</td>\n",
       "      <td>1</td>\n",
       "    </tr>\n",
       "    <tr>\n",
       "      <th>2</th>\n",
       "      <td>Clara</td>\n",
       "      <td>junior</td>\n",
       "      <td>out state</td>\n",
       "      <td>0</td>\n",
       "      <td>3</td>\n",
       "    </tr>\n",
       "    <tr>\n",
       "      <th>3</th>\n",
       "      <td>Dan</td>\n",
       "      <td>freshman</td>\n",
       "      <td>in state</td>\n",
       "      <td>1</td>\n",
       "      <td>1</td>\n",
       "    </tr>\n",
       "    <tr>\n",
       "      <th>4</th>\n",
       "      <td>Lila</td>\n",
       "      <td>junior</td>\n",
       "      <td>out state</td>\n",
       "      <td>0</td>\n",
       "      <td>3</td>\n",
       "    </tr>\n",
       "    <tr>\n",
       "      <th>5</th>\n",
       "      <td>Enric</td>\n",
       "      <td>senior</td>\n",
       "      <td>out state</td>\n",
       "      <td>0</td>\n",
       "      <td>4</td>\n",
       "    </tr>\n",
       "  </tbody>\n",
       "</table>\n",
       "</div>"
      ],
      "text/plain": [
       "    name schoolClass     status  in state  year\n",
       "0    Ann      senior   in state         1     4\n",
       "1  Becky    freshman   in state         1     1\n",
       "2  Clara      junior  out state         0     3\n",
       "3    Dan    freshman   in state         1     1\n",
       "4   Lila      junior  out state         0     3\n",
       "5  Enric      senior  out state         0     4"
      ]
     },
     "execution_count": 11,
     "metadata": {},
     "output_type": "execute_result"
    }
   ],
   "source": [
    "students['in state'] = np.where(students['status']=='in state', 1, 0)\n",
    "\n",
    "# now create a lambda function for the School Class conversion\n",
    "categorize = lambda value: [1,2,3,4][['freshman', 'sophomore', 'junior', 'senior'].index(value)]\n",
    "\n",
    "students['year'] =students['schoolClass'].apply(categorize)\n",
    "students"
   ]
  },
  {
   "cell_type": "markdown",
   "metadata": {},
   "source": [
    "## the minmax scaler\n",
    "\n",
    "In the intro to sklearn notebook we saw how to scale values:"
   ]
  },
  {
   "cell_type": "code",
   "execution_count": 83,
   "metadata": {
    "collapsed": false
   },
   "outputs": [
    {
     "data": {
      "text/html": [
       "<div>\n",
       "<table border=\"1\" class=\"dataframe\">\n",
       "  <thead>\n",
       "    <tr style=\"text-align: right;\">\n",
       "      <th></th>\n",
       "      <th>age</th>\n",
       "      <th>salary</th>\n",
       "    </tr>\n",
       "  </thead>\n",
       "  <tbody>\n",
       "    <tr>\n",
       "      <th>Mr. Cool</th>\n",
       "      <td>26</td>\n",
       "      <td>80000</td>\n",
       "    </tr>\n",
       "    <tr>\n",
       "      <th>Old Dude</th>\n",
       "      <td>67</td>\n",
       "      <td>115000</td>\n",
       "    </tr>\n",
       "    <tr>\n",
       "      <th>Ann</th>\n",
       "      <td>28</td>\n",
       "      <td>100000</td>\n",
       "    </tr>\n",
       "  </tbody>\n",
       "</table>\n",
       "</div>"
      ],
      "text/plain": [
       "          age  salary\n",
       "Mr. Cool   26   80000\n",
       "Old Dude   67  115000\n",
       "Ann        28  100000"
      ]
     },
     "execution_count": 83,
     "metadata": {},
     "output_type": "execute_result"
    }
   ],
   "source": [
    "simple = DataFrame({'age': [26, 67, 28], 'salary': [80000, 115000, 100000]}, index=['Mr. Cool', 'Old Dude', 'Ann'])\n",
    "simple"
   ]
  },
  {
   "cell_type": "markdown",
   "metadata": {},
   "source": [
    "Now using the minmax scaler"
   ]
  },
  {
   "cell_type": "code",
   "execution_count": 84,
   "metadata": {
    "collapsed": false
   },
   "outputs": [
    {
     "data": {
      "text/html": [
       "<div>\n",
       "<table border=\"1\" class=\"dataframe\">\n",
       "  <thead>\n",
       "    <tr style=\"text-align: right;\">\n",
       "      <th></th>\n",
       "      <th>age</th>\n",
       "      <th>salary</th>\n",
       "    </tr>\n",
       "  </thead>\n",
       "  <tbody>\n",
       "    <tr>\n",
       "      <th>Mr. Cool</th>\n",
       "      <td>0.00000</td>\n",
       "      <td>0.000000</td>\n",
       "    </tr>\n",
       "    <tr>\n",
       "      <th>Old Dude</th>\n",
       "      <td>1.00000</td>\n",
       "      <td>1.000000</td>\n",
       "    </tr>\n",
       "    <tr>\n",
       "      <th>Ann</th>\n",
       "      <td>0.04878</td>\n",
       "      <td>0.571429</td>\n",
       "    </tr>\n",
       "  </tbody>\n",
       "</table>\n",
       "</div>"
      ],
      "text/plain": [
       "              age    salary\n",
       "Mr. Cool  0.00000  0.000000\n",
       "Old Dude  1.00000  1.000000\n",
       "Ann       0.04878  0.571429"
      ]
     },
     "execution_count": 84,
     "metadata": {},
     "output_type": "execute_result"
    }
   ],
   "source": [
    "from sklearn.preprocessing import MinMaxScaler\n",
    "scaler = MinMaxScaler()\n",
    "simple[['age', 'salary']] =  scaler.fit_transform(simple[['age', 'salary']] )\n",
    "simple"
   ]
  },
  {
   "cell_type": "markdown",
   "metadata": {},
   "source": [
    "Suppose these people are members of the House of Representatives. Here's how they voted on the \"Treat Everyone with Compassion\" act:"
   ]
  },
  {
   "cell_type": "code",
   "execution_count": 85,
   "metadata": {
    "collapsed": false
   },
   "outputs": [
    {
     "data": {
      "text/html": [
       "<div>\n",
       "<table border=\"1\" class=\"dataframe\">\n",
       "  <thead>\n",
       "    <tr style=\"text-align: right;\">\n",
       "      <th></th>\n",
       "      <th>vote</th>\n",
       "    </tr>\n",
       "  </thead>\n",
       "  <tbody>\n",
       "    <tr>\n",
       "      <th>Mr. Cool</th>\n",
       "      <td>1</td>\n",
       "    </tr>\n",
       "    <tr>\n",
       "      <th>Old Dude</th>\n",
       "      <td>0</td>\n",
       "    </tr>\n",
       "    <tr>\n",
       "      <th>Ann</th>\n",
       "      <td>1</td>\n",
       "    </tr>\n",
       "  </tbody>\n",
       "</table>\n",
       "</div>"
      ],
      "text/plain": [
       "          vote\n",
       "Mr. Cool     1\n",
       "Old Dude     0\n",
       "Ann          1"
      ]
     },
     "execution_count": 85,
     "metadata": {},
     "output_type": "execute_result"
    }
   ],
   "source": [
    "simple_labels = DataFrame({'vote': [1, 0, 1]}, index=['Mr. Cool', 'Old Dude', 'Ann'])\n",
    "simple_labels"
   ]
  },
  {
   "cell_type": "markdown",
   "metadata": {},
   "source": [
    "Let's build a classifier\n"
   ]
  },
  {
   "cell_type": "code",
   "execution_count": 86,
   "metadata": {
    "collapsed": false
   },
   "outputs": [
    {
     "data": {
      "text/plain": [
       "KNeighborsClassifier(algorithm='auto', leaf_size=30, metric='minkowski',\n",
       "           metric_params=None, n_jobs=1, n_neighbors=1, p=2,\n",
       "           weights='uniform')"
      ]
     },
     "execution_count": 86,
     "metadata": {},
     "output_type": "execute_result"
    }
   ],
   "source": [
    "from sklearn.neighbors import KNeighborsClassifier\n",
    "knn = KNeighborsClassifier(n_neighbors=1)\n",
    "knn.fit(simple, simple_labels['vote'])"
   ]
  },
  {
   "cell_type": "markdown",
   "metadata": {},
   "source": [
    "And now I have a few people I would like to classify as to how they voted:"
   ]
  },
  {
   "cell_type": "code",
   "execution_count": 87,
   "metadata": {
    "collapsed": false
   },
   "outputs": [
    {
     "data": {
      "text/html": [
       "<div>\n",
       "<table border=\"1\" class=\"dataframe\">\n",
       "  <thead>\n",
       "    <tr style=\"text-align: right;\">\n",
       "      <th></th>\n",
       "      <th>age</th>\n",
       "      <th>salary</th>\n",
       "    </tr>\n",
       "  </thead>\n",
       "  <tbody>\n",
       "    <tr>\n",
       "      <th>Rev. Daiho</th>\n",
       "      <td>55</td>\n",
       "      <td>80000</td>\n",
       "    </tr>\n",
       "    <tr>\n",
       "      <th>Big Bucks Bob</th>\n",
       "      <td>69</td>\n",
       "      <td>125000</td>\n",
       "    </tr>\n",
       "    <tr>\n",
       "      <th>Jasmine</th>\n",
       "      <td>35</td>\n",
       "      <td>95000</td>\n",
       "    </tr>\n",
       "  </tbody>\n",
       "</table>\n",
       "</div>"
      ],
      "text/plain": [
       "               age  salary\n",
       "Rev. Daiho      55   80000\n",
       "Big Bucks Bob   69  125000\n",
       "Jasmine         35   95000"
      ]
     },
     "execution_count": 87,
     "metadata": {},
     "output_type": "execute_result"
    }
   ],
   "source": [
    "others = DataFrame({'age': [55, 69, 35], 'salary': [80000, 125000, 95000]}, index=['Rev. Daiho', 'Big Bucks Bob', 'Jasmine'])\n",
    "others"
   ]
  },
  {
   "cell_type": "markdown",
   "metadata": {},
   "source": [
    "Now we want to scale those values, but we want to use the same scale I used for the training set. \n",
    "\n",
    "This is easy. When I transformed the training set I used `scaler.fit_transform`. In addition to transforming the dataframe columns, it trained the scaler. When I want to transform a dataset using an already trained scaler I can use `scaler.transform`"
   ]
  },
  {
   "cell_type": "code",
   "execution_count": 88,
   "metadata": {
    "collapsed": false
   },
   "outputs": [
    {
     "data": {
      "text/html": [
       "<div>\n",
       "<table border=\"1\" class=\"dataframe\">\n",
       "  <thead>\n",
       "    <tr style=\"text-align: right;\">\n",
       "      <th></th>\n",
       "      <th>age</th>\n",
       "      <th>salary</th>\n",
       "    </tr>\n",
       "  </thead>\n",
       "  <tbody>\n",
       "    <tr>\n",
       "      <th>Rev. Daiho</th>\n",
       "      <td>0.707317</td>\n",
       "      <td>0.000000</td>\n",
       "    </tr>\n",
       "    <tr>\n",
       "      <th>Big Bucks Bob</th>\n",
       "      <td>1.048780</td>\n",
       "      <td>1.285714</td>\n",
       "    </tr>\n",
       "    <tr>\n",
       "      <th>Jasmine</th>\n",
       "      <td>0.219512</td>\n",
       "      <td>0.428571</td>\n",
       "    </tr>\n",
       "  </tbody>\n",
       "</table>\n",
       "</div>"
      ],
      "text/plain": [
       "                    age    salary\n",
       "Rev. Daiho     0.707317  0.000000\n",
       "Big Bucks Bob  1.048780  1.285714\n",
       "Jasmine        0.219512  0.428571"
      ]
     },
     "execution_count": 88,
     "metadata": {},
     "output_type": "execute_result"
    }
   ],
   "source": [
    "others[['age', 'salary']] =  scaler.transform(others[['age', 'salary']] )\n",
    "others\n"
   ]
  },
  {
   "cell_type": "markdown",
   "metadata": {},
   "source": [
    "Now I can classify those people:"
   ]
  },
  {
   "cell_type": "code",
   "execution_count": 89,
   "metadata": {
    "collapsed": false
   },
   "outputs": [
    {
     "data": {
      "text/plain": [
       "array([1, 0, 1])"
      ]
     },
     "execution_count": 89,
     "metadata": {},
     "output_type": "execute_result"
    }
   ],
   "source": [
    "knn.predict(others)"
   ]
  },
  {
   "cell_type": "markdown",
   "metadata": {},
   "source": [
    "Ok, so we predict that Big Bucks Bob did not vote for the *Treat Everyone with Compassion* Act.\n",
    "\n",
    "\n",
    "## Removing rows with missing data\n",
    "\n",
    "There are many options when dealing with rows with missing data. I am going to skip that entire discussion and just show you how to remove rows that contain missing data. First, some data:"
   ]
  },
  {
   "cell_type": "code",
   "execution_count": 77,
   "metadata": {
    "collapsed": false
   },
   "outputs": [
    {
     "data": {
      "text/html": [
       "<div>\n",
       "<table border=\"1\" class=\"dataframe\">\n",
       "  <thead>\n",
       "    <tr style=\"text-align: right;\">\n",
       "      <th></th>\n",
       "      <th>Name</th>\n",
       "      <th>Sport</th>\n",
       "      <th>Height</th>\n",
       "      <th>Weight</th>\n",
       "    </tr>\n",
       "  </thead>\n",
       "  <tbody>\n",
       "    <tr>\n",
       "      <th>0</th>\n",
       "      <td>Asuka Teramoto</td>\n",
       "      <td>Gymnastics</td>\n",
       "      <td>54.0</td>\n",
       "      <td>66</td>\n",
       "    </tr>\n",
       "    <tr>\n",
       "      <th>1</th>\n",
       "      <td>Brittainey Raven</td>\n",
       "      <td>Basketball</td>\n",
       "      <td>NaN</td>\n",
       "      <td>162</td>\n",
       "    </tr>\n",
       "    <tr>\n",
       "      <th>2</th>\n",
       "      <td>Chen Nan</td>\n",
       "      <td>Basketball</td>\n",
       "      <td>78.0</td>\n",
       "      <td>204</td>\n",
       "    </tr>\n",
       "    <tr>\n",
       "      <th>3</th>\n",
       "      <td>Gabby Douglas</td>\n",
       "      <td>Gymnastics</td>\n",
       "      <td>49.0</td>\n",
       "      <td>90</td>\n",
       "    </tr>\n",
       "    <tr>\n",
       "      <th>4</th>\n",
       "      <td>Helalia Johannes</td>\n",
       "      <td>Track</td>\n",
       "      <td>65.0</td>\n",
       "      <td>99</td>\n",
       "    </tr>\n",
       "    <tr>\n",
       "      <th>5</th>\n",
       "      <td>Irina Miketenko</td>\n",
       "      <td>Track</td>\n",
       "      <td>NaN</td>\n",
       "      <td>106</td>\n",
       "    </tr>\n",
       "    <tr>\n",
       "      <th>6</th>\n",
       "      <td>Jennifer Lacy</td>\n",
       "      <td>Basketball</td>\n",
       "      <td>75.0</td>\n",
       "      <td>175</td>\n",
       "    </tr>\n",
       "    <tr>\n",
       "      <th>7</th>\n",
       "      <td>Kara Goucher</td>\n",
       "      <td>Track</td>\n",
       "      <td>67.0</td>\n",
       "      <td>123</td>\n",
       "    </tr>\n",
       "    <tr>\n",
       "      <th>8</th>\n",
       "      <td>Linlin Deng</td>\n",
       "      <td>Gymnastics</td>\n",
       "      <td>54.0</td>\n",
       "      <td>68</td>\n",
       "    </tr>\n",
       "    <tr>\n",
       "      <th>9</th>\n",
       "      <td>Nakia Sanford</td>\n",
       "      <td>Basketball</td>\n",
       "      <td>76.0</td>\n",
       "      <td>200</td>\n",
       "    </tr>\n",
       "    <tr>\n",
       "      <th>10</th>\n",
       "      <td>Nikki Blue</td>\n",
       "      <td>Basketball</td>\n",
       "      <td>68.0</td>\n",
       "      <td>163</td>\n",
       "    </tr>\n",
       "    <tr>\n",
       "      <th>11</th>\n",
       "      <td>Qiushuang Huang</td>\n",
       "      <td>Gymnastics</td>\n",
       "      <td>61.0</td>\n",
       "      <td>95</td>\n",
       "    </tr>\n",
       "    <tr>\n",
       "      <th>12</th>\n",
       "      <td>Rebecca Tunney</td>\n",
       "      <td>Gymnastics</td>\n",
       "      <td>NaN</td>\n",
       "      <td>77</td>\n",
       "    </tr>\n",
       "    <tr>\n",
       "      <th>13</th>\n",
       "      <td>Rene Kalmer</td>\n",
       "      <td>Track</td>\n",
       "      <td>70.0</td>\n",
       "      <td>108</td>\n",
       "    </tr>\n",
       "    <tr>\n",
       "      <th>14</th>\n",
       "      <td>Shanna Crossley</td>\n",
       "      <td>Basketball</td>\n",
       "      <td>70.0</td>\n",
       "      <td>155</td>\n",
       "    </tr>\n",
       "    <tr>\n",
       "      <th>15</th>\n",
       "      <td>Shavonte Zellous</td>\n",
       "      <td>Basketball</td>\n",
       "      <td>70.0</td>\n",
       "      <td>155</td>\n",
       "    </tr>\n",
       "    <tr>\n",
       "      <th>16</th>\n",
       "      <td>Tatyana Petrova</td>\n",
       "      <td>Track</td>\n",
       "      <td>63.0</td>\n",
       "      <td>108</td>\n",
       "    </tr>\n",
       "    <tr>\n",
       "      <th>17</th>\n",
       "      <td>Tiki Gelana</td>\n",
       "      <td>Track</td>\n",
       "      <td>65.0</td>\n",
       "      <td>106</td>\n",
       "    </tr>\n",
       "    <tr>\n",
       "      <th>18</th>\n",
       "      <td>Valeria Straneo</td>\n",
       "      <td>Track</td>\n",
       "      <td>66.0</td>\n",
       "      <td>97</td>\n",
       "    </tr>\n",
       "    <tr>\n",
       "      <th>19</th>\n",
       "      <td>Viktoria Komova</td>\n",
       "      <td>Gymnastics</td>\n",
       "      <td>61.0</td>\n",
       "      <td>76</td>\n",
       "    </tr>\n",
       "    <tr>\n",
       "      <th>20</th>\n",
       "      <td>Amy Cragg</td>\n",
       "      <td>NaN</td>\n",
       "      <td>64.0</td>\n",
       "      <td>99</td>\n",
       "    </tr>\n",
       "    <tr>\n",
       "      <th>21</th>\n",
       "      <td>Simone Biles</td>\n",
       "      <td>Gymnastics</td>\n",
       "      <td>57.0</td>\n",
       "      <td>104</td>\n",
       "    </tr>\n",
       "    <tr>\n",
       "      <th>22</th>\n",
       "      <td>Madison Kocian</td>\n",
       "      <td>Gymnastics</td>\n",
       "      <td>62.0</td>\n",
       "      <td>101</td>\n",
       "    </tr>\n",
       "    <tr>\n",
       "      <th>23</th>\n",
       "      <td>Elena Delle Donne</td>\n",
       "      <td>Basketball</td>\n",
       "      <td>77.0</td>\n",
       "      <td>188</td>\n",
       "    </tr>\n",
       "    <tr>\n",
       "      <th>24</th>\n",
       "      <td>Seimone Augustus</td>\n",
       "      <td>Basketball</td>\n",
       "      <td>72.0</td>\n",
       "      <td>166</td>\n",
       "    </tr>\n",
       "    <tr>\n",
       "      <th>25</th>\n",
       "      <td>Desiree Linden</td>\n",
       "      <td>Track</td>\n",
       "      <td>61.0</td>\n",
       "      <td>97</td>\n",
       "    </tr>\n",
       "    <tr>\n",
       "      <th>26</th>\n",
       "      <td>Shalane Flanagan</td>\n",
       "      <td>Track</td>\n",
       "      <td>65.0</td>\n",
       "      <td>106</td>\n",
       "    </tr>\n",
       "    <tr>\n",
       "      <th>27</th>\n",
       "      <td>Laurie Hernandez</td>\n",
       "      <td>Gymnastics</td>\n",
       "      <td>60.0</td>\n",
       "      <td>106</td>\n",
       "    </tr>\n",
       "  </tbody>\n",
       "</table>\n",
       "</div>"
      ],
      "text/plain": [
       "                 Name       Sport  Height  Weight\n",
       "0      Asuka Teramoto  Gymnastics    54.0      66\n",
       "1    Brittainey Raven  Basketball     NaN     162\n",
       "2            Chen Nan  Basketball    78.0     204\n",
       "3       Gabby Douglas  Gymnastics    49.0      90\n",
       "4    Helalia Johannes       Track    65.0      99\n",
       "5     Irina Miketenko       Track     NaN     106\n",
       "6       Jennifer Lacy  Basketball    75.0     175\n",
       "7        Kara Goucher       Track    67.0     123\n",
       "8         Linlin Deng  Gymnastics    54.0      68\n",
       "9       Nakia Sanford  Basketball    76.0     200\n",
       "10         Nikki Blue  Basketball    68.0     163\n",
       "11    Qiushuang Huang  Gymnastics    61.0      95\n",
       "12     Rebecca Tunney  Gymnastics     NaN      77\n",
       "13        Rene Kalmer       Track    70.0     108\n",
       "14    Shanna Crossley  Basketball    70.0     155\n",
       "15   Shavonte Zellous  Basketball    70.0     155\n",
       "16    Tatyana Petrova       Track    63.0     108\n",
       "17        Tiki Gelana       Track    65.0     106\n",
       "18    Valeria Straneo       Track    66.0      97\n",
       "19    Viktoria Komova  Gymnastics    61.0      76\n",
       "20          Amy Cragg         NaN    64.0      99\n",
       "21       Simone Biles  Gymnastics    57.0     104\n",
       "22     Madison Kocian  Gymnastics    62.0     101\n",
       "23  Elena Delle Donne  Basketball    77.0     188\n",
       "24   Seimone Augustus  Basketball    72.0     166\n",
       "25     Desiree Linden       Track    61.0      97\n",
       "26   Shalane Flanagan       Track    65.0     106\n",
       "27   Laurie Hernandez  Gymnastics    60.0     106"
      ]
     },
     "execution_count": 77,
     "metadata": {},
     "output_type": "execute_result"
    }
   ],
   "source": [
    "data = pd.read_csv('https://raw.githubusercontent.com/zacharski/machine-learning/master/data/athletesMissingValue.csv')\n",
    "data\n"
   ]
  },
  {
   "cell_type": "markdown",
   "metadata": {},
   "source": [
    "As you can see, some of the rows contain missing data. For example, we don't have a height for Brittainey Raven.  We can remove all rows that have missing values by:\n"
   ]
  },
  {
   "cell_type": "code",
   "execution_count": 78,
   "metadata": {
    "collapsed": false
   },
   "outputs": [
    {
     "data": {
      "text/html": [
       "<div>\n",
       "<table border=\"1\" class=\"dataframe\">\n",
       "  <thead>\n",
       "    <tr style=\"text-align: right;\">\n",
       "      <th></th>\n",
       "      <th>Name</th>\n",
       "      <th>Sport</th>\n",
       "      <th>Height</th>\n",
       "      <th>Weight</th>\n",
       "    </tr>\n",
       "  </thead>\n",
       "  <tbody>\n",
       "    <tr>\n",
       "      <th>0</th>\n",
       "      <td>Asuka Teramoto</td>\n",
       "      <td>Gymnastics</td>\n",
       "      <td>54.0</td>\n",
       "      <td>66</td>\n",
       "    </tr>\n",
       "    <tr>\n",
       "      <th>2</th>\n",
       "      <td>Chen Nan</td>\n",
       "      <td>Basketball</td>\n",
       "      <td>78.0</td>\n",
       "      <td>204</td>\n",
       "    </tr>\n",
       "    <tr>\n",
       "      <th>3</th>\n",
       "      <td>Gabby Douglas</td>\n",
       "      <td>Gymnastics</td>\n",
       "      <td>49.0</td>\n",
       "      <td>90</td>\n",
       "    </tr>\n",
       "    <tr>\n",
       "      <th>4</th>\n",
       "      <td>Helalia Johannes</td>\n",
       "      <td>Track</td>\n",
       "      <td>65.0</td>\n",
       "      <td>99</td>\n",
       "    </tr>\n",
       "    <tr>\n",
       "      <th>6</th>\n",
       "      <td>Jennifer Lacy</td>\n",
       "      <td>Basketball</td>\n",
       "      <td>75.0</td>\n",
       "      <td>175</td>\n",
       "    </tr>\n",
       "    <tr>\n",
       "      <th>7</th>\n",
       "      <td>Kara Goucher</td>\n",
       "      <td>Track</td>\n",
       "      <td>67.0</td>\n",
       "      <td>123</td>\n",
       "    </tr>\n",
       "    <tr>\n",
       "      <th>8</th>\n",
       "      <td>Linlin Deng</td>\n",
       "      <td>Gymnastics</td>\n",
       "      <td>54.0</td>\n",
       "      <td>68</td>\n",
       "    </tr>\n",
       "    <tr>\n",
       "      <th>9</th>\n",
       "      <td>Nakia Sanford</td>\n",
       "      <td>Basketball</td>\n",
       "      <td>76.0</td>\n",
       "      <td>200</td>\n",
       "    </tr>\n",
       "    <tr>\n",
       "      <th>10</th>\n",
       "      <td>Nikki Blue</td>\n",
       "      <td>Basketball</td>\n",
       "      <td>68.0</td>\n",
       "      <td>163</td>\n",
       "    </tr>\n",
       "    <tr>\n",
       "      <th>11</th>\n",
       "      <td>Qiushuang Huang</td>\n",
       "      <td>Gymnastics</td>\n",
       "      <td>61.0</td>\n",
       "      <td>95</td>\n",
       "    </tr>\n",
       "    <tr>\n",
       "      <th>13</th>\n",
       "      <td>Rene Kalmer</td>\n",
       "      <td>Track</td>\n",
       "      <td>70.0</td>\n",
       "      <td>108</td>\n",
       "    </tr>\n",
       "    <tr>\n",
       "      <th>14</th>\n",
       "      <td>Shanna Crossley</td>\n",
       "      <td>Basketball</td>\n",
       "      <td>70.0</td>\n",
       "      <td>155</td>\n",
       "    </tr>\n",
       "    <tr>\n",
       "      <th>15</th>\n",
       "      <td>Shavonte Zellous</td>\n",
       "      <td>Basketball</td>\n",
       "      <td>70.0</td>\n",
       "      <td>155</td>\n",
       "    </tr>\n",
       "    <tr>\n",
       "      <th>16</th>\n",
       "      <td>Tatyana Petrova</td>\n",
       "      <td>Track</td>\n",
       "      <td>63.0</td>\n",
       "      <td>108</td>\n",
       "    </tr>\n",
       "    <tr>\n",
       "      <th>17</th>\n",
       "      <td>Tiki Gelana</td>\n",
       "      <td>Track</td>\n",
       "      <td>65.0</td>\n",
       "      <td>106</td>\n",
       "    </tr>\n",
       "    <tr>\n",
       "      <th>18</th>\n",
       "      <td>Valeria Straneo</td>\n",
       "      <td>Track</td>\n",
       "      <td>66.0</td>\n",
       "      <td>97</td>\n",
       "    </tr>\n",
       "    <tr>\n",
       "      <th>19</th>\n",
       "      <td>Viktoria Komova</td>\n",
       "      <td>Gymnastics</td>\n",
       "      <td>61.0</td>\n",
       "      <td>76</td>\n",
       "    </tr>\n",
       "    <tr>\n",
       "      <th>21</th>\n",
       "      <td>Simone Biles</td>\n",
       "      <td>Gymnastics</td>\n",
       "      <td>57.0</td>\n",
       "      <td>104</td>\n",
       "    </tr>\n",
       "    <tr>\n",
       "      <th>22</th>\n",
       "      <td>Madison Kocian</td>\n",
       "      <td>Gymnastics</td>\n",
       "      <td>62.0</td>\n",
       "      <td>101</td>\n",
       "    </tr>\n",
       "    <tr>\n",
       "      <th>23</th>\n",
       "      <td>Elena Delle Donne</td>\n",
       "      <td>Basketball</td>\n",
       "      <td>77.0</td>\n",
       "      <td>188</td>\n",
       "    </tr>\n",
       "    <tr>\n",
       "      <th>24</th>\n",
       "      <td>Seimone Augustus</td>\n",
       "      <td>Basketball</td>\n",
       "      <td>72.0</td>\n",
       "      <td>166</td>\n",
       "    </tr>\n",
       "    <tr>\n",
       "      <th>25</th>\n",
       "      <td>Desiree Linden</td>\n",
       "      <td>Track</td>\n",
       "      <td>61.0</td>\n",
       "      <td>97</td>\n",
       "    </tr>\n",
       "    <tr>\n",
       "      <th>26</th>\n",
       "      <td>Shalane Flanagan</td>\n",
       "      <td>Track</td>\n",
       "      <td>65.0</td>\n",
       "      <td>106</td>\n",
       "    </tr>\n",
       "    <tr>\n",
       "      <th>27</th>\n",
       "      <td>Laurie Hernandez</td>\n",
       "      <td>Gymnastics</td>\n",
       "      <td>60.0</td>\n",
       "      <td>106</td>\n",
       "    </tr>\n",
       "  </tbody>\n",
       "</table>\n",
       "</div>"
      ],
      "text/plain": [
       "                 Name       Sport  Height  Weight\n",
       "0      Asuka Teramoto  Gymnastics    54.0      66\n",
       "2            Chen Nan  Basketball    78.0     204\n",
       "3       Gabby Douglas  Gymnastics    49.0      90\n",
       "4    Helalia Johannes       Track    65.0      99\n",
       "6       Jennifer Lacy  Basketball    75.0     175\n",
       "7        Kara Goucher       Track    67.0     123\n",
       "8         Linlin Deng  Gymnastics    54.0      68\n",
       "9       Nakia Sanford  Basketball    76.0     200\n",
       "10         Nikki Blue  Basketball    68.0     163\n",
       "11    Qiushuang Huang  Gymnastics    61.0      95\n",
       "13        Rene Kalmer       Track    70.0     108\n",
       "14    Shanna Crossley  Basketball    70.0     155\n",
       "15   Shavonte Zellous  Basketball    70.0     155\n",
       "16    Tatyana Petrova       Track    63.0     108\n",
       "17        Tiki Gelana       Track    65.0     106\n",
       "18    Valeria Straneo       Track    66.0      97\n",
       "19    Viktoria Komova  Gymnastics    61.0      76\n",
       "21       Simone Biles  Gymnastics    57.0     104\n",
       "22     Madison Kocian  Gymnastics    62.0     101\n",
       "23  Elena Delle Donne  Basketball    77.0     188\n",
       "24   Seimone Augustus  Basketball    72.0     166\n",
       "25     Desiree Linden       Track    61.0      97\n",
       "26   Shalane Flanagan       Track    65.0     106\n",
       "27   Laurie Hernandez  Gymnastics    60.0     106"
      ]
     },
     "execution_count": 78,
     "metadata": {},
     "output_type": "execute_result"
    }
   ],
   "source": [
    "data.dropna()"
   ]
  },
  {
   "cell_type": "markdown",
   "metadata": {},
   "source": [
    "As you can see, Brittainey vanishes!\n",
    "\n",
    "\n",
    "## groupby\n",
    "Remember that problem we had on the Pandas Dataframe to fill in a table that looked like:\n",
    "\n",
    "\n",
    "  x | Avg. BMI | Avg. Diabetes Pedigree | Avg. times pregnant | Avg. Plasma glucose |\n",
    "---   | :---: | :---: | :---: | :---: |\n",
    "Has Diabetes |   | |  |\n",
    "Doesn't have Diabetes |   | |  |\n",
    "\n",
    "Chances are good that it took you a bit of code to come up with your solution. Using `groupby` would have made your life easier (you have every right to grumble that I should have mentioned this earlier):"
   ]
  },
  {
   "cell_type": "code",
   "execution_count": 81,
   "metadata": {
    "collapsed": false
   },
   "outputs": [
    {
     "data": {
      "text/html": [
       "<div>\n",
       "<table border=\"1\" class=\"dataframe\">\n",
       "  <thead>\n",
       "    <tr style=\"text-align: right;\">\n",
       "      <th></th>\n",
       "      <th>pregnant</th>\n",
       "      <th>glucose</th>\n",
       "      <th>bp</th>\n",
       "      <th>skinFold</th>\n",
       "      <th>insulin</th>\n",
       "      <th>bmi</th>\n",
       "      <th>pedigree</th>\n",
       "      <th>age</th>\n",
       "    </tr>\n",
       "    <tr>\n",
       "      <th>diabetes</th>\n",
       "      <th></th>\n",
       "      <th></th>\n",
       "      <th></th>\n",
       "      <th></th>\n",
       "      <th></th>\n",
       "      <th></th>\n",
       "      <th></th>\n",
       "      <th></th>\n",
       "    </tr>\n",
       "  </thead>\n",
       "  <tbody>\n",
       "    <tr>\n",
       "      <th>0</th>\n",
       "      <td>3.298000</td>\n",
       "      <td>109.980000</td>\n",
       "      <td>68.184000</td>\n",
       "      <td>19.664000</td>\n",
       "      <td>68.792000</td>\n",
       "      <td>30.304200</td>\n",
       "      <td>0.429734</td>\n",
       "      <td>31.190000</td>\n",
       "    </tr>\n",
       "    <tr>\n",
       "      <th>1</th>\n",
       "      <td>4.865672</td>\n",
       "      <td>141.257463</td>\n",
       "      <td>70.824627</td>\n",
       "      <td>22.164179</td>\n",
       "      <td>100.335821</td>\n",
       "      <td>35.142537</td>\n",
       "      <td>0.550500</td>\n",
       "      <td>37.067164</td>\n",
       "    </tr>\n",
       "  </tbody>\n",
       "</table>\n",
       "</div>"
      ],
      "text/plain": [
       "          pregnant     glucose         bp   skinFold     insulin        bmi  \\\n",
       "diabetes                                                                      \n",
       "0         3.298000  109.980000  68.184000  19.664000   68.792000  30.304200   \n",
       "1         4.865672  141.257463  70.824627  22.164179  100.335821  35.142537   \n",
       "\n",
       "          pedigree        age  \n",
       "diabetes                       \n",
       "0         0.429734  31.190000  \n",
       "1         0.550500  37.067164  "
      ]
     },
     "execution_count": 81,
     "metadata": {},
     "output_type": "execute_result"
    }
   ],
   "source": [
    "# your code here\n",
    "cols = ['pregnant', 'glucose', 'bp', 'skinFold', 'insulin', 'bmi', 'pedigree', 'age', 'diabetes']\n",
    "d6 = pd.read_csv('https://archive.ics.uci.edu/ml/machine-learning-databases/pima-indians-diabetes/pima-indians-diabetes.data', names=cols)\n",
    "d6.groupby('diabetes').mean()\n"
   ]
  },
  {
   "cell_type": "markdown",
   "metadata": {},
   "source": [
    "There is one useful thing (among many) that I use this for. Let's say we build a classifier to determine whether or not a person has diabetes and it is 60% accurate. That is not great but it is better than chance so I think we will should celebrate this small victory!\n",
    "\n",
    "*{Cue ominous music}*\n",
    "\n",
    "#### or is it better than chance?\n",
    "\n",
    "Suppose instead of building a classifier I am just going to guess. What is the best guess to make? To answer this I will use the handydandy `groupby` function.\n",
    "\n"
   ]
  },
  {
   "cell_type": "code",
   "execution_count": 93,
   "metadata": {
    "collapsed": false
   },
   "outputs": [
    {
     "data": {
      "text/html": [
       "<div>\n",
       "<table border=\"1\" class=\"dataframe\">\n",
       "  <thead>\n",
       "    <tr style=\"text-align: right;\">\n",
       "      <th></th>\n",
       "      <th>pregnant</th>\n",
       "      <th>glucose</th>\n",
       "      <th>bp</th>\n",
       "      <th>skinFold</th>\n",
       "      <th>insulin</th>\n",
       "      <th>bmi</th>\n",
       "      <th>pedigree</th>\n",
       "      <th>age</th>\n",
       "    </tr>\n",
       "    <tr>\n",
       "      <th>diabetes</th>\n",
       "      <th></th>\n",
       "      <th></th>\n",
       "      <th></th>\n",
       "      <th></th>\n",
       "      <th></th>\n",
       "      <th></th>\n",
       "      <th></th>\n",
       "      <th></th>\n",
       "    </tr>\n",
       "  </thead>\n",
       "  <tbody>\n",
       "    <tr>\n",
       "      <th>0</th>\n",
       "      <td>500</td>\n",
       "      <td>500</td>\n",
       "      <td>500</td>\n",
       "      <td>500</td>\n",
       "      <td>500</td>\n",
       "      <td>500</td>\n",
       "      <td>500</td>\n",
       "      <td>500</td>\n",
       "    </tr>\n",
       "    <tr>\n",
       "      <th>1</th>\n",
       "      <td>268</td>\n",
       "      <td>268</td>\n",
       "      <td>268</td>\n",
       "      <td>268</td>\n",
       "      <td>268</td>\n",
       "      <td>268</td>\n",
       "      <td>268</td>\n",
       "      <td>268</td>\n",
       "    </tr>\n",
       "  </tbody>\n",
       "</table>\n",
       "</div>"
      ],
      "text/plain": [
       "          pregnant  glucose   bp  skinFold  insulin  bmi  pedigree  age\n",
       "diabetes                                                               \n",
       "0              500      500  500       500      500  500       500  500\n",
       "1              268      268  268       268      268  268       268  268"
      ]
     },
     "execution_count": 93,
     "metadata": {},
     "output_type": "execute_result"
    }
   ],
   "source": [
    "d6.groupby('diabetes').count()\n"
   ]
  },
  {
   "cell_type": "markdown",
   "metadata": {},
   "source": [
    "So if I just all the time guess that people do not have diabetes I will be (500 / 768) or 65% accurate. So the classifier we built was actually worse than chance. Bummer.  So it is a good idea to use `groupby` just to see what the guessing baseline is.\n",
    "\n",
    "\n",
    "### cheating yourself \n",
    "\n",
    "Let's build that diabetes classifier. First we will get some dataframes set up for the problem:"
   ]
  },
  {
   "cell_type": "code",
   "execution_count": 97,
   "metadata": {
    "collapsed": false
   },
   "outputs": [],
   "source": [
    "diabetes_features = d6[['pregnant', 'glucose', 'bp', 'skinFold', 'insulin', 'bmi', 'pedigree', 'age']]\n",
    "diabetes_labels = d6['diabetes']\n"
   ]
  },
  {
   "cell_type": "markdown",
   "metadata": {},
   "source": [
    "and for now let's not bother with scaling anything. \n",
    "\n",
    "##### build the knn classifier"
   ]
  },
  {
   "cell_type": "code",
   "execution_count": 98,
   "metadata": {
    "collapsed": false
   },
   "outputs": [
    {
     "data": {
      "text/plain": [
       "KNeighborsClassifier(algorithm='auto', leaf_size=30, metric='minkowski',\n",
       "           metric_params=None, n_jobs=1, n_neighbors=1, p=2,\n",
       "           weights='uniform')"
      ]
     },
     "execution_count": 98,
     "metadata": {},
     "output_type": "execute_result"
    }
   ],
   "source": [
    "from sklearn.neighbors import KNeighborsClassifier\n",
    "k1nn = KNeighborsClassifier(n_neighbors=1)\n",
    "k1nn.fit(diabetes_features, diabetes_labels)"
   ]
  },
  {
   "cell_type": "markdown",
   "metadata": {},
   "source": [
    "Now I am going to test how accurate the classifier is:"
   ]
  },
  {
   "cell_type": "code",
   "execution_count": 104,
   "metadata": {
    "collapsed": false
   },
   "outputs": [
    {
     "name": "stdout",
     "output_type": "stream",
     "text": [
      "1.0\n"
     ]
    }
   ],
   "source": [
    "predicted =k1nn.predict(diabetes_features)\n",
    "\n",
    "##  and now I am using a super long way to calculate accuracy\n",
    "## (because the easy way is a question on a previsous notebook)\n",
    "actual = np.array(diabetes_labels)\n",
    "total = len(actual)\n",
    "correct = 0\n",
    "for i in range(len(actual)):\n",
    "    if actual[i] == predicted[i]:\n",
    "        correct += 1\n",
    "print(correct / total)\n",
    "\n",
    "\n"
   ]
  },
  {
   "cell_type": "markdown",
   "metadata": {},
   "source": [
    "**Wow** Our algorithm is 100% accurate. Now it is time for a celebration!\n",
    "\n",
    "But is it?\n",
    "\n",
    "We constructed a kNN classifier with a k of 1 (so we are using a single nearest neighbor). And to compute the accuracy we used the same data we trained the classifier on. And the nearest neighbor for person number 1, will be person number 1, for person number 2 it will be person number 2, .... And we know whether that person had diabetes or not! **we misled outselves into thinking we had a great classifier** The problem is most obvious with kNN with a k of 1, bt"
   ]
  }
 ],
 "metadata": {
  "anaconda-cloud": {},
  "kernelspec": {
   "display_name": "Python [conda root]",
   "language": "python",
   "name": "conda-root-py"
  },
  "language_info": {
   "codemirror_mode": {
    "name": "ipython",
    "version": 3
   },
   "file_extension": ".py",
   "mimetype": "text/x-python",
   "name": "python",
   "nbconvert_exporter": "python",
   "pygments_lexer": "ipython3",
   "version": "3.5.2"
  }
 },
 "nbformat": 4,
 "nbformat_minor": 1
}
