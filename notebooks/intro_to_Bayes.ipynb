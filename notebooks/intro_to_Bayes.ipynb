{
 "cells": [
  {
   "cell_type": "markdown",
   "metadata": {},
   "source": [
    "# Naïve Bayes\n",
    "\n",
    "\n",
    "\n",
    "Hello everyone! In this Notebook we will learn about the Naïve Bayes method. With sklearn, Naïve Bayes is nice and easy. But (channeling Tina Turner) there is just one thing. Somehow I never ever seem to do nothing nice and easy. So I would like to do Naïve Bayes nice and rough.  If you want it nice and easy skip to the end.\n",
    "\n"
   ]
  },
  {
   "cell_type": "code",
   "execution_count": 146,
   "metadata": {
    "collapsed": false
   },
   "outputs": [
    {
     "data": {
      "image/jpeg": "[encoded data removed]",
      "text/html": [
       "\n",
       "        <iframe\n",
       "            width=\"400\"\n",
       "            height=\"300\"\n",
       "            src=\"https://www.youtube.com/embed/W_y1NzA4jEc?start=96\"\n",
       "            frameborder=\"0\"\n",
       "            allowfullscreen\n",
       "        ></iframe>\n",
       "        "
      ],
      "text/plain": [
       "<IPython.lib.display.YouTubeVideo at 0x11a91e860>"
      ]
     },
     "execution_count": 146,
     "metadata": {},
     "output_type": "execute_result"
    }
   ],
   "source": [
    "from IPython.display import YouTubeVideo\n",
    "from datetime import timedelta\n",
    "\n",
    "start=int(timedelta(hours=1, minutes=46, seconds=40).total_seconds())\n",
    "\n",
    "#https://youtu.be/dIv-7mXcf1k?t=1m33s\n",
    "YouTubeVideo(\"W_y1NzA4jEc\", start=96)"
   ]
  },
  {
   "cell_type": "code",
   "execution_count": 2,
   "metadata": {
    "collapsed": false,
    "scrolled": true
   },
   "outputs": [
    {
     "data": {
      "image/jpeg": "[encoded data removed]",
      "text/html": [
       "\n",
       "        <iframe\n",
       "            width=\"400\"\n",
       "            height=\"300\"\n",
       "            src=\"https://www.youtube.com/embed/EqIpkMDRjYw\"\n",
       "            frameborder=\"0\"\n",
       "            allowfullscreen\n",
       "        ></iframe>\n",
       "        "
      ],
      "text/plain": [
       "<IPython.lib.display.YouTubeVideo at 0x107adcb70>"
      ]
     },
     "execution_count": 2,
     "metadata": {},
     "output_type": "execute_result"
    }
   ],
   "source": [
    "YouTubeVideo(\"EqIpkMDRjYw\")"
   ]
  },
  {
   "cell_type": "markdown",
   "metadata": {},
   "source": [
    "## Nice and Rough\n",
    "By the rough version I mean writing the algorithm from scratch. Also by *rough* I mean that I am sure there is a better way to do this in Pandas if I was more fluent in it. If you find a better way let me know. You may get rough karma xp.\n",
    "\n",
    "Anyway, this rough version isn't too hard (arghh, I hate it when I say that - let's just say it's not nice and easy and it is not nice and hard). First I will use the quad copter data:"
   ]
  },
  {
   "cell_type": "code",
   "execution_count": 10,
   "metadata": {
    "collapsed": false
   },
   "outputs": [
    {
     "data": {
      "text/html": [
       "<div>\n",
       "<table border=\"1\" class=\"dataframe\">\n",
       "  <thead>\n",
       "    <tr style=\"text-align: right;\">\n",
       "      <th></th>\n",
       "      <th>Outlook</th>\n",
       "      <th>Temperature</th>\n",
       "      <th>Humidity</th>\n",
       "      <th>Wind</th>\n",
       "      <th>Fly Quad?</th>\n",
       "    </tr>\n",
       "    <tr>\n",
       "      <th>Day</th>\n",
       "      <th></th>\n",
       "      <th></th>\n",
       "      <th></th>\n",
       "      <th></th>\n",
       "      <th></th>\n",
       "    </tr>\n",
       "  </thead>\n",
       "  <tbody>\n",
       "    <tr>\n",
       "      <th>1</th>\n",
       "      <td>Sunny</td>\n",
       "      <td>Hot</td>\n",
       "      <td>High</td>\n",
       "      <td>Weak</td>\n",
       "      <td>No</td>\n",
       "    </tr>\n",
       "    <tr>\n",
       "      <th>2</th>\n",
       "      <td>Sunny</td>\n",
       "      <td>Hot</td>\n",
       "      <td>High</td>\n",
       "      <td>Strong</td>\n",
       "      <td>No</td>\n",
       "    </tr>\n",
       "    <tr>\n",
       "      <th>3</th>\n",
       "      <td>Overcast</td>\n",
       "      <td>Hot</td>\n",
       "      <td>High</td>\n",
       "      <td>Weak</td>\n",
       "      <td>Yes</td>\n",
       "    </tr>\n",
       "    <tr>\n",
       "      <th>4</th>\n",
       "      <td>Rain</td>\n",
       "      <td>Mild</td>\n",
       "      <td>High</td>\n",
       "      <td>Weak</td>\n",
       "      <td>Yes</td>\n",
       "    </tr>\n",
       "    <tr>\n",
       "      <th>5</th>\n",
       "      <td>Rain</td>\n",
       "      <td>Cool</td>\n",
       "      <td>Normal</td>\n",
       "      <td>Weak</td>\n",
       "      <td>Yes</td>\n",
       "    </tr>\n",
       "    <tr>\n",
       "      <th>6</th>\n",
       "      <td>Rain</td>\n",
       "      <td>Cool</td>\n",
       "      <td>Normal</td>\n",
       "      <td>Strong</td>\n",
       "      <td>No</td>\n",
       "    </tr>\n",
       "    <tr>\n",
       "      <th>7</th>\n",
       "      <td>Overcast</td>\n",
       "      <td>Cool</td>\n",
       "      <td>Normal</td>\n",
       "      <td>Strong</td>\n",
       "      <td>Yes</td>\n",
       "    </tr>\n",
       "    <tr>\n",
       "      <th>8</th>\n",
       "      <td>Sunny</td>\n",
       "      <td>Mild</td>\n",
       "      <td>High</td>\n",
       "      <td>Weak</td>\n",
       "      <td>No</td>\n",
       "    </tr>\n",
       "    <tr>\n",
       "      <th>9</th>\n",
       "      <td>Sunny</td>\n",
       "      <td>Cool</td>\n",
       "      <td>Normal</td>\n",
       "      <td>Weak</td>\n",
       "      <td>Yes</td>\n",
       "    </tr>\n",
       "    <tr>\n",
       "      <th>10</th>\n",
       "      <td>Rain</td>\n",
       "      <td>Mild</td>\n",
       "      <td>Normal</td>\n",
       "      <td>Weak</td>\n",
       "      <td>Yes</td>\n",
       "    </tr>\n",
       "    <tr>\n",
       "      <th>11</th>\n",
       "      <td>Sunny</td>\n",
       "      <td>Mild</td>\n",
       "      <td>Normal</td>\n",
       "      <td>Strong</td>\n",
       "      <td>Yes</td>\n",
       "    </tr>\n",
       "    <tr>\n",
       "      <th>12</th>\n",
       "      <td>Overcast</td>\n",
       "      <td>Mild</td>\n",
       "      <td>High</td>\n",
       "      <td>Strong</td>\n",
       "      <td>Yes</td>\n",
       "    </tr>\n",
       "    <tr>\n",
       "      <th>13</th>\n",
       "      <td>Overcast</td>\n",
       "      <td>Hot</td>\n",
       "      <td>Normal</td>\n",
       "      <td>Weak</td>\n",
       "      <td>Yes</td>\n",
       "    </tr>\n",
       "    <tr>\n",
       "      <th>14</th>\n",
       "      <td>Rain</td>\n",
       "      <td>Mild</td>\n",
       "      <td>High</td>\n",
       "      <td>Strong</td>\n",
       "      <td>No</td>\n",
       "    </tr>\n",
       "  </tbody>\n",
       "</table>\n",
       "</div>"
      ],
      "text/plain": [
       "      Outlook Temperature Humidity    Wind Fly Quad?\n",
       "Day                                                 \n",
       "1       Sunny         Hot     High    Weak        No\n",
       "2       Sunny         Hot     High  Strong        No\n",
       "3    Overcast         Hot     High    Weak       Yes\n",
       "4        Rain        Mild     High    Weak       Yes\n",
       "5        Rain        Cool   Normal    Weak       Yes\n",
       "6        Rain        Cool   Normal  Strong        No\n",
       "7    Overcast        Cool   Normal  Strong       Yes\n",
       "8       Sunny        Mild     High    Weak        No\n",
       "9       Sunny        Cool   Normal    Weak       Yes\n",
       "10       Rain        Mild   Normal    Weak       Yes\n",
       "11      Sunny        Mild   Normal  Strong       Yes\n",
       "12   Overcast        Mild     High  Strong       Yes\n",
       "13   Overcast         Hot   Normal    Weak       Yes\n",
       "14       Rain        Mild     High  Strong        No"
      ]
     },
     "execution_count": 10,
     "metadata": {},
     "output_type": "execute_result"
    }
   ],
   "source": [
    "import pandas as pd\n",
    "quad = pd.read_csv('https://raw.githubusercontent.com/zacharski/machine-learning/master/data/quad.csv')\n",
    "quad['Fly Quad?'] = quad['Fly Quad?'].astype('category')\n",
    "quad = quad.set_index('Day')\n",
    "quad"
   ]
  },
  {
   "cell_type": "markdown",
   "metadata": {},
   "source": [
    "So we want to learn how to predict the values in the last column, *Fly Quad?*. Just for sake of English discussion let's give that column we want to predict, a name, `classColumn`\n",
    "\n",
    "Here is what we want the algorithm to do\n",
    "\n",
    "    for each category in the classColumn (No and Yes in this case)\n",
    "        for each of the other columns:\n",
    "           compute the conditional probabilities of the value in the other column given the value in the classColumn\n",
    "           \n",
    "\n",
    "So compute things like:\n",
    "\n",
    "## $$P(rain|no) $$\n",
    "\n",
    "which means the probability that it is raining given that I didn't fly my quad.\n",
    "## $$P(sunny|no) $$\n",
    "\n",
    "(the probability that it is sunny given that I didn't fly my quad)\n",
    "\n",
    "and so on. \n",
    "\n",
    "So if we did this mostly by hand....\n",
    "\n",
    "Let's look at the table when we say yes to fly:"
   ]
  },
  {
   "cell_type": "code",
   "execution_count": 11,
   "metadata": {
    "collapsed": false
   },
   "outputs": [
    {
     "data": {
      "text/html": [
       "<div>\n",
       "<table border=\"1\" class=\"dataframe\">\n",
       "  <thead>\n",
       "    <tr style=\"text-align: right;\">\n",
       "      <th></th>\n",
       "      <th>Outlook</th>\n",
       "      <th>Temperature</th>\n",
       "      <th>Humidity</th>\n",
       "      <th>Wind</th>\n",
       "      <th>Fly Quad?</th>\n",
       "    </tr>\n",
       "    <tr>\n",
       "      <th>Day</th>\n",
       "      <th></th>\n",
       "      <th></th>\n",
       "      <th></th>\n",
       "      <th></th>\n",
       "      <th></th>\n",
       "    </tr>\n",
       "  </thead>\n",
       "  <tbody>\n",
       "    <tr>\n",
       "      <th>3</th>\n",
       "      <td>Overcast</td>\n",
       "      <td>Hot</td>\n",
       "      <td>High</td>\n",
       "      <td>Weak</td>\n",
       "      <td>Yes</td>\n",
       "    </tr>\n",
       "    <tr>\n",
       "      <th>4</th>\n",
       "      <td>Rain</td>\n",
       "      <td>Mild</td>\n",
       "      <td>High</td>\n",
       "      <td>Weak</td>\n",
       "      <td>Yes</td>\n",
       "    </tr>\n",
       "    <tr>\n",
       "      <th>5</th>\n",
       "      <td>Rain</td>\n",
       "      <td>Cool</td>\n",
       "      <td>Normal</td>\n",
       "      <td>Weak</td>\n",
       "      <td>Yes</td>\n",
       "    </tr>\n",
       "    <tr>\n",
       "      <th>7</th>\n",
       "      <td>Overcast</td>\n",
       "      <td>Cool</td>\n",
       "      <td>Normal</td>\n",
       "      <td>Strong</td>\n",
       "      <td>Yes</td>\n",
       "    </tr>\n",
       "    <tr>\n",
       "      <th>9</th>\n",
       "      <td>Sunny</td>\n",
       "      <td>Cool</td>\n",
       "      <td>Normal</td>\n",
       "      <td>Weak</td>\n",
       "      <td>Yes</td>\n",
       "    </tr>\n",
       "    <tr>\n",
       "      <th>10</th>\n",
       "      <td>Rain</td>\n",
       "      <td>Mild</td>\n",
       "      <td>Normal</td>\n",
       "      <td>Weak</td>\n",
       "      <td>Yes</td>\n",
       "    </tr>\n",
       "    <tr>\n",
       "      <th>11</th>\n",
       "      <td>Sunny</td>\n",
       "      <td>Mild</td>\n",
       "      <td>Normal</td>\n",
       "      <td>Strong</td>\n",
       "      <td>Yes</td>\n",
       "    </tr>\n",
       "    <tr>\n",
       "      <th>12</th>\n",
       "      <td>Overcast</td>\n",
       "      <td>Mild</td>\n",
       "      <td>High</td>\n",
       "      <td>Strong</td>\n",
       "      <td>Yes</td>\n",
       "    </tr>\n",
       "    <tr>\n",
       "      <th>13</th>\n",
       "      <td>Overcast</td>\n",
       "      <td>Hot</td>\n",
       "      <td>Normal</td>\n",
       "      <td>Weak</td>\n",
       "      <td>Yes</td>\n",
       "    </tr>\n",
       "  </tbody>\n",
       "</table>\n",
       "</div>"
      ],
      "text/plain": [
       "      Outlook Temperature Humidity    Wind Fly Quad?\n",
       "Day                                                 \n",
       "3    Overcast         Hot     High    Weak       Yes\n",
       "4        Rain        Mild     High    Weak       Yes\n",
       "5        Rain        Cool   Normal    Weak       Yes\n",
       "7    Overcast        Cool   Normal  Strong       Yes\n",
       "9       Sunny        Cool   Normal    Weak       Yes\n",
       "10       Rain        Mild   Normal    Weak       Yes\n",
       "11      Sunny        Mild   Normal  Strong       Yes\n",
       "12   Overcast        Mild     High  Strong       Yes\n",
       "13   Overcast         Hot   Normal    Weak       Yes"
      ]
     },
     "execution_count": 11,
     "metadata": {},
     "output_type": "execute_result"
    }
   ],
   "source": [
    "fly = quad.loc[quad['Fly Quad?'] == 'Yes']\n",
    "\n",
    "fly"
   ]
  },
  {
   "cell_type": "markdown",
   "metadata": {},
   "source": [
    "Cool.  Now, for the moment we will focus our attention on values in the outlook column:"
   ]
  },
  {
   "cell_type": "code",
   "execution_count": 12,
   "metadata": {
    "collapsed": false
   },
   "outputs": [
    {
     "data": {
      "text/plain": [
       "<pandas.core.groupby.SeriesGroupBy object at 0x10b8d6c18>"
      ]
     },
     "execution_count": 12,
     "metadata": {},
     "output_type": "execute_result"
    }
   ],
   "source": [
    "grouped = fly['Outlook'].groupby(fly['Outlook'])\n",
    "grouped"
   ]
  },
  {
   "cell_type": "markdown",
   "metadata": {},
   "source": [
    "Now, we will count how many times it was sunny, how many times it was overcast, etc."
   ]
  },
  {
   "cell_type": "code",
   "execution_count": 10,
   "metadata": {
    "collapsed": false
   },
   "outputs": [
    {
     "data": {
      "text/plain": [
       "Outlook\n",
       "Overcast    4\n",
       "Rain        3\n",
       "Sunny       2\n",
       "Name: Outlook, dtype: int64"
      ]
     },
     "execution_count": 10,
     "metadata": {},
     "output_type": "execute_result"
    }
   ],
   "source": [
    "grouped.count()"
   ]
  },
  {
   "cell_type": "markdown",
   "metadata": {},
   "source": [
    "and let's just sum those up so we get the total"
   ]
  },
  {
   "cell_type": "code",
   "execution_count": 15,
   "metadata": {
    "collapsed": false
   },
   "outputs": [
    {
     "data": {
      "text/plain": [
       "9"
      ]
     },
     "execution_count": 15,
     "metadata": {},
     "output_type": "execute_result"
    }
   ],
   "source": [
    "grouped.count().sum()\n",
    "\n"
   ]
  },
  {
   "cell_type": "markdown",
   "metadata": {},
   "source": [
    "ok, looking at the last 2 calculations,  4 of the 9 days that we fly the drone were overcast, 3 were rainy and 2 were sunny.  So we get those probabilities\n",
    "\n",
    "### $$P(overcast|yes) = 4/9 = .444$$\n",
    "### $$P(rain|yes) = 3/9 = .333$$\n",
    "### $$P(sunny|yes) = 2/9 = .222$$\n",
    "\n",
    "Now I am going to write a function `computeTrainingProb` that computes these probabilities"
   ]
  },
  {
   "cell_type": "code",
   "execution_count": 124,
   "metadata": {
    "collapsed": false
   },
   "outputs": [
    {
     "name": "stdout",
     "output_type": "stream",
     "text": [
      "{0: 0.35714285714285715, 1: 0.6428571428571429}\n",
      "{0: {'Day': {1: 0.20000000000000001, 2: 0.20000000000000001, 3: 0, 4: 0, 5: 0, 6: 0.20000000000000001, 7: 0, 8: 0.20000000000000001, 9: 0, 10: 0, 11: 0, 12: 0, 13: 0, 14: 0.20000000000000001}, 'Outlook': {2: 0.59999999999999998, 0: 0, 1: 0.40000000000000002}, 'Temperature': {1: 0.40000000000000002, 2: 0.40000000000000002, 0: 0.20000000000000001}, 'Humidity': {0: 0.80000000000000004, 1: 0.20000000000000001}, 'Wind': {1: 0.40000000000000002, 0: 0.59999999999999998}, 'Fly Quad?': {0: 1.0, 1: 0}}, 1: {'Day': {1: 0, 2: 0, 3: 0.1111111111111111, 4: 0.1111111111111111, 5: 0.1111111111111111, 6: 0, 7: 0.1111111111111111, 8: 0, 9: 0.1111111111111111, 10: 0.1111111111111111, 11: 0.1111111111111111, 12: 0.1111111111111111, 13: 0.1111111111111111, 14: 0}, 'Outlook': {2: 0.22222222222222221, 0: 0.44444444444444442, 1: 0.33333333333333331}, 'Temperature': {1: 0.22222222222222221, 2: 0.44444444444444442, 0: 0.33333333333333331}, 'Humidity': {0: 0.33333333333333331, 1: 0.66666666666666663}, 'Wind': {1: 0.66666666666666663, 0: 0.33333333333333331}, 'Fly Quad?': {0: 0, 1: 1.0}}}\n"
     ]
    }
   ],
   "source": [
    "def constructProbabilities(df, columnValues):\n",
    "    \"\"\"this computes the probabilities for one class-- for example,\n",
    "       when fly=Yes\n",
    "       It returns a dictionary\"\"\"\n",
    "    classProbabilities = {}\n",
    "    for column in df:        \n",
    "        grouped = df[column].groupby(df[column])\n",
    "        gc = grouped.count()\n",
    "        columnProb ={}\n",
    "        total = gc.sum()\n",
    "        for category in columnValues[column]:\n",
    "            if category in gc.index.values:\n",
    "                columnProb[category] = gc.loc[category] / total\n",
    "            else:\n",
    "                columnProb[category] = 0\n",
    "        classProbabilities[column] = columnProb\n",
    "    return classProbabilities\n",
    "        \n",
    "def computeTrainingProb(training_df, classColumn):\n",
    "     # first get a priori probabilities\n",
    "     \n",
    "     grouped = training_df[classColumn].groupby(training_df[classColumn])\n",
    "     gc = grouped.count()   \n",
    "     apriori = {}\n",
    "     total = gc.sum()   \n",
    "     for category, count in gc.iteritems():\n",
    "        apriori[category] = count / total\n",
    "        \n",
    "     # Now let's get the unique values for each column. \n",
    "     # Let's stash them in a dictionary\n",
    "     columnValues = {}\n",
    "     for column in training_df:\n",
    "            columnValues[column] = training_df[column].unique()\n",
    "     \n",
    "     # now compute the conditioanal probabilities   \n",
    "     predictionvalues = training_df[classColumn].unique()\n",
    "     probabilities= {}\n",
    "    \n",
    "     for x in predictionvalues:\n",
    "        tmp = constructProbabilities(training_df.loc[training_df[classColumn] == x], columnValues)\n",
    "        probabilities[x] = tmp\n",
    "     return (apriori, probabilities)\n",
    "\n",
    "aprioriPr, conditionalPr = computeTrainingProb(quad, 'Fly Quad?')\n",
    "print(aprioriPr)\n",
    "print(conditionalPr)\n"
   ]
  },
  {
   "cell_type": "markdown",
   "metadata": {},
   "source": [
    "So in our scheme:\n",
    "\n",
    "### $$P(wind:strong|fly) $$ is"
   ]
  },
  {
   "cell_type": "code",
   "execution_count": 91,
   "metadata": {
    "collapsed": false
   },
   "outputs": [
    {
     "data": {
      "text/plain": [
       "0.33333333333333331"
      ]
     },
     "execution_count": 91,
     "metadata": {},
     "output_type": "execute_result"
    }
   ],
   "source": [
    "conditionalPr['Yes']['Wind']['Strong']"
   ]
  },
  {
   "cell_type": "markdown",
   "metadata": {},
   "source": [
    "and the probability that given we don't fly it is overcast:"
   ]
  },
  {
   "cell_type": "code",
   "execution_count": 92,
   "metadata": {
    "collapsed": false
   },
   "outputs": [
    {
     "data": {
      "text/plain": [
       "0"
      ]
     },
     "execution_count": 92,
     "metadata": {},
     "output_type": "execute_result"
    }
   ],
   "source": [
    "conditionalPr['No']['Outlook']['Overcast']"
   ]
  },
  {
   "cell_type": "markdown",
   "metadata": {},
   "source": [
    "### Probabilities of zero\n",
    "Probabilities of zero are problematic for Naive Bayes Classification.\n",
    "\n",
    "Starting on page 6-36 of the book, it explains why it is a problem.  The book offers one solution. (You should read chapter 6 before starting this Notebook) Let's implement a slightly easier one:\n",
    "\n",
    "### $$P(x | y) = \\frac{m_c + 1}{n + m}$$\n",
    "\n",
    "So in the overcast case when we don't fly. $m_c$ is 0, n = 5, and m is 3 (for sunny, overcast, rain) so we should get\n",
    "\n",
    "### $$P(x | y) = \\frac{m_c + 1}{n + m} = \\frac{0 + 1}{5 + 3}  = \\frac{1}{8} = 0.125 $$\n",
    "\n",
    "<h1 style=\"color:red\">Task 1: Modify the code to implement this change: 25xp</h1>"
   ]
  },
  {
   "cell_type": "code",
   "execution_count": 117,
   "metadata": {
    "collapsed": false
   },
   "outputs": [
    {
     "name": "stdout",
     "output_type": "stream",
     "text": [
      "Outlook {'Sunny': 0.5, 'Overcast': 0.125, 'Rain': 0.375}\n",
      "Temperature {'Hot': 0.375, 'Mild': 0.375, 'Cool': 0.25}\n",
      "Humidity {'High': 0.7142857142857143, 'Normal': 0.2857142857142857}\n",
      "Wind {'Weak': 0.42857142857142855, 'Strong': 0.5714285714285714}\n",
      "Fly Quad? {'No': 0.8571428571428571, 'Yes': 0.14285714285714285}\n",
      "\n",
      "\n",
      "YES\n",
      "Outlook {'Sunny': 0.25, 'Overcast': 0.41666666666666669, 'Rain': 0.33333333333333331}\n",
      "Temperature {'Hot': 0.25, 'Mild': 0.41666666666666669, 'Cool': 0.33333333333333331}\n",
      "Humidity {'High': 0.36363636363636365, 'Normal': 0.63636363636363635}\n",
      "Wind {'Weak': 0.63636363636363635, 'Strong': 0.36363636363636365}\n",
      "Fly Quad? {'No': 0.090909090909090912, 'Yes': 0.90909090909090906}\n"
     ]
    }
   ],
   "source": [
    "## modify this code\n",
    "\n",
    "def constructProbabilities(df, columnValues):\n",
    "    \"\"\"this computes the probabilities for one class-- for example,\n",
    "       when fly=Yes\n",
    "       It returns a dictionary\"\"\"\n",
    "    classProbabilities = {}\n",
    "    for column in df:        \n",
    "        grouped = df[column].groupby(df[column])\n",
    "        gc = grouped.count()\n",
    "        columnProb ={}\n",
    "        total = gc.sum()\n",
    "        for category in columnValues[column]:\n",
    "            if category in gc.index.values:\n",
    "                columnProb[category] = gc.loc[category] / total\n",
    "            else:\n",
    "                columnProb[category] = 0\n",
    "        classProbabilities[column] = columnProb\n",
    "    return classProbabilities\n",
    "        \n",
    "def computeTrainingProb(training_df, classColumn):\n",
    "     # first get a priori probabilities\n",
    "     \n",
    "     grouped = training_df[classColumn].groupby(training_df[classColumn])\n",
    "     gc = grouped.count()   \n",
    "     apriori = {}\n",
    "     total = gc.sum()   \n",
    "     for category, count in gc.iteritems():\n",
    "        apriori[category] = count / total\n",
    "        \n",
    "     # Now let's get the unique values for each column. \n",
    "     # Let's stash them in a dictionary\n",
    "     columnValues = {}\n",
    "     for column in training_df:\n",
    "            columnValues[column] = training_df[column].unique()\n",
    "     \n",
    "     # now compute the conditioanal probabilities   \n",
    "     predictionvalues = training_df[classColumn].unique()\n",
    "     probabilities= {}\n",
    "    \n",
    "     for x in predictionvalues:\n",
    "        tmp = constructProbabilities(training_df.loc[training_df[classColumn] == x], columnValues)\n",
    "        probabilities[x] = tmp\n",
    "     return (apriori, probabilities)\n",
    "\n",
    "aprioriPr, conditionalPr = computeTrainingProb(quad, 'Fly Quad?')\n",
    "#print(aprioriPr)\n",
    "#print(conditionalPr)  \n",
    "\n",
    "for k, v in conditionalPr['No'].items():\n",
    "    print (k, v)\n",
    "\n",
    "print('\\n\\nYES')\n",
    "for k, v in conditionalPr['Yes'].items():\n",
    "    print (k, v)\n"
   ]
  },
  {
   "cell_type": "markdown",
   "metadata": {},
   "source": [
    " here is the test:"
   ]
  },
  {
   "cell_type": "code",
   "execution_count": 98,
   "metadata": {
    "collapsed": false
   },
   "outputs": [
    {
     "data": {
      "text/plain": [
       "0.125"
      ]
     },
     "execution_count": 98,
     "metadata": {},
     "output_type": "execute_result"
    }
   ],
   "source": [
    "conditionalPr['No']['Outlook']['Overcast']\n"
   ]
  },
  {
   "cell_type": "markdown",
   "metadata": {},
   "source": [
    "Check to see if your code produces results that are the same as:\n",
    "\n",
    "##### YES to Fly Quad\n",
    "column | Category | value | Category | value | Category | value\n",
    " :---: | :---: | ---: | :---: | ---: | :---: | ---: \n",
    " Outlook | Sunny | 0.25  | Overcast |  0.4166 | Rain | 0.333\n",
    " Temperature | Hot |  0.25 | Mild | 0.4166 | Cool | 0.33333\n",
    " Humidity | High | 0.3636 | Normal | 0.6363\n",
    "Wind | Weak |  0.63636 | Strong | 0.363636 \n",
    "\n",
    "\n",
    "<h1 style=\"color:red\">Task 2: Write the code to make a prediction from a row of values: 25xp</h1>\n",
    "\n",
    "Let's work through an example. Suppose\n",
    "\n",
    "* Outlook Sunny\n",
    "* Temperature Hot\n",
    "* Humidity High\n",
    "* Wind Strong\n",
    "\n",
    "Let's create a table and populate it with our probabilities\n",
    "\n",
    "Fly? | apriori prob | P(Sunny&#124;fly?) |P(Hot&#124;fly?) |P(High&#124;fly?) |P(Strong&#124;fly?) | Total | Normalized\n",
    ":---: | ---: | ---: | ---: | ---: | ---: | ---: | ---:\n",
    "Yes  | 0.6428 | .25 |  0.25 | 0.3636 | 0.3636 | 0.005312 | 0.1627456\n",
    "No | 0.3571 | 0.5 | 0.375 | 0.7142 | 0.5714 |   0.027332 | 0.8372543\n",
    "\n",
    "\n",
    "The total column is the row values multiplied together so\n",
    " \n",
    "$$ 0.6428 \\times 0.25 \\times  0.25 \\times 0.3636 \\times 0.3636 = 0.005312 $$\n",
    "\n",
    "The normalized column makes it so that the 'no' and 'yes' probabilities add up to one.\n",
    "\n",
    "One little Python reminder. To sort a list of tuples by the second element you do:\n"
   ]
  },
  {
   "cell_type": "code",
   "execution_count": 125,
   "metadata": {
    "collapsed": false
   },
   "outputs": [
    {
     "data": {
      "text/plain": [
       "[('Clara', 97), ('Danny', 92), ('Ann', 87), ('Bill', 86)]"
      ]
     },
     "execution_count": 125,
     "metadata": {},
     "output_type": "execute_result"
    }
   ],
   "source": [
    "grades = [('Ann', 87), ('Bill', 86, ), ('Clara', 97), ('Danny', 92)]\n",
    "sorted(grades, key=lambda x: x[1], reverse=True )"
   ]
  },
  {
   "cell_type": "markdown",
   "metadata": {},
   "source": [
    "### alright - do the work:"
   ]
  },
  {
   "cell_type": "code",
   "execution_count": 17,
   "metadata": {
    "collapsed": false
   },
   "outputs": [
    {
     "data": {
      "text/plain": [
       "[('No', 0.92103600758054327), ('Yes', 0.07896399241945673)]"
      ]
     },
     "execution_count": 17,
     "metadata": {},
     "output_type": "execute_result"
    }
   ],
   "source": [
    "def predict(df, apriori, conditional):\n",
    "    \"\"\"the function takes 3 arguments:\n",
    "          df: the row of data we want to make a prediction on\n",
    "          apriori: the Python dictionary of a priori probabilities\n",
    "          conditional: the Python dictionary of conditional Probabilities\n",
    "          \n",
    "          It should return a sorted list of tuples showing the most probable\n",
    "          prediction first. For example:\n",
    "          \n",
    "          [('No', 0.83725435925823422), ('Yes', 0.1627456407417659)]\n",
    "          \n",
    "          \"\"\"\n",
    "         #### YOUR CODE HERE\n",
    "\n",
    "import pandas as pd\n",
    "df = pd.DataFrame({'Test1': [1, 2, 3], 'Test2': [10, 20, 30] }, index=['Ann','Ben', 'Clara'])\n",
    "df.sum(1)\n",
    "tt = quad.loc[2].drop('Fly Quad?')\n",
    "\n",
    "predict(tt, aprioriPr, conditionalPr)"
   ]
  },
  {
   "cell_type": "markdown",
   "metadata": {
    "collapsed": false
   },
   "source": [
    "**Fantastic!**\n",
    "\n",
    "### Run your prediction code on a test set.\n",
    "\n",
    "Suppose I have a little test set like \n",
    "\n",
    " Outlook | Temperature | Humidity | Wind | Fly Quad?\n",
    "  :----: | :----: | :----: | :----: | :----: | \n",
    " Rain |\tCool\t| High\t| Weak | \tNo\n",
    " \tSunny |\tCool\t| High | \tStrong |\tNo\n",
    " \tOvercast |\tHot | \tHigh |\tStrong |\tYes\n",
    " \tOvercast\t | Mild\t| Normal\t| Weak | \tYes\n",
    " \tRain\t| Mild\t| Normal |\tWeak |\tYes\n",
    "\n",
    "First, let's make a DataFrame"
   ]
  },
  {
   "cell_type": "code",
   "execution_count": 25,
   "metadata": {
    "collapsed": false
   },
   "outputs": [
    {
     "data": {
      "text/html": [
       "<div>\n",
       "<table border=\"1\" class=\"dataframe\">\n",
       "  <thead>\n",
       "    <tr style=\"text-align: right;\">\n",
       "      <th></th>\n",
       "      <th>Fly Quad?</th>\n",
       "      <th>Humidity</th>\n",
       "      <th>Outlook</th>\n",
       "      <th>Temperature</th>\n",
       "      <th>Wind</th>\n",
       "    </tr>\n",
       "  </thead>\n",
       "  <tbody>\n",
       "    <tr>\n",
       "      <th>0</th>\n",
       "      <td>No</td>\n",
       "      <td>High</td>\n",
       "      <td>Rain</td>\n",
       "      <td>Cool</td>\n",
       "      <td>Weak</td>\n",
       "    </tr>\n",
       "    <tr>\n",
       "      <th>1</th>\n",
       "      <td>No</td>\n",
       "      <td>High</td>\n",
       "      <td>Sunny</td>\n",
       "      <td>Cool</td>\n",
       "      <td>Strong</td>\n",
       "    </tr>\n",
       "    <tr>\n",
       "      <th>2</th>\n",
       "      <td>Yes</td>\n",
       "      <td>High</td>\n",
       "      <td>Overcast</td>\n",
       "      <td>Hot</td>\n",
       "      <td>Strong</td>\n",
       "    </tr>\n",
       "    <tr>\n",
       "      <th>3</th>\n",
       "      <td>Yes</td>\n",
       "      <td>Normal</td>\n",
       "      <td>Overcast</td>\n",
       "      <td>Mild</td>\n",
       "      <td>Weak</td>\n",
       "    </tr>\n",
       "    <tr>\n",
       "      <th>4</th>\n",
       "      <td>Yes</td>\n",
       "      <td>Normal</td>\n",
       "      <td>Rain</td>\n",
       "      <td>Mild</td>\n",
       "      <td>Weak</td>\n",
       "    </tr>\n",
       "  </tbody>\n",
       "</table>\n",
       "</div>"
      ],
      "text/plain": [
       "  Fly Quad? Humidity   Outlook Temperature    Wind\n",
       "0        No     High      Rain        Cool    Weak\n",
       "1        No     High     Sunny        Cool  Strong\n",
       "2       Yes     High  Overcast         Hot  Strong\n",
       "3       Yes   Normal  Overcast        Mild    Weak\n",
       "4       Yes   Normal      Rain        Mild    Weak"
      ]
     },
     "execution_count": 25,
     "metadata": {},
     "output_type": "execute_result"
    }
   ],
   "source": [
    "quad_test = pd.DataFrame({'Outlook': ['Rain', 'Sunny', 'Overcast', 'Overcast', 'Rain'],\n",
    "                          'Temperature': ['Cool', 'Cool', 'Hot', 'Mild', 'Mild'],\n",
    "                          'Humidity': ['High', 'High', 'High', 'Normal', 'Normal'],\n",
    "                          'Wind': ['Weak', 'Strong', 'Strong', 'Weak', 'Weak'],\n",
    "                          'Fly Quad?': ['No', 'No', 'Yes', 'Yes', 'Yes']})\n",
    "quad_test"
   ]
  },
  {
   "cell_type": "markdown",
   "metadata": {},
   "source": [
    "now the code to run this test data through our prediction algorithm"
   ]
  },
  {
   "cell_type": "code",
   "execution_count": 21,
   "metadata": {
    "collapsed": false
   },
   "outputs": [],
   "source": [
    "\n",
    "predictor = lambda x:  predict(x, aprioriPr, conditionalPr)[0][0]"
   ]
  },
  {
   "cell_type": "code",
   "execution_count": 24,
   "metadata": {
    "collapsed": false
   },
   "outputs": [
    {
     "data": {
      "text/plain": [
       "0    Yes\n",
       "1     No\n",
       "2    Yes\n",
       "3    Yes\n",
       "4    Yes\n",
       "dtype: object"
      ]
     },
     "execution_count": 24,
     "metadata": {},
     "output_type": "execute_result"
    }
   ],
   "source": [
    "\n",
    "predictions = quad_test[['Outlook', 'Temperature', 'Humidity', 'Wind']].apply(predictor, axis=1)\n",
    "predictions"
   ]
  },
  {
   "cell_type": "markdown",
   "metadata": {},
   "source": [
    "We can just eyeball the accuracy, but let's go ahead and calculate it."
   ]
  },
  {
   "cell_type": "code",
   "execution_count": 26,
   "metadata": {
    "collapsed": false
   },
   "outputs": [
    {
     "data": {
      "text/plain": [
       "0.80000000000000004"
      ]
     },
     "execution_count": 26,
     "metadata": {},
     "output_type": "execute_result"
    }
   ],
   "source": [
    "from sklearn.metrics import accuracy_score\n",
    "accuracy_score(quad_test['Fly Quad?'], predictions)\n"
   ]
  },
  {
   "cell_type": "markdown",
   "metadata": {},
   "source": [
    "<h1 style=\"color:red\">Task 3: Predicting Republican or Democrat: 25xp</h1>\n",
    "<img src=\"http://3.bp.blogspot.com/-JCFOE9moLMY/USJq5xLj0FI/AAAAAAAAAUg/abkl8SA5SwQ/s1600/Dividist+Logo.png\" width=\"350\" />\n",
    "Using the  [\n",
    "Congressional Voting Records Data Set ](https://archive.ics.uci.edu/ml/datasets/Congressional+Voting+Records) can you use the above algorithm to decide whether someone is a Democrat or Republican?\n",
    "\n",
    "For this exercise you can remove the rows that have missing values.\n",
    "\n",
    "You should split your data so you train on 80% and test on 20%"
   ]
  },
  {
   "cell_type": "code",
   "execution_count": 42,
   "metadata": {
    "collapsed": false
   },
   "outputs": [],
   "source": []
  },
  {
   "cell_type": "code",
   "execution_count": null,
   "metadata": {
    "collapsed": false
   },
   "outputs": [],
   "source": []
  },
  {
   "cell_type": "code",
   "execution_count": 44,
   "metadata": {
    "collapsed": true
   },
   "outputs": [],
   "source": []
  },
  {
   "cell_type": "code",
   "execution_count": 48,
   "metadata": {
    "collapsed": false
   },
   "outputs": [],
   "source": []
  },
  {
   "cell_type": "markdown",
   "metadata": {},
   "source": [
    "#### what is your accuracy?"
   ]
  },
  {
   "cell_type": "code",
   "execution_count": 49,
   "metadata": {
    "collapsed": false
   },
   "outputs": [
    {
     "data": {
      "text/plain": [
       "0.95744680851063835"
      ]
     },
     "execution_count": 49,
     "metadata": {},
     "output_type": "execute_result"
    }
   ],
   "source": [
    "from sklearn.metrics import accuracy_score\n",
    "accuracy_score(vote_test['party'], predictions)"
   ]
  },
  {
   "cell_type": "markdown",
   "metadata": {},
   "source": [
    "# Nice and Easy - using sklearn\n",
    "<img src=\"http://www.rippingballs.com/wp-content/uploads/2015/08/IMG_1393.jpg\" width=\"400\" />\n",
    "\n",
    "Ok, so here is what you have been waiting for. The nice and easy approach using sklearn. First, let's do some grungy data wrangling."
   ]
  },
  {
   "cell_type": "code",
   "execution_count": 62,
   "metadata": {
    "collapsed": false
   },
   "outputs": [
    {
     "data": {
      "text/html": [
       "<div>\n",
       "<table border=\"1\" class=\"dataframe\">\n",
       "  <thead>\n",
       "    <tr style=\"text-align: right;\">\n",
       "      <th></th>\n",
       "      <th>Fly Quad?</th>\n",
       "      <th>Humidity</th>\n",
       "      <th>Outlook</th>\n",
       "      <th>Temperature</th>\n",
       "      <th>Wind</th>\n",
       "    </tr>\n",
       "  </thead>\n",
       "  <tbody>\n",
       "    <tr>\n",
       "      <th>0</th>\n",
       "      <td>0</td>\n",
       "      <td>0</td>\n",
       "      <td>1</td>\n",
       "      <td>0</td>\n",
       "      <td>1</td>\n",
       "    </tr>\n",
       "    <tr>\n",
       "      <th>1</th>\n",
       "      <td>0</td>\n",
       "      <td>0</td>\n",
       "      <td>2</td>\n",
       "      <td>0</td>\n",
       "      <td>0</td>\n",
       "    </tr>\n",
       "    <tr>\n",
       "      <th>2</th>\n",
       "      <td>1</td>\n",
       "      <td>0</td>\n",
       "      <td>0</td>\n",
       "      <td>1</td>\n",
       "      <td>0</td>\n",
       "    </tr>\n",
       "    <tr>\n",
       "      <th>3</th>\n",
       "      <td>1</td>\n",
       "      <td>1</td>\n",
       "      <td>0</td>\n",
       "      <td>2</td>\n",
       "      <td>1</td>\n",
       "    </tr>\n",
       "    <tr>\n",
       "      <th>4</th>\n",
       "      <td>1</td>\n",
       "      <td>1</td>\n",
       "      <td>1</td>\n",
       "      <td>2</td>\n",
       "      <td>1</td>\n",
       "    </tr>\n",
       "  </tbody>\n",
       "</table>\n",
       "</div>"
      ],
      "text/plain": [
       "   Fly Quad?  Humidity  Outlook  Temperature  Wind\n",
       "0          0         0        1            0     1\n",
       "1          0         0        2            0     0\n",
       "2          1         0        0            1     0\n",
       "3          1         1        0            2     1\n",
       "4          1         1        1            2     1"
      ]
     },
     "execution_count": 62,
     "metadata": {},
     "output_type": "execute_result"
    }
   ],
   "source": [
    "import pandas as pd\n",
    "quad = pd.read_csv('https://raw.githubusercontent.com/zacharski/machine-learning/master/data/quad.csv')\n",
    "\n",
    "quad['Outlook'] = quad['Outlook'].astype('category')\n",
    "quad['Temperature'] = quad['Temperature'].astype('category')\n",
    "quad['Humidity'] = quad['Humidity'].astype('category')\n",
    "quad['Wind'] = quad['Wind'].astype('category')\n",
    "quad['Fly Quad?'] = quad['Fly Quad?'].astype('category')\n",
    "\n",
    "cat_columns = quad.select_dtypes(['category']).columns\n",
    "quad[cat_columns] = quad[cat_columns].apply(lambda x: x.cat.codes)\n",
    "\n",
    "# now I will create my small test set as I did above:\n",
    "\n",
    "quad_test = pd.DataFrame({'Outlook': ['Rain', 'Sunny', 'Overcast', 'Overcast', 'Rain'],\n",
    "                          'Temperature': ['Cool', 'Cool', 'Hot', 'Mild', 'Mild'],\n",
    "                          'Humidity': ['High', 'High', 'High', 'Normal', 'Normal'],\n",
    "                          'Wind': ['Weak', 'Strong', 'Strong', 'Weak', 'Weak'],\n",
    "                          'Fly Quad?': ['No', 'No', 'Yes', 'Yes', 'Yes']})\n",
    "quad_test['Outlook'] = quad_test['Outlook'].astype('category')\n",
    "quad_test['Temperature'] = quad_test['Temperature'].astype('category')\n",
    "quad_test['Humidity'] = quad_test['Humidity'].astype('category')\n",
    "quad_test['Wind'] = quad_test['Wind'].astype('category')\n",
    "quad_test['Fly Quad?'] = quad_test['Fly Quad?'].astype('category')\n",
    "cat_columns = quad_test.select_dtypes(['category']).columns\n",
    "quad_test[cat_columns] = quad_test[cat_columns].apply(lambda x: x.cat.codes)\n",
    "quad_test"
   ]
  },
  {
   "cell_type": "markdown",
   "metadata": {},
   "source": [
    "All the above looked like a lot of work (and it was) but it was just converting the categorical attributes in the quad dataset to numeric ones. That was something like 90% of the work!\n",
    "\n",
    "# Training the Naive Bayes Classifier\n",
    "\n",
    "Ok so here....\n",
    "\n",
    "Finally ...\n",
    "\n",
    "Is the super easy Naive Bayes Classifier:"
   ]
  },
  {
   "cell_type": "code",
   "execution_count": 61,
   "metadata": {
    "collapsed": false
   },
   "outputs": [
    {
     "data": {
      "text/plain": [
       "GaussianNB(priors=None)"
      ]
     },
     "execution_count": 61,
     "metadata": {},
     "output_type": "execute_result"
    }
   ],
   "source": [
    "from sklearn.naive_bayes import GaussianNB\n",
    "clf = GaussianNB()\n",
    "clf.fit(quad[['Outlook', 'Temperature', 'Humidity', 'Wind']], quad['Fly Quad?'])"
   ]
  },
  {
   "cell_type": "markdown",
   "metadata": {},
   "source": [
    "### Using the Naive Bayes Classifier to make Predictions"
   ]
  },
  {
   "cell_type": "code",
   "execution_count": 63,
   "metadata": {
    "collapsed": false
   },
   "outputs": [
    {
     "data": {
      "text/plain": [
       "array([1, 0, 1, 1, 1], dtype=int8)"
      ]
     },
     "execution_count": 63,
     "metadata": {},
     "output_type": "execute_result"
    }
   ],
   "source": [
    "predictions = clf.predict(quad_test[['Outlook', 'Temperature', 'Humidity', 'Wind']])\n",
    "predictions"
   ]
  },
  {
   "cell_type": "markdown",
   "metadata": {},
   "source": [
    "## Gaussian Bayes Classifier\n",
    "The Naïve Bayes classifier was originally designed to work with categorical data. \n",
    "Starting on page 6.45 of the book, I describe a variation of the algorithm that can be applied to numerical data. The sklearn algorithm we just used is a Gaussian one which can easily handle numeric data. Let's give it a try\n",
    "<img src=\"https://upload.wikimedia.org/wikipedia/commons/1/1e/IMG_7911-Iris_virginica.jpg\" width=\"250\" />\n"
   ]
  },
  {
   "cell_type": "code",
   "execution_count": 120,
   "metadata": {
    "collapsed": false
   },
   "outputs": [
    {
     "data": {
      "text/plain": [
       "GaussianNB(priors=None)"
      ]
     },
     "execution_count": 120,
     "metadata": {},
     "output_type": "execute_result"
    }
   ],
   "source": [
    "from sklearn.model_selection import train_test_split\n",
    "\n",
    "iris = pd.read_csv('https://raw.githubusercontent.com/zacharski/machine-learning/master/data/iris.csv')\n",
    "iris_train, iris_test = train_test_split(iris, test_size = 0.2)\n",
    "\n",
    "irisClf = GaussianNB()\n",
    "irisClf.fit(iris_train[['Sepal Length', 'Sepal Width', 'Petal Length', 'Petal Width']], iris_train['Class'])"
   ]
  },
  {
   "cell_type": "code",
   "execution_count": 121,
   "metadata": {
    "collapsed": false
   },
   "outputs": [
    {
     "data": {
      "text/plain": [
       "0.96666666666666667"
      ]
     },
     "execution_count": 121,
     "metadata": {},
     "output_type": "execute_result"
    }
   ],
   "source": [
    "iris_predictions = irisClf.predict(iris_test[['Sepal Length', 'Sepal Width', 'Petal Length', 'Petal Width']])\n",
    "from sklearn.metrics import accuracy_score\n",
    "accuracy_score(iris_test['Class'], iris_predictions)"
   ]
  },
  {
   "cell_type": "markdown",
   "metadata": {},
   "source": [
    "So we loaded the data, build and trained a classifier, and used it to make predictions. all in 8 lines of code!!!\n",
    "\n",
    "\n",
    "\n",
    "\n",
    "<h1 style=\"color:red\">Task 4: Using sklearn to predict Republican or Democrat: 35xp</h1>\n",
    "        \n",
    "The header explains it all. Please show the accuracy        \n",
    "<img src=\"https://goodmorningwilton.com/wp-content/uploads/2016/01/republican-elephant-and-democratic-donkey-icons-party-symbols.jpg\" width=\"350\" />\n"
   ]
  },
  {
   "cell_type": "code",
   "execution_count": 110,
   "metadata": {
    "collapsed": true
   },
   "outputs": [],
   "source": []
  },
  {
   "cell_type": "code",
   "execution_count": null,
   "metadata": {
    "collapsed": false
   },
   "outputs": [],
   "source": [
    "\n"
   ]
  },
  {
   "cell_type": "code",
   "execution_count": null,
   "metadata": {
    "collapsed": false
   },
   "outputs": [],
   "source": []
  },
  {
   "cell_type": "code",
   "execution_count": null,
   "metadata": {
    "collapsed": false
   },
   "outputs": [],
   "source": []
  },
  {
   "cell_type": "code",
   "execution_count": null,
   "metadata": {
    "collapsed": false
   },
   "outputs": [],
   "source": []
  },
  {
   "cell_type": "code",
   "execution_count": 114,
   "metadata": {
    "collapsed": false
   },
   "outputs": [
    {
     "data": {
      "text/plain": [
       "GaussianNB(priors=None)"
      ]
     },
     "execution_count": 114,
     "metadata": {},
     "output_type": "execute_result"
    }
   ],
   "source": []
  },
  {
   "cell_type": "code",
   "execution_count": 115,
   "metadata": {
    "collapsed": false
   },
   "outputs": [],
   "source": []
  },
  {
   "cell_type": "code",
   "execution_count": null,
   "metadata": {
    "collapsed": false
   },
   "outputs": [],
   "source": []
  },
  {
   "cell_type": "code",
   "execution_count": 118,
   "metadata": {
    "collapsed": false
   },
   "outputs": [
    {
     "data": {
      "text/plain": [
       "0.8936170212765957"
      ]
     },
     "execution_count": 118,
     "metadata": {},
     "output_type": "execute_result"
    }
   ],
   "source": [
    "from sklearn.metrics import accuracy_score\n",
    "accuracy_score(vote_test['party'], predictions)"
   ]
  },
  {
   "cell_type": "markdown",
   "metadata": {},
   "source": [
    "### I am happy to report that the classifier I built using the **nice and rough** method outperformed the sklearn one"
   ]
  },
  {
   "cell_type": "code",
   "execution_count": 3,
   "metadata": {
    "collapsed": false
   },
   "outputs": [
    {
     "data": {
      "image/jpeg": "[encoded data removed]",
      "text/html": [
       "\n",
       "        <iframe\n",
       "            width=\"400\"\n",
       "            height=\"300\"\n",
       "            src=\"https://www.youtube.com/embed/8cF0tf35Mbo\"\n",
       "            frameborder=\"0\"\n",
       "            allowfullscreen\n",
       "        ></iframe>\n",
       "        "
      ],
      "text/plain": [
       "<IPython.lib.display.YouTubeVideo at 0x107adc9b0>"
      ]
     },
     "execution_count": 3,
     "metadata": {},
     "output_type": "execute_result"
    }
   ],
   "source": [
    "YouTubeVideo(\"8cF0tf35Mbo\")"
   ]
  },
  {
   "cell_type": "code",
   "execution_count": null,
   "metadata": {
    "collapsed": true
   },
   "outputs": [],
   "source": []
  }
 ],
 "metadata": {
  "kernelspec": {
   "display_name": "Python 3",
   "language": "python",
   "name": "python3"
  },
  "language_info": {
   "codemirror_mode": {
    "name": "ipython",
    "version": 3
   },
   "file_extension": ".py",
   "mimetype": "text/x-python",
   "name": "python",
   "nbconvert_exporter": "python",
   "pygments_lexer": "ipython3",
   "version": "3.6.0"
  }
 },
 "nbformat": 4,
 "nbformat_minor": 2
}
