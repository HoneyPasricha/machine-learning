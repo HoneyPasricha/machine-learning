{
 "cells": [
  {
   "cell_type": "markdown",
   "metadata": {},
   "source": [
    "# Introduction to Clustering\n",
    "\n",
    "\n",
    "<p><div style=\"float:right;margin-left:5px;\"><img src=\"https://cambridge-intelligence.com/wp-content/uploads/2016/01/clustering-animated.gif\" width=\"500\"/></div></p>\n",
    "This notebook is short and sweet and covers both hierarchical clustering and k-means clustering.\n",
    "\n",
    "Let's start with the example we did in class, the dog breed dataset.\n",
    "\n",
    "First, we will load the dataset:"
   ]
  },
  {
   "cell_type": "code",
   "execution_count": 3,
   "metadata": {
    "collapsed": false
   },
   "outputs": [],
   "source": [
    "import pandas as pd\n",
    "dog_data = pd.read_csv('https://raw.githubusercontent.com/zacharski/machine-learning/master/data/dogbreeds.csv')\n",
    "dog_data = dog_data.set_index('breed')"
   ]
  },
  {
   "cell_type": "code",
   "execution_count": 4,
   "metadata": {
    "collapsed": false
   },
   "outputs": [
    {
     "data": {
      "text/html": [
       "<div>\n",
       "<table border=\"1\" class=\"dataframe\">\n",
       "  <thead>\n",
       "    <tr style=\"text-align: right;\">\n",
       "      <th></th>\n",
       "      <th>height (inches)</th>\n",
       "      <th>weight (pounds)</th>\n",
       "    </tr>\n",
       "    <tr>\n",
       "      <th>breed</th>\n",
       "      <th></th>\n",
       "      <th></th>\n",
       "    </tr>\n",
       "  </thead>\n",
       "  <tbody>\n",
       "    <tr>\n",
       "      <th>Border Collie</th>\n",
       "      <td>20</td>\n",
       "      <td>45</td>\n",
       "    </tr>\n",
       "    <tr>\n",
       "      <th>Boston Terrier</th>\n",
       "      <td>16</td>\n",
       "      <td>20</td>\n",
       "    </tr>\n",
       "    <tr>\n",
       "      <th>Brittany Spaniel</th>\n",
       "      <td>18</td>\n",
       "      <td>35</td>\n",
       "    </tr>\n",
       "    <tr>\n",
       "      <th>Bullmastiff</th>\n",
       "      <td>27</td>\n",
       "      <td>120</td>\n",
       "    </tr>\n",
       "    <tr>\n",
       "      <th>Chihuahua</th>\n",
       "      <td>8</td>\n",
       "      <td>8</td>\n",
       "    </tr>\n",
       "    <tr>\n",
       "      <th>German Shepherd</th>\n",
       "      <td>25</td>\n",
       "      <td>78</td>\n",
       "    </tr>\n",
       "    <tr>\n",
       "      <th>Golden Retreiver</th>\n",
       "      <td>23</td>\n",
       "      <td>70</td>\n",
       "    </tr>\n",
       "    <tr>\n",
       "      <th>Great Dane</th>\n",
       "      <td>32</td>\n",
       "      <td>160</td>\n",
       "    </tr>\n",
       "    <tr>\n",
       "      <th>Portuguese Water Dog</th>\n",
       "      <td>21</td>\n",
       "      <td>50</td>\n",
       "    </tr>\n",
       "    <tr>\n",
       "      <th>Standard Poodle</th>\n",
       "      <td>19</td>\n",
       "      <td>65</td>\n",
       "    </tr>\n",
       "    <tr>\n",
       "      <th>Yorkshire Terrier</th>\n",
       "      <td>6</td>\n",
       "      <td>7</td>\n",
       "    </tr>\n",
       "  </tbody>\n",
       "</table>\n",
       "</div>"
      ],
      "text/plain": [
       "                      height (inches)  weight (pounds)\n",
       "breed                                                 \n",
       "Border Collie                      20               45\n",
       "Boston Terrier                     16               20\n",
       "Brittany Spaniel                   18               35\n",
       "Bullmastiff                        27              120\n",
       "Chihuahua                           8                8\n",
       "German Shepherd                    25               78\n",
       "Golden Retreiver                   23               70\n",
       "Great Dane                         32              160\n",
       "Portuguese Water Dog               21               50\n",
       "Standard Poodle                    19               65\n",
       "Yorkshire Terrier                   6                7"
      ]
     },
     "execution_count": 4,
     "metadata": {},
     "output_type": "execute_result"
    }
   ],
   "source": [
    "dog_data"
   ]
  },
  {
   "cell_type": "markdown",
   "metadata": {},
   "source": [
    "Looking at the values in the height and weight columns it looks like we should normalize the data.\n",
    "\n",
    "<img src=\"http://animalfair.com/wp-content/uploads/2014/08/chihuahua-and-great-dane.jpg\" width=\"700\"/>\n"
   ]
  },
  {
   "cell_type": "code",
   "execution_count": 6,
   "metadata": {
    "collapsed": false
   },
   "outputs": [],
   "source": [
    "## TODO\n"
   ]
  },
  {
   "cell_type": "markdown",
   "metadata": {},
   "source": [
    "And let's visualize that data:"
   ]
  },
  {
   "cell_type": "code",
   "execution_count": 8,
   "metadata": {
    "collapsed": false
   },
   "outputs": [
    {
     "data": {
      "text/html": [
       "\n",
       "    <div class=\"bk-root\">\n",
       "        <a href=\"http://bokeh.pydata.org\" target=\"_blank\" class=\"bk-logo bk-logo-small bk-logo-notebook\"></a>\n",
       "        <span id=\"e13f60ed-6ece-494b-a0fb-a8d5f2ff8898\">Loading BokehJS ...</span>\n",
       "    </div>"
      ]
     },
     "metadata": {},
     "output_type": "display_data"
    },
    {
     "data": {
      "application/javascript": [
       "\n",
       "(function(global) {\n",
       "  function now() {\n",
       "    return new Date();\n",
       "  }\n",
       "\n",
       "  var force = true;\n",
       "\n",
       "  if (typeof (window._bokeh_onload_callbacks) === \"undefined\" || force === true) {\n",
       "    window._bokeh_onload_callbacks = [];\n",
       "    window._bokeh_is_loading = undefined;\n",
       "  }\n",
       "\n",
       "\n",
       "  \n",
       "  if (typeof (window._bokeh_timeout) === \"undefined\" || force === true) {\n",
       "    window._bokeh_timeout = Date.now() + 5000;\n",
       "    window._bokeh_failed_load = false;\n",
       "  }\n",
       "\n",
       "  var NB_LOAD_WARNING = {'data': {'text/html':\n",
       "     \"<div style='background-color: #fdd'>\\n\"+\n",
       "     \"<p>\\n\"+\n",
       "     \"BokehJS does not appear to have successfully loaded. If loading BokehJS from CDN, this \\n\"+\n",
       "     \"may be due to a slow or bad network connection. Possible fixes:\\n\"+\n",
       "     \"</p>\\n\"+\n",
       "     \"<ul>\\n\"+\n",
       "     \"<li>re-rerun `output_notebook()` to attempt to load from CDN again, or</li>\\n\"+\n",
       "     \"<li>use INLINE resources instead, as so:</li>\\n\"+\n",
       "     \"</ul>\\n\"+\n",
       "     \"<code>\\n\"+\n",
       "     \"from bokeh.resources import INLINE\\n\"+\n",
       "     \"output_notebook(resources=INLINE)\\n\"+\n",
       "     \"</code>\\n\"+\n",
       "     \"</div>\"}};\n",
       "\n",
       "  function display_loaded() {\n",
       "    if (window.Bokeh !== undefined) {\n",
       "      document.getElementById(\"e13f60ed-6ece-494b-a0fb-a8d5f2ff8898\").textContent = \"BokehJS successfully loaded.\";\n",
       "    } else if (Date.now() < window._bokeh_timeout) {\n",
       "      setTimeout(display_loaded, 100)\n",
       "    }\n",
       "  }\n",
       "\n",
       "  function run_callbacks() {\n",
       "    window._bokeh_onload_callbacks.forEach(function(callback) { callback() });\n",
       "    delete window._bokeh_onload_callbacks\n",
       "    console.info(\"Bokeh: all callbacks have finished\");\n",
       "  }\n",
       "\n",
       "  function load_libs(js_urls, callback) {\n",
       "    window._bokeh_onload_callbacks.push(callback);\n",
       "    if (window._bokeh_is_loading > 0) {\n",
       "      console.log(\"Bokeh: BokehJS is being loaded, scheduling callback at\", now());\n",
       "      return null;\n",
       "    }\n",
       "    if (js_urls == null || js_urls.length === 0) {\n",
       "      run_callbacks();\n",
       "      return null;\n",
       "    }\n",
       "    console.log(\"Bokeh: BokehJS not loaded, scheduling load and callback at\", now());\n",
       "    window._bokeh_is_loading = js_urls.length;\n",
       "    for (var i = 0; i < js_urls.length; i++) {\n",
       "      var url = js_urls[i];\n",
       "      var s = document.createElement('script');\n",
       "      s.src = url;\n",
       "      s.async = false;\n",
       "      s.onreadystatechange = s.onload = function() {\n",
       "        window._bokeh_is_loading--;\n",
       "        if (window._bokeh_is_loading === 0) {\n",
       "          console.log(\"Bokeh: all BokehJS libraries loaded\");\n",
       "          run_callbacks()\n",
       "        }\n",
       "      };\n",
       "      s.onerror = function() {\n",
       "        console.warn(\"failed to load library \" + url);\n",
       "      };\n",
       "      console.log(\"Bokeh: injecting script tag for BokehJS library: \", url);\n",
       "      document.getElementsByTagName(\"head\")[0].appendChild(s);\n",
       "    }\n",
       "  };var element = document.getElementById(\"e13f60ed-6ece-494b-a0fb-a8d5f2ff8898\");\n",
       "  if (element == null) {\n",
       "    console.log(\"Bokeh: ERROR: autoload.js configured with elementid 'e13f60ed-6ece-494b-a0fb-a8d5f2ff8898' but no matching script tag was found. \")\n",
       "    return false;\n",
       "  }\n",
       "\n",
       "  var js_urls = [\"https://cdn.pydata.org/bokeh/release/bokeh-0.12.4.min.js\", \"https://cdn.pydata.org/bokeh/release/bokeh-widgets-0.12.4.min.js\"];\n",
       "\n",
       "  var inline_js = [\n",
       "    function(Bokeh) {\n",
       "      Bokeh.set_log_level(\"info\");\n",
       "    },\n",
       "    \n",
       "    function(Bokeh) {\n",
       "      \n",
       "      document.getElementById(\"e13f60ed-6ece-494b-a0fb-a8d5f2ff8898\").textContent = \"BokehJS is loading...\";\n",
       "    },\n",
       "    function(Bokeh) {\n",
       "      console.log(\"Bokeh: injecting CSS: https://cdn.pydata.org/bokeh/release/bokeh-0.12.4.min.css\");\n",
       "      Bokeh.embed.inject_css(\"https://cdn.pydata.org/bokeh/release/bokeh-0.12.4.min.css\");\n",
       "      console.log(\"Bokeh: injecting CSS: https://cdn.pydata.org/bokeh/release/bokeh-widgets-0.12.4.min.css\");\n",
       "      Bokeh.embed.inject_css(\"https://cdn.pydata.org/bokeh/release/bokeh-widgets-0.12.4.min.css\");\n",
       "    }\n",
       "  ];\n",
       "\n",
       "  function run_inline_js() {\n",
       "    \n",
       "    if ((window.Bokeh !== undefined) || (force === true)) {\n",
       "      for (var i = 0; i < inline_js.length; i++) {\n",
       "        inline_js[i](window.Bokeh);\n",
       "      }if (force === true) {\n",
       "        display_loaded();\n",
       "      }} else if (Date.now() < window._bokeh_timeout) {\n",
       "      setTimeout(run_inline_js, 100);\n",
       "    } else if (!window._bokeh_failed_load) {\n",
       "      console.log(\"Bokeh: BokehJS failed to load within specified timeout.\");\n",
       "      window._bokeh_failed_load = true;\n",
       "    } else if (force !== true) {\n",
       "      var cell = $(document.getElementById(\"e13f60ed-6ece-494b-a0fb-a8d5f2ff8898\")).parents('.cell').data().cell;\n",
       "      cell.output_area.append_execute_result(NB_LOAD_WARNING)\n",
       "    }\n",
       "\n",
       "  }\n",
       "\n",
       "  if (window._bokeh_is_loading === 0) {\n",
       "    console.log(\"Bokeh: BokehJS loaded, going straight to plotting\");\n",
       "    run_inline_js();\n",
       "  } else {\n",
       "    load_libs(js_urls, function() {\n",
       "      console.log(\"Bokeh: BokehJS plotting callback run at\", now());\n",
       "      run_inline_js();\n",
       "    });\n",
       "  }\n",
       "}(this));"
      ]
     },
     "metadata": {},
     "output_type": "display_data"
    },
    {
     "data": {
      "text/html": [
       "\n",
       "\n",
       "    <div class=\"bk-root\">\n",
       "        <div class=\"bk-plotdiv\" id=\"dd8aa867-35ca-4f40-98e4-10fac0e45619\"></div>\n",
       "    </div>\n",
       "<script type=\"text/javascript\">\n",
       "  \n",
       "  (function(global) {\n",
       "    function now() {\n",
       "      return new Date();\n",
       "    }\n",
       "  \n",
       "    var force = false;\n",
       "  \n",
       "    if (typeof (window._bokeh_onload_callbacks) === \"undefined\" || force === true) {\n",
       "      window._bokeh_onload_callbacks = [];\n",
       "      window._bokeh_is_loading = undefined;\n",
       "    }\n",
       "  \n",
       "  \n",
       "    \n",
       "    if (typeof (window._bokeh_timeout) === \"undefined\" || force === true) {\n",
       "      window._bokeh_timeout = Date.now() + 0;\n",
       "      window._bokeh_failed_load = false;\n",
       "    }\n",
       "  \n",
       "    var NB_LOAD_WARNING = {'data': {'text/html':\n",
       "       \"<div style='background-color: #fdd'>\\n\"+\n",
       "       \"<p>\\n\"+\n",
       "       \"BokehJS does not appear to have successfully loaded. If loading BokehJS from CDN, this \\n\"+\n",
       "       \"may be due to a slow or bad network connection. Possible fixes:\\n\"+\n",
       "       \"</p>\\n\"+\n",
       "       \"<ul>\\n\"+\n",
       "       \"<li>re-rerun `output_notebook()` to attempt to load from CDN again, or</li>\\n\"+\n",
       "       \"<li>use INLINE resources instead, as so:</li>\\n\"+\n",
       "       \"</ul>\\n\"+\n",
       "       \"<code>\\n\"+\n",
       "       \"from bokeh.resources import INLINE\\n\"+\n",
       "       \"output_notebook(resources=INLINE)\\n\"+\n",
       "       \"</code>\\n\"+\n",
       "       \"</div>\"}};\n",
       "  \n",
       "    function display_loaded() {\n",
       "      if (window.Bokeh !== undefined) {\n",
       "        document.getElementById(\"dd8aa867-35ca-4f40-98e4-10fac0e45619\").textContent = \"BokehJS successfully loaded.\";\n",
       "      } else if (Date.now() < window._bokeh_timeout) {\n",
       "        setTimeout(display_loaded, 100)\n",
       "      }\n",
       "    }\n",
       "  \n",
       "    function run_callbacks() {\n",
       "      window._bokeh_onload_callbacks.forEach(function(callback) { callback() });\n",
       "      delete window._bokeh_onload_callbacks\n",
       "      console.info(\"Bokeh: all callbacks have finished\");\n",
       "    }\n",
       "  \n",
       "    function load_libs(js_urls, callback) {\n",
       "      window._bokeh_onload_callbacks.push(callback);\n",
       "      if (window._bokeh_is_loading > 0) {\n",
       "        console.log(\"Bokeh: BokehJS is being loaded, scheduling callback at\", now());\n",
       "        return null;\n",
       "      }\n",
       "      if (js_urls == null || js_urls.length === 0) {\n",
       "        run_callbacks();\n",
       "        return null;\n",
       "      }\n",
       "      console.log(\"Bokeh: BokehJS not loaded, scheduling load and callback at\", now());\n",
       "      window._bokeh_is_loading = js_urls.length;\n",
       "      for (var i = 0; i < js_urls.length; i++) {\n",
       "        var url = js_urls[i];\n",
       "        var s = document.createElement('script');\n",
       "        s.src = url;\n",
       "        s.async = false;\n",
       "        s.onreadystatechange = s.onload = function() {\n",
       "          window._bokeh_is_loading--;\n",
       "          if (window._bokeh_is_loading === 0) {\n",
       "            console.log(\"Bokeh: all BokehJS libraries loaded\");\n",
       "            run_callbacks()\n",
       "          }\n",
       "        };\n",
       "        s.onerror = function() {\n",
       "          console.warn(\"failed to load library \" + url);\n",
       "        };\n",
       "        console.log(\"Bokeh: injecting script tag for BokehJS library: \", url);\n",
       "        document.getElementsByTagName(\"head\")[0].appendChild(s);\n",
       "      }\n",
       "    };var element = document.getElementById(\"dd8aa867-35ca-4f40-98e4-10fac0e45619\");\n",
       "    if (element == null) {\n",
       "      console.log(\"Bokeh: ERROR: autoload.js configured with elementid 'dd8aa867-35ca-4f40-98e4-10fac0e45619' but no matching script tag was found. \")\n",
       "      return false;\n",
       "    }\n",
       "  \n",
       "    var js_urls = [];\n",
       "  \n",
       "    var inline_js = [\n",
       "      function(Bokeh) {\n",
       "        (function() {\n",
       "          var fn = function() {\n",
       "            var docs_json = {\"dec26cc3-253f-4115-aba3-1a8a511d9da0\":{\"roots\":{\"references\":[{\"attributes\":{\"data_source\":{\"id\":\"a14326b2-3936-446d-bf60-ed88e63b6a4a\",\"type\":\"ColumnDataSource\"},\"glyph\":{\"id\":\"a98d0a49-35b9-4609-a4db-36b1f17d23ed\",\"type\":\"Circle\"},\"hover_glyph\":null,\"nonselection_glyph\":null,\"selection_glyph\":null},\"id\":\"2295b533-3837-4655-bdef-ca36cfca383c\",\"type\":\"GlyphRenderer\"},{\"attributes\":{\"callback\":null,\"end\":1.1,\"start\":-0.1},\"id\":\"381aae30-1149-4d38-aa73-79c77212c3c7\",\"type\":\"Range1d\"},{\"attributes\":{},\"id\":\"5f09b167-0045-4460-ab6e-392c6259a8b9\",\"type\":\"ToolEvents\"},{\"attributes\":{},\"id\":\"34d7343b-6248-4ed7-bf9a-27759f15a2b0\",\"type\":\"BasicTicker\"},{\"attributes\":{\"below\":[{\"id\":\"80829169-0160-409d-a294-f29880142539\",\"type\":\"LinearAxis\"}],\"css_classes\":null,\"left\":[{\"id\":\"068f24f8-01c3-4d4d-8871-59340e818718\",\"type\":\"LinearAxis\"}],\"renderers\":[{\"id\":\"603128bc-36fe-409f-9116-8bf6b41cc13e\",\"type\":\"BoxAnnotation\"},{\"id\":\"2295b533-3837-4655-bdef-ca36cfca383c\",\"type\":\"GlyphRenderer\"},{\"id\":\"3c50e72f-6332-49b5-8ea4-d6ab49eb0239\",\"type\":\"Legend\"},{\"id\":\"80829169-0160-409d-a294-f29880142539\",\"type\":\"LinearAxis\"},{\"id\":\"068f24f8-01c3-4d4d-8871-59340e818718\",\"type\":\"LinearAxis\"},{\"id\":\"c86e284f-7025-4a48-9509-9bffea848e8c\",\"type\":\"Grid\"},{\"id\":\"dec7b576-982c-45a5-a287-5a96f8ad983e\",\"type\":\"Grid\"}],\"title\":{\"id\":\"9004dfd1-4995-4a59-80c6-fe6c91795d8f\",\"type\":\"Title\"},\"tool_events\":{\"id\":\"5f09b167-0045-4460-ab6e-392c6259a8b9\",\"type\":\"ToolEvents\"},\"toolbar\":{\"id\":\"d6a9f684-bc0e-4f13-a6e6-ff1884dc8609\",\"type\":\"Toolbar\"},\"x_mapper_type\":\"auto\",\"x_range\":{\"id\":\"381aae30-1149-4d38-aa73-79c77212c3c7\",\"type\":\"Range1d\"},\"y_mapper_type\":\"auto\",\"y_range\":{\"id\":\"d2317a36-4e06-44db-8716-43ddb762aedc\",\"type\":\"Range1d\"}},\"id\":\"5bfc50aa-875f-4895-8376-5f74a32735a8\",\"subtype\":\"Chart\",\"type\":\"Plot\"},{\"attributes\":{},\"id\":\"01a109b8-3bab-443e-b85c-1103f34c1dfe\",\"type\":\"BasicTickFormatter\"},{\"attributes\":{\"active_drag\":\"auto\",\"active_scroll\":\"auto\",\"active_tap\":\"auto\",\"tools\":[{\"id\":\"d371c1cf-1786-4bd0-b431-5b80295a5fbd\",\"type\":\"PanTool\"},{\"id\":\"2f37c521-6bc3-479a-b8f8-b77d4f174fcc\",\"type\":\"WheelZoomTool\"},{\"id\":\"aab505dc-e8bc-4eca-be28-880aa0b2b9cc\",\"type\":\"BoxZoomTool\"},{\"id\":\"deada9e5-a9c3-40fe-9130-a2419e13630b\",\"type\":\"SaveTool\"},{\"id\":\"e254c4f5-bc4d-45a4-80bb-d784ef0e3554\",\"type\":\"ResetTool\"},{\"id\":\"be1946ec-2cba-46d3-b4c4-6e7dfcafe89d\",\"type\":\"HelpTool\"}]},\"id\":\"d6a9f684-bc0e-4f13-a6e6-ff1884dc8609\",\"type\":\"Toolbar\"},{\"attributes\":{\"plot\":{\"id\":\"5bfc50aa-875f-4895-8376-5f74a32735a8\",\"subtype\":\"Chart\",\"type\":\"Plot\"},\"ticker\":{\"id\":\"34d7343b-6248-4ed7-bf9a-27759f15a2b0\",\"type\":\"BasicTicker\"}},\"id\":\"c86e284f-7025-4a48-9509-9bffea848e8c\",\"type\":\"Grid\"},{\"attributes\":{},\"id\":\"e8e606d1-d2ea-4829-919a-cf14f60cbb12\",\"type\":\"BasicTicker\"},{\"attributes\":{\"dimension\":1,\"plot\":{\"id\":\"5bfc50aa-875f-4895-8376-5f74a32735a8\",\"subtype\":\"Chart\",\"type\":\"Plot\"},\"ticker\":{\"id\":\"e8e606d1-d2ea-4829-919a-cf14f60cbb12\",\"type\":\"BasicTicker\"}},\"id\":\"dec7b576-982c-45a5-a287-5a96f8ad983e\",\"type\":\"Grid\"},{\"attributes\":{\"plot\":null,\"text\":\"Plot of Dog Breeds\"},\"id\":\"9004dfd1-4995-4a59-80c6-fe6c91795d8f\",\"type\":\"Title\"},{\"attributes\":{\"location\":\"top_left\",\"plot\":{\"id\":\"5bfc50aa-875f-4895-8376-5f74a32735a8\",\"subtype\":\"Chart\",\"type\":\"Plot\"}},\"id\":\"3c50e72f-6332-49b5-8ea4-d6ab49eb0239\",\"type\":\"Legend\"},{\"attributes\":{\"plot\":{\"id\":\"5bfc50aa-875f-4895-8376-5f74a32735a8\",\"subtype\":\"Chart\",\"type\":\"Plot\"}},\"id\":\"be1946ec-2cba-46d3-b4c4-6e7dfcafe89d\",\"type\":\"HelpTool\"},{\"attributes\":{\"bottom_units\":\"screen\",\"fill_alpha\":{\"value\":0.5},\"fill_color\":{\"value\":\"lightgrey\"},\"left_units\":\"screen\",\"level\":\"overlay\",\"line_alpha\":{\"value\":1.0},\"line_color\":{\"value\":\"black\"},\"line_dash\":[4,4],\"line_width\":{\"value\":2},\"plot\":null,\"render_mode\":\"css\",\"right_units\":\"screen\",\"top_units\":\"screen\"},\"id\":\"603128bc-36fe-409f-9116-8bf6b41cc13e\",\"type\":\"BoxAnnotation\"},{\"attributes\":{},\"id\":\"5afd2ecd-6424-4f43-960b-b619033d2ca2\",\"type\":\"BasicTickFormatter\"},{\"attributes\":{\"axis_label\":\"Normalized Height\",\"formatter\":{\"id\":\"5afd2ecd-6424-4f43-960b-b619033d2ca2\",\"type\":\"BasicTickFormatter\"},\"plot\":{\"id\":\"5bfc50aa-875f-4895-8376-5f74a32735a8\",\"subtype\":\"Chart\",\"type\":\"Plot\"},\"ticker\":{\"id\":\"e8e606d1-d2ea-4829-919a-cf14f60cbb12\",\"type\":\"BasicTicker\"}},\"id\":\"068f24f8-01c3-4d4d-8871-59340e818718\",\"type\":\"LinearAxis\"},{\"attributes\":{\"fill_alpha\":{\"value\":0.7},\"fill_color\":{\"value\":\"#f22c40\"},\"line_color\":{\"value\":\"#f22c40\"},\"size\":{\"units\":\"screen\",\"value\":8},\"x\":{\"field\":\"x_values\"},\"y\":{\"field\":\"y_values\"}},\"id\":\"a98d0a49-35b9-4609-a4db-36b1f17d23ed\",\"type\":\"Circle\"},{\"attributes\":{\"plot\":{\"id\":\"5bfc50aa-875f-4895-8376-5f74a32735a8\",\"subtype\":\"Chart\",\"type\":\"Plot\"}},\"id\":\"d371c1cf-1786-4bd0-b431-5b80295a5fbd\",\"type\":\"PanTool\"},{\"attributes\":{\"plot\":{\"id\":\"5bfc50aa-875f-4895-8376-5f74a32735a8\",\"subtype\":\"Chart\",\"type\":\"Plot\"}},\"id\":\"2f37c521-6bc3-479a-b8f8-b77d4f174fcc\",\"type\":\"WheelZoomTool\"},{\"attributes\":{\"callback\":null,\"end\":1.1,\"start\":-0.1},\"id\":\"d2317a36-4e06-44db-8716-43ddb762aedc\",\"type\":\"Range1d\"},{\"attributes\":{\"overlay\":{\"id\":\"603128bc-36fe-409f-9116-8bf6b41cc13e\",\"type\":\"BoxAnnotation\"},\"plot\":{\"id\":\"5bfc50aa-875f-4895-8376-5f74a32735a8\",\"subtype\":\"Chart\",\"type\":\"Plot\"}},\"id\":\"aab505dc-e8bc-4eca-be28-880aa0b2b9cc\",\"type\":\"BoxZoomTool\"},{\"attributes\":{\"plot\":{\"id\":\"5bfc50aa-875f-4895-8376-5f74a32735a8\",\"subtype\":\"Chart\",\"type\":\"Plot\"}},\"id\":\"deada9e5-a9c3-40fe-9130-a2419e13630b\",\"type\":\"SaveTool\"},{\"attributes\":{\"plot\":{\"id\":\"5bfc50aa-875f-4895-8376-5f74a32735a8\",\"subtype\":\"Chart\",\"type\":\"Plot\"}},\"id\":\"e254c4f5-bc4d-45a4-80bb-d784ef0e3554\",\"type\":\"ResetTool\"},{\"attributes\":{\"callback\":null,\"column_names\":[\"x_values\",\"y_values\"],\"data\":{\"chart_index\":[null,null,null,null,null,null,null,null,null,null,null],\"x_values\":{\"__ndarray__\":\"IHXKH3XKzz8Wa8AVa8C1PxjCbBfCbMc/+Eyi90yi5z8YcMUacMV6P10Is10Is90/W1paWlpa2j8AAAAAAADwP1Kn/FGn/NE/mO1CmO1C2D8AAAAAAAAAAA==\",\"dtype\":\"float64\",\"shape\":[11]},\"y_values\":{\"__ndarray__\":\"shM7sRM74T/ZiZ3YiZ3YP53YiZ3Yid0/ip3YiZ3Y6T8UO7ETO7GzPyh2Yid2Yuc/xk7sxE7s5D8AAAAAAADwP2IndmInduI/AAAAAAAA4D8AAAAAAAAAAA==\",\"dtype\":\"float64\",\"shape\":[11]}}},\"id\":\"a14326b2-3936-446d-bf60-ed88e63b6a4a\",\"type\":\"ColumnDataSource\"},{\"attributes\":{\"axis_label\":\"Normalized Weight\",\"formatter\":{\"id\":\"01a109b8-3bab-443e-b85c-1103f34c1dfe\",\"type\":\"BasicTickFormatter\"},\"plot\":{\"id\":\"5bfc50aa-875f-4895-8376-5f74a32735a8\",\"subtype\":\"Chart\",\"type\":\"Plot\"},\"ticker\":{\"id\":\"34d7343b-6248-4ed7-bf9a-27759f15a2b0\",\"type\":\"BasicTicker\"}},\"id\":\"80829169-0160-409d-a294-f29880142539\",\"type\":\"LinearAxis\"}],\"root_ids\":[\"5bfc50aa-875f-4895-8376-5f74a32735a8\"]},\"title\":\"Bokeh Application\",\"version\":\"0.12.4\"}};\n",
       "            var render_items = [{\"docid\":\"dec26cc3-253f-4115-aba3-1a8a511d9da0\",\"elementid\":\"dd8aa867-35ca-4f40-98e4-10fac0e45619\",\"modelid\":\"5bfc50aa-875f-4895-8376-5f74a32735a8\"}];\n",
       "            \n",
       "            Bokeh.embed.embed_items(docs_json, render_items);\n",
       "          };\n",
       "          if (document.readyState != \"loading\") fn();\n",
       "          else document.addEventListener(\"DOMContentLoaded\", fn);\n",
       "        })();\n",
       "      },\n",
       "      function(Bokeh) {\n",
       "      }\n",
       "    ];\n",
       "  \n",
       "    function run_inline_js() {\n",
       "      \n",
       "      if ((window.Bokeh !== undefined) || (force === true)) {\n",
       "        for (var i = 0; i < inline_js.length; i++) {\n",
       "          inline_js[i](window.Bokeh);\n",
       "        }if (force === true) {\n",
       "          display_loaded();\n",
       "        }} else if (Date.now() < window._bokeh_timeout) {\n",
       "        setTimeout(run_inline_js, 100);\n",
       "      } else if (!window._bokeh_failed_load) {\n",
       "        console.log(\"Bokeh: BokehJS failed to load within specified timeout.\");\n",
       "        window._bokeh_failed_load = true;\n",
       "      } else if (force !== true) {\n",
       "        var cell = $(document.getElementById(\"dd8aa867-35ca-4f40-98e4-10fac0e45619\")).parents('.cell').data().cell;\n",
       "        cell.output_area.append_execute_result(NB_LOAD_WARNING)\n",
       "      }\n",
       "  \n",
       "    }\n",
       "  \n",
       "    if (window._bokeh_is_loading === 0) {\n",
       "      console.log(\"Bokeh: BokehJS loaded, going straight to plotting\");\n",
       "      run_inline_js();\n",
       "    } else {\n",
       "      load_libs(js_urls, function() {\n",
       "        console.log(\"Bokeh: BokehJS plotting callback run at\", now());\n",
       "        run_inline_js();\n",
       "      });\n",
       "    }\n",
       "  }(this));\n",
       "</script>"
      ]
     },
     "metadata": {},
     "output_type": "display_data"
    }
   ],
   "source": [
    "from bokeh.charts import Scatter, output_file, show\n",
    "from bokeh.io import push_notebook, show, output_notebook\n",
    "output_notebook()\n",
    "x = Scatter(dog_data, x='weight (pounds)', y='height (inches)', title=\"Plot of Dog Breeds\",\n",
    "            xlabel=\"Normalized Weight\", ylabel=\"Normalized Height\")\n",
    "\n",
    "output_file(\"dogbreed.html\")\n",
    "\n",
    "show(x)"
   ]
  },
  {
   "cell_type": "markdown",
   "metadata": {},
   "source": [
    "Gazing at the scatter plot, it looks like we could group the data into three clusters. There are the 2 data points on the bottom left (*Chihuahua* and *Yorkshire Terrier*) The top right group of two (*Bull Mastiff* and *Great Dane*) and the middle group with all the other breeds. \n",
    "\n",
    "\n",
    "## k means clustering\n",
    "\n",
    "Instead of covering what is in the textbook you may want to scope out the totally awesome [clustering chapter](http://guidetodatamining.com/assets/guideChapters/DataMining-ch8.pdf) (I am joking about the *totally awesome* bit)\n",
    "\n",
    "Some tiny amount of extra xp for knowing trivia.\n",
    "\n",
    "1. there are 2 pictures of people on page 8.5 and a picture of a person on 8.6. What do these people have in common? This requires world knowledge (like who the people are). Do not share your knowledge with other. (you can give exactly one person an obscure hint)\n",
    "2. There are also people on 8.29 and 8.30. What do these people have in common? The same restrictions apply.\n",
    "\n",
    "\n",
    "This was just a ruse to get you to look at--and possibly read--the chapter which as you know is totally awesome.\n",
    "\n",
    "Okay, back to real work. Let's divide our dog dataset into 3 clusters:\n"
   ]
  },
  {
   "cell_type": "code",
   "execution_count": 9,
   "metadata": {
    "collapsed": true
   },
   "outputs": [],
   "source": [
    "from sklearn.cluster import KMeans\n",
    "kmeans = KMeans(n_clusters=3, ).fit(dog_data)\n",
    "labels = kmeans.labels_"
   ]
  },
  {
   "cell_type": "markdown",
   "metadata": {},
   "source": [
    "The variable `labels` is an array the specifies which group each dog belongs to:"
   ]
  },
  {
   "cell_type": "code",
   "execution_count": 10,
   "metadata": {
    "collapsed": false
   },
   "outputs": [
    {
     "data": {
      "text/plain": [
       "array([0, 0, 0, 1, 2, 0, 0, 1, 0, 0, 2], dtype=int32)"
      ]
     },
     "execution_count": 10,
     "metadata": {},
     "output_type": "execute_result"
    }
   ],
   "source": [
    "labels"
   ]
  },
  {
   "cell_type": "markdown",
   "metadata": {},
   "source": [
    "My results were:\n",
    "\n",
    "    array([0, 0, 0, 1, 2, 0, 0, 1, 0, 0, 2], dtype=int32)\n",
    "\n",
    "which indicates that the first, second, and third dogs are in group 0, the next one in group 1 and so on  That may be helpful for future computational tasks but is not the helpful if we are trying to visualize the data. Let me munge that a bit into a slightly more useful form:"
   ]
  },
  {
   "cell_type": "code",
   "execution_count": 11,
   "metadata": {
    "collapsed": false
   },
   "outputs": [
    {
     "name": "stdout",
     "output_type": "stream",
     "text": [
      "CLUSTER 0\n",
      "    Border Collie\n",
      "    Boston Terrier\n",
      "    Brittany Spaniel\n",
      "    German Shepherd\n",
      "    Golden Retreiver\n",
      "    Portuguese Water Dog\n",
      "    Standard Poodle\n",
      "\n",
      "\n",
      "CLUSTER 1\n",
      "    Bullmastiff\n",
      "    Great Dane\n",
      "\n",
      "\n",
      "CLUSTER 2\n",
      "    Chihuahua\n",
      "    Yorkshire Terrier\n",
      "\n",
      "\n"
     ]
    }
   ],
   "source": [
    "groups = {0: [], 1: [], 2: []}\n",
    "i = 0\n",
    "for index, row in dog_data.iterrows():\n",
    "    groups[labels[i]].append(index)\n",
    "    i += 1\n",
    "## Now I will print it in a nice way:\n",
    "\n",
    "for key, value in groups.items():\n",
    "    print ('CLUSTER %i' % key)\n",
    "    for breed in value:\n",
    "        print(\"    %s\" % breed)\n",
    "    print('\\n')"
   ]
  },
  {
   "cell_type": "markdown",
   "metadata": {},
   "source": [
    "keep in mind that since they initial centroids are selected somewhat randomly it is possible that you get a different answer than I do. The answer I got was:\n",
    "\n",
    "    CLUSTER 0\n",
    "        Border Collie\n",
    "        Boston Terrier\n",
    "        Brittany Spaniel\n",
    "        German Shepherd\n",
    "        Golden Retreiver\n",
    "        Portuguese Water Dog\n",
    "        Standard Poodle\n",
    "    \n",
    "\n",
    "    CLUSTER 1\n",
    "        Bullmastiff\n",
    "        Great Dane\n",
    "\n",
    "\n",
    "    CLUSTER 2\n",
    "        Chihuahua\n",
    "        Yorkshire Terrier\n",
    "\n",
    "\n",
    "## Hierarchical Clustering\n",
    "\n",
    "For the basics on hierarchical clustering consult [the fine chapter I mentioned](http://guidetodatamining.com/assets/guideChapters/DataMining-ch8.pdf). Here is how to do hierarchical clustering in sklearn."
   ]
  },
  {
   "cell_type": "code",
   "execution_count": 14,
   "metadata": {
    "collapsed": false
   },
   "outputs": [
    {
     "data": {
      "text/plain": [
       "AgglomerativeClustering(affinity='euclidean', compute_full_tree='auto',\n",
       "            connectivity=None, linkage='ward',\n",
       "            memory=Memory(cachedir=None), n_clusters=2,\n",
       "            pooling_func=<function mean at 0x115798d90>)"
      ]
     },
     "execution_count": 14,
     "metadata": {},
     "output_type": "execute_result"
    }
   ],
   "source": [
    "\n",
    "from sklearn.cluster import AgglomerativeClustering\n",
    "clusterer = AgglomerativeClustering(affinity='euclidean', linkage='ward')\n",
    "clusterer.fit(dog_data)"
   ]
  },
  {
   "cell_type": "markdown",
   "metadata": {},
   "source": [
    "we can get the highest level division by viewing the `.labels_`:\n"
   ]
  },
  {
   "cell_type": "code",
   "execution_count": 18,
   "metadata": {
    "collapsed": false
   },
   "outputs": [
    {
     "data": {
      "text/plain": [
       "array([0, 0, 0, 1, 0, 0, 0, 1, 0, 0, 0])"
      ]
     },
     "execution_count": 18,
     "metadata": {},
     "output_type": "execute_result"
    }
   ],
   "source": [
    "clusterer.labels_"
   ]
  },
  {
   "cell_type": "markdown",
   "metadata": {},
   "source": [
    "So here the first dog breed, Border Collie belongs to cluster 0. Keep in mind that in kmeans there is a random element--the selection of the initial centroids, but in hierarchical clustering there is no randomness so you should get the exact same answer I do. so that is the high level division but the hierarchical clustering algorithm constructs a tree - specifically, a dendrogram. To view that requires some imagination.  I can print a representation of the tree by:"
   ]
  },
  {
   "cell_type": "code",
   "execution_count": 19,
   "metadata": {
    "collapsed": false
   },
   "outputs": [
    {
     "data": {
      "text/plain": [
       "[{'left': 0, 'node_id': 11, 'right': 8},\n",
       " {'left': 4, 'node_id': 12, 'right': 10},\n",
       " {'left': 5, 'node_id': 13, 'right': 6},\n",
       " {'left': 1, 'node_id': 14, 'right': 2},\n",
       " {'left': 9, 'node_id': 15, 'right': 11},\n",
       " {'left': 14, 'node_id': 16, 'right': 15},\n",
       " {'left': 3, 'node_id': 17, 'right': 7},\n",
       " {'left': 13, 'node_id': 18, 'right': 16},\n",
       " {'left': 12, 'node_id': 19, 'right': 18},\n",
       " {'left': 17, 'node_id': 20, 'right': 19}]"
      ]
     },
     "execution_count": 19,
     "metadata": {},
     "output_type": "execute_result"
    }
   ],
   "source": [
    "import itertools\n",
    "ii = itertools.count(dog_data.shape[0])\n",
    "[{'node_id': next(ii), 'left': x[0], 'right':x[1]} for x in clusterer.children_]"
   ]
  },
  {
   "cell_type": "markdown",
   "metadata": {},
   "source": [
    "The first line `{'left': 0, 'node_id': 11, 'right': 8}` reads that we combine cluster 0 *Border Collie* with cluster 8 *Portuguese Water Dog* to create Cluster 11. The next line says we  combine 4 *Chihuahua* with 10 *Yorkshire Terrier* to create cluster 12.  Let's associate index numbers with the dog breed names so that structure is easier to parse:\n"
   ]
  },
  {
   "cell_type": "code",
   "execution_count": 14,
   "metadata": {
    "collapsed": false
   },
   "outputs": [
    {
     "data": {
      "text/html": [
       "<div>\n",
       "<table border=\"1\" class=\"dataframe\">\n",
       "  <thead>\n",
       "    <tr style=\"text-align: right;\">\n",
       "      <th></th>\n",
       "      <th>breeds</th>\n",
       "    </tr>\n",
       "  </thead>\n",
       "  <tbody>\n",
       "    <tr>\n",
       "      <th>0</th>\n",
       "      <td>Border Collie</td>\n",
       "    </tr>\n",
       "    <tr>\n",
       "      <th>1</th>\n",
       "      <td>Boston Terrier</td>\n",
       "    </tr>\n",
       "    <tr>\n",
       "      <th>2</th>\n",
       "      <td>Brittany Spaniel</td>\n",
       "    </tr>\n",
       "    <tr>\n",
       "      <th>3</th>\n",
       "      <td>Bullmastiff</td>\n",
       "    </tr>\n",
       "    <tr>\n",
       "      <th>4</th>\n",
       "      <td>Chihuahua</td>\n",
       "    </tr>\n",
       "    <tr>\n",
       "      <th>5</th>\n",
       "      <td>German Shepherd</td>\n",
       "    </tr>\n",
       "    <tr>\n",
       "      <th>6</th>\n",
       "      <td>Golden Retreiver</td>\n",
       "    </tr>\n",
       "    <tr>\n",
       "      <th>7</th>\n",
       "      <td>Great Dane</td>\n",
       "    </tr>\n",
       "    <tr>\n",
       "      <th>8</th>\n",
       "      <td>Portuguese Water Dog</td>\n",
       "    </tr>\n",
       "    <tr>\n",
       "      <th>9</th>\n",
       "      <td>Standard Poodle</td>\n",
       "    </tr>\n",
       "    <tr>\n",
       "      <th>10</th>\n",
       "      <td>Yorkshire Terrier</td>\n",
       "    </tr>\n",
       "  </tbody>\n",
       "</table>\n",
       "</div>"
      ],
      "text/plain": [
       "                  breeds\n",
       "0          Border Collie\n",
       "1         Boston Terrier\n",
       "2       Brittany Spaniel\n",
       "3            Bullmastiff\n",
       "4              Chihuahua\n",
       "5        German Shepherd\n",
       "6       Golden Retreiver\n",
       "7             Great Dane\n",
       "8   Portuguese Water Dog\n",
       "9        Standard Poodle\n",
       "10     Yorkshire Terrier"
      ]
     },
     "execution_count": 14,
     "metadata": {},
     "output_type": "execute_result"
    }
   ],
   "source": [
    "dog_names = pd.DataFrame({'breeds': dog_data.index.values})\n",
    "dog_names"
   ]
  },
  {
   "cell_type": "markdown",
   "metadata": {},
   "source": [
    "That makes it easier to interpret lines like:\n",
    "\n",
    "    {'left': 1, 'node_id': 14, 'right': 2},\n",
    "    \n",
    "We are combining `1` *Boston Terrier* and `2` *Brittany Spaniel*\n",
    "\n",
    "So when we draw this out we get:\n",
    "\n",
    "<img src=\"http://zacharski.org/files/courses/cs419/dendro.png\" width=\"700\"/>\n",
    "\n",
    "\n",
    "<h1 style=\"color:red\">Tasks</h1>\n",
    "\n",
    "<h2 style=\"color:red\">Task 1: Breakfast Cereals</h2>\n",
    "I would like you to create 4 clusters of the data in:\n",
    "\n",
    "    https://raw.githubusercontent.com/zacharski/pg2dm-python/master/data/ch8/cereal.csv\n",
    "    \n",
    "For clustering use the features calories, sugar, protein, and fiber.\n",
    "\n",
    "Print out the results as we did for the dog breed data:\n",
    "\n",
    "\n",
    "    CLUSTER 0\n",
    "    Bullmastiff\n",
    "    Great Dane\n",
    "    \n",
    "\n",
    "    CLUSTER 1\n",
    "        Chihuahua\n",
    "        Yorkshire Terrier\n",
    "    \n",
    "\n",
    "    CLUSTER 2\n",
    "        Border Collie\n",
    "        Boston Terrier\n",
    "        Brittany Spaniel\n",
    "        German Shepherd\n",
    "        Golden Retreiver\n",
    "        Portuguese Water Dog\n",
    "        Standard Poodle\n",
    "        \n",
    "Because the initial centroids are random, by default the sklearn kmeans agorithm runs the algorithm 10 times and picks the best results (based on some of squares error). I would like you to change that parameter so it runs the algorithm 100 times.   Just google `sklearn kmeans` to get documentation on the parameters."
   ]
  },
  {
   "cell_type": "code",
   "execution_count": null,
   "metadata": {
    "collapsed": true
   },
   "outputs": [],
   "source": []
  },
  {
   "cell_type": "markdown",
   "metadata": {},
   "source": [
    "\n",
    "<h2 style=\"color:red\">Task 2: Hierarchical</h2>\n",
    "I would like you to use the hierarchical clustering algorithm on the cereal data.\n"
   ]
  },
  {
   "cell_type": "code",
   "execution_count": null,
   "metadata": {
    "collapsed": true
   },
   "outputs": [],
   "source": []
  },
  {
   "cell_type": "markdown",
   "metadata": {},
   "source": [
    "And here is a question. What clusters with *Fruity Pebbles*?"
   ]
  },
  {
   "cell_type": "code",
   "execution_count": null,
   "metadata": {
    "collapsed": true
   },
   "outputs": [],
   "source": []
  },
  {
   "cell_type": "markdown",
   "metadata": {},
   "source": [
    "I am keeping this notebook short just to keep it more doable. Shortly I will post a lab asking you to cluster a slightly larger dataset."
   ]
  },
  {
   "cell_type": "code",
   "execution_count": null,
   "metadata": {
    "collapsed": true
   },
   "outputs": [],
   "source": []
  }
 ],
 "metadata": {
  "kernelspec": {
   "display_name": "Python 3",
   "language": "python",
   "name": "python3"
  },
  "language_info": {
   "codemirror_mode": {
    "name": "ipython",
    "version": 3
   },
   "file_extension": ".py",
   "mimetype": "text/x-python",
   "name": "python",
   "nbconvert_exporter": "python",
   "pygments_lexer": "ipython3",
   "version": "3.6.0"
  }
 },
 "nbformat": 4,
 "nbformat_minor": 2
}
