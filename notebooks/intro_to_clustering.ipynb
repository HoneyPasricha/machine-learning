{
 "cells": [
  {
   "cell_type": "markdown",
   "metadata": {},
   "source": [
    "# Introduction to Clustering\n",
    "\n",
    "\n",
    "<p><div style=\"float:right;margin-left:5px;\"><img src=\"https://cambridge-intelligence.com/wp-content/uploads/2016/01/clustering-animated.gif\" width=\"500\"/></div></p>\n",
    "This notebook is short and sweet and covers both hierarchical clustering and k-means clustering.\n",
    "\n",
    "Let's start with the example we did in class, the dog breed dataset."
   ]
  },
  {
   "cell_type": "code",
   "execution_count": 2,
   "metadata": {
    "collapsed": false
   },
   "outputs": [],
   "source": [
    "import pandas as pd\n",
    "dog_data = pd.read_csv('https://raw.githubusercontent.com/zacharski/machine-learning/master/data/dogbreeds.csv')\n",
    "dog_data = dog_data.set_index('breed')"
   ]
  },
  {
   "cell_type": "code",
   "execution_count": 3,
   "metadata": {
    "collapsed": false
   },
   "outputs": [
    {
     "data": {
      "text/html": [
       "<div>\n",
       "<table border=\"1\" class=\"dataframe\">\n",
       "  <thead>\n",
       "    <tr style=\"text-align: right;\">\n",
       "      <th></th>\n",
       "      <th>height (inches)</th>\n",
       "      <th>weight (pounds)</th>\n",
       "    </tr>\n",
       "    <tr>\n",
       "      <th>breed</th>\n",
       "      <th></th>\n",
       "      <th></th>\n",
       "    </tr>\n",
       "  </thead>\n",
       "  <tbody>\n",
       "    <tr>\n",
       "      <th>Border Collie</th>\n",
       "      <td>20</td>\n",
       "      <td>45</td>\n",
       "    </tr>\n",
       "    <tr>\n",
       "      <th>Boston Terrier</th>\n",
       "      <td>16</td>\n",
       "      <td>20</td>\n",
       "    </tr>\n",
       "    <tr>\n",
       "      <th>Brittany Spaniel</th>\n",
       "      <td>18</td>\n",
       "      <td>35</td>\n",
       "    </tr>\n",
       "    <tr>\n",
       "      <th>Bullmastiff</th>\n",
       "      <td>27</td>\n",
       "      <td>120</td>\n",
       "    </tr>\n",
       "    <tr>\n",
       "      <th>Chihuahua</th>\n",
       "      <td>8</td>\n",
       "      <td>8</td>\n",
       "    </tr>\n",
       "    <tr>\n",
       "      <th>German Shepherd</th>\n",
       "      <td>25</td>\n",
       "      <td>78</td>\n",
       "    </tr>\n",
       "    <tr>\n",
       "      <th>Golden Retreiver</th>\n",
       "      <td>23</td>\n",
       "      <td>70</td>\n",
       "    </tr>\n",
       "    <tr>\n",
       "      <th>Great Dane</th>\n",
       "      <td>32</td>\n",
       "      <td>160</td>\n",
       "    </tr>\n",
       "    <tr>\n",
       "      <th>Portuguese Water Dog</th>\n",
       "      <td>21</td>\n",
       "      <td>50</td>\n",
       "    </tr>\n",
       "    <tr>\n",
       "      <th>Standard Poodle</th>\n",
       "      <td>19</td>\n",
       "      <td>65</td>\n",
       "    </tr>\n",
       "    <tr>\n",
       "      <th>Yorkshire Terrier</th>\n",
       "      <td>6</td>\n",
       "      <td>7</td>\n",
       "    </tr>\n",
       "  </tbody>\n",
       "</table>\n",
       "</div>"
      ],
      "text/plain": [
       "                      height (inches)  weight (pounds)\n",
       "breed                                                 \n",
       "Border Collie                      20               45\n",
       "Boston Terrier                     16               20\n",
       "Brittany Spaniel                   18               35\n",
       "Bullmastiff                        27              120\n",
       "Chihuahua                           8                8\n",
       "German Shepherd                    25               78\n",
       "Golden Retreiver                   23               70\n",
       "Great Dane                         32              160\n",
       "Portuguese Water Dog               21               50\n",
       "Standard Poodle                    19               65\n",
       "Yorkshire Terrier                   6                7"
      ]
     },
     "execution_count": 3,
     "metadata": {},
     "output_type": "execute_result"
    }
   ],
   "source": [
    "dog_data"
   ]
  },
  {
   "cell_type": "markdown",
   "metadata": {},
   "source": [
    "Looking at the values in the height and weight columns it looks like we should normalize the data.\n",
    "\n",
    "<img src=\"http://animalfair.com/wp-content/uploads/2014/08/chihuahua-and-great-dane.jpg\" width=\"700\"/>\n"
   ]
  },
  {
   "cell_type": "code",
   "execution_count": 5,
   "metadata": {
    "collapsed": false
   },
   "outputs": [],
   "source": [
    "## TODO\n",
    "\n"
   ]
  },
  {
   "cell_type": "markdown",
   "metadata": {},
   "source": [
    "## k means clustering\n",
    "Let's divide our dog dataset into 3 clusters:\n"
   ]
  },
  {
   "cell_type": "code",
   "execution_count": 6,
   "metadata": {
    "collapsed": true
   },
   "outputs": [],
   "source": [
    "from sklearn.cluster import KMeans\n",
    "kmeans = KMeans(n_clusters=3, ).fit(dog_data)\n",
    "labels = kmeans.labels_"
   ]
  },
  {
   "cell_type": "markdown",
   "metadata": {},
   "source": [
    "The variable `labels` is an array the specifies which group each dog belongs to:"
   ]
  },
  {
   "cell_type": "code",
   "execution_count": 7,
   "metadata": {
    "collapsed": false
   },
   "outputs": [
    {
     "data": {
      "text/plain": [
       "array([2, 2, 2, 0, 1, 2, 2, 0, 2, 2, 1], dtype=int32)"
      ]
     },
     "execution_count": 7,
     "metadata": {},
     "output_type": "execute_result"
    }
   ],
   "source": [
    "labels"
   ]
  },
  {
   "cell_type": "markdown",
   "metadata": {},
   "source": [
    "So the first dog is in group 2. That may be helpful for future computational tasks but is not the helpful if we are trying to visualize the data. Let me munge that a bit into a more useful form:"
   ]
  },
  {
   "cell_type": "code",
   "execution_count": 9,
   "metadata": {
    "collapsed": false
   },
   "outputs": [
    {
     "name": "stdout",
     "output_type": "stream",
     "text": [
      "CLUSTER 0\n",
      "    Bullmastiff\n",
      "    Great Dane\n",
      "\n",
      "\n",
      "CLUSTER 1\n",
      "    Chihuahua\n",
      "    Yorkshire Terrier\n",
      "\n",
      "\n",
      "CLUSTER 2\n",
      "    Border Collie\n",
      "    Boston Terrier\n",
      "    Brittany Spaniel\n",
      "    German Shepherd\n",
      "    Golden Retreiver\n",
      "    Portuguese Water Dog\n",
      "    Standard Poodle\n",
      "\n",
      "\n"
     ]
    }
   ],
   "source": [
    "groups = {0: [], 1: [], 2: []}\n",
    "i = 0\n",
    "for index, row in dog_data.iterrows():\n",
    "    groups[labels[i]].append(index)\n",
    "    i += 1\n",
    "## Now I will print it in a nice way:\n",
    "\n",
    "for key, value in groups.items():\n",
    "    print ('CLUSTER %i' % key)\n",
    "    for breed in value:\n",
    "        print(\"    %s\" % breed)\n",
    "    print('\\n')"
   ]
  },
  {
   "cell_type": "markdown",
   "metadata": {},
   "source": [
    "keep in mind that since they initial centroids are selected somewhat randomly you will unlikely get the same answer as I do.\n",
    "\n",
    "## Hierarchical Clustering"
   ]
  },
  {
   "cell_type": "code",
   "execution_count": 14,
   "metadata": {
    "collapsed": false
   },
   "outputs": [
    {
     "data": {
      "text/plain": [
       "AgglomerativeClustering(affinity='euclidean', compute_full_tree='auto',\n",
       "            connectivity=None, linkage='ward',\n",
       "            memory=Memory(cachedir=None), n_clusters=2,\n",
       "            pooling_func=<function mean at 0x115798d90>)"
      ]
     },
     "execution_count": 14,
     "metadata": {},
     "output_type": "execute_result"
    }
   ],
   "source": [
    "from sklearn.cluster import AgglomerativeClustering\n",
    "clusterer = AgglomerativeClustering(affinity='euclidean', linkage='ward')\n",
    "clusterer.fit(dog_data)"
   ]
  },
  {
   "cell_type": "markdown",
   "metadata": {},
   "source": [
    "we can get the highest level division by viewing the `.labels_`:\n"
   ]
  },
  {
   "cell_type": "code",
   "execution_count": 18,
   "metadata": {
    "collapsed": false
   },
   "outputs": [
    {
     "data": {
      "text/plain": [
       "array([0, 0, 0, 1, 0, 0, 0, 1, 0, 0, 0])"
      ]
     },
     "execution_count": 18,
     "metadata": {},
     "output_type": "execute_result"
    }
   ],
   "source": [
    "clusterer.labels_"
   ]
  },
  {
   "cell_type": "markdown",
   "metadata": {},
   "source": [
    "So here the first dog breed, Border Collie belongs to cluster 0. But the clustering algorithm constructs a tree - specifically, a dendrogram. To view that requires some imagination.  I can print a representation of the tree by:"
   ]
  },
  {
   "cell_type": "code",
   "execution_count": 19,
   "metadata": {
    "collapsed": false
   },
   "outputs": [
    {
     "data": {
      "text/plain": [
       "[{'left': 0, 'node_id': 11, 'right': 8},\n",
       " {'left': 4, 'node_id': 12, 'right': 10},\n",
       " {'left': 5, 'node_id': 13, 'right': 6},\n",
       " {'left': 1, 'node_id': 14, 'right': 2},\n",
       " {'left': 9, 'node_id': 15, 'right': 11},\n",
       " {'left': 14, 'node_id': 16, 'right': 15},\n",
       " {'left': 3, 'node_id': 17, 'right': 7},\n",
       " {'left': 13, 'node_id': 18, 'right': 16},\n",
       " {'left': 12, 'node_id': 19, 'right': 18},\n",
       " {'left': 17, 'node_id': 20, 'right': 19}]"
      ]
     },
     "execution_count": 19,
     "metadata": {},
     "output_type": "execute_result"
    }
   ],
   "source": [
    "import itertools\n",
    "ii = itertools.count(dog_data.shape[0])\n",
    "[{'node_id': next(ii), 'left': x[0], 'right':x[1]} for x in clusterer.children_]"
   ]
  },
  {
   "cell_type": "markdown",
   "metadata": {},
   "source": [
    "The first line `{'left': 0, 'node_id': 11, 'right': 8}` reads that we combine cluster 0 *Border Collie* with cluster 8 *Portuguese Water Dog* to create Cluster 11. The next line says we  combine 4 *Chihuahua* with 10 *Yorkshire Terrier* to create cluster 12. \n",
    "\n",
    "So when I draw this out I get:\n",
    "\n",
    "<img src=\"http://zacharski.org/files/courses/cs419/dendro.png\" width=\"700\"/>"
   ]
  },
  {
   "cell_type": "markdown",
   "metadata": {},
   "source": [
    "<h1 style=\"color:red\">Tasks</h1>\n",
    "\n",
    "<h2 style=\"color:red\">Task 1: Breakfast Cereals</h2>\n",
    "I would like you to create 4 clusters of the data in:\n",
    "\n",
    "    https://raw.githubusercontent.com/zacharski/pg2dm-python/master/data/ch8/cereal.csv\n",
    "    \n",
    "For clustering use the features calories, sugar, protein, and fiber.\n",
    "\n",
    "Print out the results as we did for the dog breed data:\n",
    "\n",
    "\n",
    "    CLUSTER 0\n",
    "    Bullmastiff\n",
    "    Great Dane\n",
    "    \n",
    "\n",
    "    CLUSTER 1\n",
    "        Chihuahua\n",
    "        Yorkshire Terrier\n",
    "    \n",
    "\n",
    "    CLUSTER 2\n",
    "        Border Collie\n",
    "        Boston Terrier\n",
    "        Brittany Spaniel\n",
    "        German Shepherd\n",
    "        Golden Retreiver\n",
    "        Portuguese Water Dog\n",
    "        Standard Poodle\n",
    "        \n",
    "Because the initial centroids are random, by default the sklearn kmeans agorithm runs the algorithm 10 times and picks the best results (based on some of squares error). I would like you to change that parameter so it runs the algorithm 100 times. "
   ]
  },
  {
   "cell_type": "code",
   "execution_count": null,
   "metadata": {
    "collapsed": true
   },
   "outputs": [],
   "source": []
  },
  {
   "cell_type": "markdown",
   "metadata": {},
   "source": [
    "\n",
    "<h2 style=\"color:red\">Task 2: TBD</h2>\n",
    "I would like you to create 4 clusters of the data in:\n"
   ]
  },
  {
   "cell_type": "code",
   "execution_count": null,
   "metadata": {
    "collapsed": true
   },
   "outputs": [],
   "source": []
  }
 ],
 "metadata": {
  "kernelspec": {
   "display_name": "Python 3",
   "language": "python",
   "name": "python3"
  },
  "language_info": {
   "codemirror_mode": {
    "name": "ipython",
    "version": 3
   },
   "file_extension": ".py",
   "mimetype": "text/x-python",
   "name": "python",
   "nbconvert_exporter": "python",
   "pygments_lexer": "ipython3",
   "version": "3.6.0"
  }
 },
 "nbformat": 4,
 "nbformat_minor": 2
}
