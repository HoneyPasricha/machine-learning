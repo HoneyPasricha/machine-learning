{
 "cells": [
  {
   "cell_type": "markdown",
   "metadata": {},
   "source": [
    "## Introduction to SciKitLearn (sklearn)\n",
    "sklearn is a Python library that implements many machine learning algorithms.\n",
    "\n",
    "The best bet, as with probably everything else, is just to google what you want. For example, if I want to learn how to use kNN (k nearest neighbors) with sklearn is to google **sklearn knn**  and you will find the information. The good thing about sklearn documentation, is that they provide a short example of how to use each algorithm.\n",
    "\n",
    "For example, suppose I have a small dataset of the heights of women who play in the Women's NBA or who are gymnasts. I already have a small dataset with women whose sport is basketball, gymnastics, or track. So I will read the file in and filter out the track people and I will also lose the weight column\n"
   ]
  },
  {
   "cell_type": "code",
   "execution_count": 10,
   "metadata": {
    "collapsed": false
   },
   "outputs": [
    {
     "data": {
      "text/html": [
       "<div>\n",
       "<table border=\"1\" class=\"dataframe\">\n",
       "  <thead>\n",
       "    <tr style=\"text-align: right;\">\n",
       "      <th></th>\n",
       "      <th>Sport</th>\n",
       "      <th>Height</th>\n",
       "    </tr>\n",
       "    <tr>\n",
       "      <th>Name</th>\n",
       "      <th></th>\n",
       "      <th></th>\n",
       "    </tr>\n",
       "  </thead>\n",
       "  <tbody>\n",
       "    <tr>\n",
       "      <th>Asuka Teramoto</th>\n",
       "      <td>Gymnastics</td>\n",
       "      <td>54</td>\n",
       "    </tr>\n",
       "    <tr>\n",
       "      <th>Brittainey Raven</th>\n",
       "      <td>Basketball</td>\n",
       "      <td>72</td>\n",
       "    </tr>\n",
       "    <tr>\n",
       "      <th>Chen Nan</th>\n",
       "      <td>Basketball</td>\n",
       "      <td>78</td>\n",
       "    </tr>\n",
       "    <tr>\n",
       "      <th>Elena Delle Donne</th>\n",
       "      <td>Basketball</td>\n",
       "      <td>77</td>\n",
       "    </tr>\n",
       "    <tr>\n",
       "      <th>Gabby Douglas</th>\n",
       "      <td>Gymnastics</td>\n",
       "      <td>49</td>\n",
       "    </tr>\n",
       "    <tr>\n",
       "      <th>Jennifer Lacy</th>\n",
       "      <td>Basketball</td>\n",
       "      <td>75</td>\n",
       "    </tr>\n",
       "    <tr>\n",
       "      <th>Laurie Hernandez</th>\n",
       "      <td>Gymnastics</td>\n",
       "      <td>60</td>\n",
       "    </tr>\n",
       "    <tr>\n",
       "      <th>Linlin Deng</th>\n",
       "      <td>Gymnastics</td>\n",
       "      <td>54</td>\n",
       "    </tr>\n",
       "    <tr>\n",
       "      <th>Madison Kocian</th>\n",
       "      <td>Gymnastics</td>\n",
       "      <td>62</td>\n",
       "    </tr>\n",
       "    <tr>\n",
       "      <th>Nakia Sanford</th>\n",
       "      <td>Basketball</td>\n",
       "      <td>76</td>\n",
       "    </tr>\n",
       "    <tr>\n",
       "      <th>Nikki Blue</th>\n",
       "      <td>Basketball</td>\n",
       "      <td>68</td>\n",
       "    </tr>\n",
       "    <tr>\n",
       "      <th>Qiushuang Huang</th>\n",
       "      <td>Gymnastics</td>\n",
       "      <td>61</td>\n",
       "    </tr>\n",
       "    <tr>\n",
       "      <th>Rebecca Tunney</th>\n",
       "      <td>Gymnastics</td>\n",
       "      <td>58</td>\n",
       "    </tr>\n",
       "    <tr>\n",
       "      <th>Seimone Augustus</th>\n",
       "      <td>Basketball</td>\n",
       "      <td>72</td>\n",
       "    </tr>\n",
       "    <tr>\n",
       "      <th>Shanna Crossley</th>\n",
       "      <td>Basketball</td>\n",
       "      <td>70</td>\n",
       "    </tr>\n",
       "    <tr>\n",
       "      <th>Shavonte Zellous</th>\n",
       "      <td>Basketball</td>\n",
       "      <td>70</td>\n",
       "    </tr>\n",
       "    <tr>\n",
       "      <th>Simone Biles</th>\n",
       "      <td>Gymnastics</td>\n",
       "      <td>57</td>\n",
       "    </tr>\n",
       "    <tr>\n",
       "      <th>Viktoria Komova</th>\n",
       "      <td>Gymnastics</td>\n",
       "      <td>61</td>\n",
       "    </tr>\n",
       "  </tbody>\n",
       "</table>\n",
       "</div>"
      ],
      "text/plain": [
       "                        Sport  Height\n",
       "Name                                 \n",
       "Asuka Teramoto     Gymnastics      54\n",
       "Brittainey Raven   Basketball      72\n",
       "Chen Nan           Basketball      78\n",
       "Elena Delle Donne  Basketball      77\n",
       "Gabby Douglas      Gymnastics      49\n",
       "Jennifer Lacy      Basketball      75\n",
       "Laurie Hernandez   Gymnastics      60\n",
       "Linlin Deng        Gymnastics      54\n",
       "Madison Kocian     Gymnastics      62\n",
       "Nakia Sanford      Basketball      76\n",
       "Nikki Blue         Basketball      68\n",
       "Qiushuang Huang    Gymnastics      61\n",
       "Rebecca Tunney     Gymnastics      58\n",
       "Seimone Augustus   Basketball      72\n",
       "Shanna Crossley    Basketball      70\n",
       "Shavonte Zellous   Basketball      70\n",
       "Simone Biles       Gymnastics      57\n",
       "Viktoria Komova    Gymnastics      61"
      ]
     },
     "execution_count": 10,
     "metadata": {},
     "output_type": "execute_result"
    }
   ],
   "source": [
    "import pandas as pd\n",
    "from pandas import DataFrame\n",
    "athlete = pd.read_csv('https://raw.githubusercontent.com/zacharski/machine-learning/master/data/athletes.csv')\n",
    "a = athlete.set_index('Name')\n",
    "athletes = a[((a.Sport == 'Basketball') | (a.Sport == 'Gymnastics'))][['Sport', 'Height']]\n",
    "athletes = athletes.sort_index()\n",
    "athletes"
   ]
  },
  {
   "cell_type": "markdown",
   "metadata": {},
   "source": [
    "## Classifying sport based on height\n",
    "Ok, this is an easy one, but suppose I want to build a kNN classifier where I will give someone's weight and the classifier will say whether their sport is gymnastics or basketball.\n",
    "\n",
    "First, I will import the kNN algorithm and make an instance of it."
   ]
  },
  {
   "cell_type": "code",
   "execution_count": 11,
   "metadata": {
    "collapsed": true
   },
   "outputs": [],
   "source": [
    "from sklearn.neighbors import KNeighborsClassifier\n",
    "knn = KNeighborsClassifier(n_neighbors=3)"
   ]
  },
  {
   "cell_type": "markdown",
   "metadata": {},
   "source": [
    "Most classifiers in sklearn want the labels (the thing we are trying to predict) to be a separate parameter from the features. So we train the `knn` classifier we created as follows:\n"
   ]
  },
  {
   "cell_type": "code",
   "execution_count": 12,
   "metadata": {
    "collapsed": false
   },
   "outputs": [
    {
     "data": {
      "text/plain": [
       "KNeighborsClassifier(algorithm='auto', leaf_size=30, metric='minkowski',\n",
       "           metric_params=None, n_jobs=1, n_neighbors=3, p=2,\n",
       "           weights='uniform')"
      ]
     },
     "execution_count": 12,
     "metadata": {},
     "output_type": "execute_result"
    }
   ],
   "source": [
    "athletes_features = athletes['Height'].reshape(-1, 1)\n",
    "athletes_labels = athletes['Sport']\n",
    "knn.fit(athletes_features, athletes_labels)\n"
   ]
  },
  {
   "cell_type": "markdown",
   "metadata": {},
   "source": [
    "(That `.reshape(-1,1)` business is needed only if you have one feature. You can try it without that and read the error)\n",
    "\n",
    "Also, I could have done all that in one line:\n",
    "\n",
    "    knn.fit(athletes['Height'].reshape(-1, 1), athletes['Sport'])\n",
    "    \n",
    "but I just wanted to show you a common convention of names the features `_features` and the class that example is in as either `_labels` or `_class`.  We could have also named it `features_athletes`-- so anything that makes it clear. \n",
    "\n",
    "### let's classify something\n",
    "\n",
    "Nneka Ogwumike is 6'2\". Let's see what our classifier predicts:"
   ]
  },
  {
   "cell_type": "code",
   "execution_count": 13,
   "metadata": {
    "collapsed": false
   },
   "outputs": [
    {
     "name": "stdout",
     "output_type": "stream",
     "text": [
      "['Basketball']\n"
     ]
    }
   ],
   "source": [
    "print(knn.predict([[74]]))"
   ]
  },
  {
   "cell_type": "markdown",
   "metadata": {},
   "source": [
    "Ok. That is good considering Nneka Ogwumike is the 2016 MVP for the WNBA.\n",
    "\n",
    "We can also ask the classifier the probability that Nneka is a basketball player"
   ]
  },
  {
   "cell_type": "code",
   "execution_count": 14,
   "metadata": {
    "collapsed": false
   },
   "outputs": [
    {
     "name": "stdout",
     "output_type": "stream",
     "text": [
      "[[ 1.  0.]]\n"
     ]
    }
   ],
   "source": [
    "print(knn.predict_proba([[74]]))"
   ]
  },
  {
   "cell_type": "markdown",
   "metadata": {},
   "source": [
    "Ok. The probability that she is a basketball player is 1.0 and the probabity that she is a gymnast is 0.0. Cool. Let's try Leilani Mitchell who is 5'5\" tall (or Svetlana Khorkina who is also the same height):"
   ]
  },
  {
   "cell_type": "code",
   "execution_count": 38,
   "metadata": {
    "collapsed": false
   },
   "outputs": [
    {
     "name": "stdout",
     "output_type": "stream",
     "text": [
      "['Gymnastics']\n",
      "[[ 0.33333333  0.66666667]]\n"
     ]
    }
   ],
   "source": [
    "print(knn.predict([[65]]))\n",
    "print(knn.predict_proba([[65]]))"
   ]
  },
  {
   "cell_type": "markdown",
   "metadata": {},
   "source": [
    "Ok. So here our classifer predicts gymanstics. But is only .66 confident. Why?  \n",
    "\n",
    "For that let's look at the athletes in our training set sorted by height. "
   ]
  },
  {
   "cell_type": "code",
   "execution_count": 15,
   "metadata": {
    "collapsed": false
   },
   "outputs": [
    {
     "data": {
      "text/html": [
       "<div>\n",
       "<table border=\"1\" class=\"dataframe\">\n",
       "  <thead>\n",
       "    <tr style=\"text-align: right;\">\n",
       "      <th></th>\n",
       "      <th>Sport</th>\n",
       "      <th>Height</th>\n",
       "    </tr>\n",
       "    <tr>\n",
       "      <th>Name</th>\n",
       "      <th></th>\n",
       "      <th></th>\n",
       "    </tr>\n",
       "  </thead>\n",
       "  <tbody>\n",
       "    <tr>\n",
       "      <th>Gabby Douglas</th>\n",
       "      <td>Gymnastics</td>\n",
       "      <td>49</td>\n",
       "    </tr>\n",
       "    <tr>\n",
       "      <th>Asuka Teramoto</th>\n",
       "      <td>Gymnastics</td>\n",
       "      <td>54</td>\n",
       "    </tr>\n",
       "    <tr>\n",
       "      <th>Linlin Deng</th>\n",
       "      <td>Gymnastics</td>\n",
       "      <td>54</td>\n",
       "    </tr>\n",
       "    <tr>\n",
       "      <th>Simone Biles</th>\n",
       "      <td>Gymnastics</td>\n",
       "      <td>57</td>\n",
       "    </tr>\n",
       "    <tr>\n",
       "      <th>Rebecca Tunney</th>\n",
       "      <td>Gymnastics</td>\n",
       "      <td>58</td>\n",
       "    </tr>\n",
       "    <tr>\n",
       "      <th>Laurie Hernandez</th>\n",
       "      <td>Gymnastics</td>\n",
       "      <td>60</td>\n",
       "    </tr>\n",
       "    <tr>\n",
       "      <th>Qiushuang Huang</th>\n",
       "      <td>Gymnastics</td>\n",
       "      <td>61</td>\n",
       "    </tr>\n",
       "    <tr>\n",
       "      <th>Viktoria Komova</th>\n",
       "      <td>Gymnastics</td>\n",
       "      <td>61</td>\n",
       "    </tr>\n",
       "    <tr>\n",
       "      <th>Madison Kocian</th>\n",
       "      <td>Gymnastics</td>\n",
       "      <td>62</td>\n",
       "    </tr>\n",
       "    <tr>\n",
       "      <th>Nikki Blue</th>\n",
       "      <td>Basketball</td>\n",
       "      <td>68</td>\n",
       "    </tr>\n",
       "    <tr>\n",
       "      <th>Shanna Crossley</th>\n",
       "      <td>Basketball</td>\n",
       "      <td>70</td>\n",
       "    </tr>\n",
       "    <tr>\n",
       "      <th>Shavonte Zellous</th>\n",
       "      <td>Basketball</td>\n",
       "      <td>70</td>\n",
       "    </tr>\n",
       "    <tr>\n",
       "      <th>Brittainey Raven</th>\n",
       "      <td>Basketball</td>\n",
       "      <td>72</td>\n",
       "    </tr>\n",
       "    <tr>\n",
       "      <th>Seimone Augustus</th>\n",
       "      <td>Basketball</td>\n",
       "      <td>72</td>\n",
       "    </tr>\n",
       "    <tr>\n",
       "      <th>Jennifer Lacy</th>\n",
       "      <td>Basketball</td>\n",
       "      <td>75</td>\n",
       "    </tr>\n",
       "    <tr>\n",
       "      <th>Nakia Sanford</th>\n",
       "      <td>Basketball</td>\n",
       "      <td>76</td>\n",
       "    </tr>\n",
       "    <tr>\n",
       "      <th>Elena Delle Donne</th>\n",
       "      <td>Basketball</td>\n",
       "      <td>77</td>\n",
       "    </tr>\n",
       "    <tr>\n",
       "      <th>Chen Nan</th>\n",
       "      <td>Basketball</td>\n",
       "      <td>78</td>\n",
       "    </tr>\n",
       "  </tbody>\n",
       "</table>\n",
       "</div>"
      ],
      "text/plain": [
       "                        Sport  Height\n",
       "Name                                 \n",
       "Gabby Douglas      Gymnastics      49\n",
       "Asuka Teramoto     Gymnastics      54\n",
       "Linlin Deng        Gymnastics      54\n",
       "Simone Biles       Gymnastics      57\n",
       "Rebecca Tunney     Gymnastics      58\n",
       "Laurie Hernandez   Gymnastics      60\n",
       "Qiushuang Huang    Gymnastics      61\n",
       "Viktoria Komova    Gymnastics      61\n",
       "Madison Kocian     Gymnastics      62\n",
       "Nikki Blue         Basketball      68\n",
       "Shanna Crossley    Basketball      70\n",
       "Shavonte Zellous   Basketball      70\n",
       "Brittainey Raven   Basketball      72\n",
       "Seimone Augustus   Basketball      72\n",
       "Jennifer Lacy      Basketball      75\n",
       "Nakia Sanford      Basketball      76\n",
       "Elena Delle Donne  Basketball      77\n",
       "Chen Nan           Basketball      78"
      ]
     },
     "execution_count": 15,
     "metadata": {},
     "output_type": "execute_result"
    }
   ],
   "source": [
    "athletes.sort_values(by='Height')"
   ]
  },
  {
   "cell_type": "markdown",
   "metadata": {},
   "source": [
    "We are using kNN with a k of 3 and we are trying to classify someone who is 65 inches tall.  \n",
    "<h3 style=\"color:red\">Q1. 3 Nearest Neighbors  5xp</h3>\n",
    "<span style=\"color:red\">What sports do the 3 nearest neighbors play?</span>\n",
    "Double click this cell, enter the data, and shift-enter to render the cell\n",
    "\n",
    "Sport | Euclidean Distance\n",
    " :---: | :--: |\n",
    "  x |  0   \n",
    "  x | 0 \n",
    "  x | 0 \n",
    "  |\n",
    "  \n",
    "Why did I ask for Euclidean Distance? Well, when we created the classifier and used the `fit` method, the classifier returned:\n",
    "\n",
    "    KNeighborsClassifier(algorithm='auto', leaf_size=30, metric='minkowski',\n",
    "           metric_params=None, n_jobs=1, n_neighbors=3, p=2,\n",
    "           weights='uniform')\n",
    "           \n",
    "           \n",
    "You see that it uses the Minkowski distance. The `p` parameter is the power parameter for Minkowski and you see the default value is 2. When p=1 Minkowski distance is the Manhattan Distance, when p=2 it is the Euclidean distance. And when we created the classifier we set `k`, the number of nearest neightbors for kNN to 3 (the default is 5).  So the three nearest neighbors 'vote' on the label to give that example. So for 5'5\" Svetlana Khorkina 2 neighbors voted gymnastics and 1 voted basketball so gymnastics won.\n",
    "\n",
    "As we just discussed, for knn we have a number of parameters we can use to modify the classifier. For example, to build a Manhattan Distance kNN classifier with a k of 1:"
   ]
  },
  {
   "cell_type": "code",
   "execution_count": 40,
   "metadata": {
    "collapsed": false
   },
   "outputs": [
    {
     "data": {
      "text/plain": [
       "KNeighborsClassifier(algorithm='auto', leaf_size=30, metric='minkowski',\n",
       "           metric_params=None, n_jobs=1, n_neighbors=1, p=1,\n",
       "           weights='uniform')"
      ]
     },
     "execution_count": 40,
     "metadata": {},
     "output_type": "execute_result"
    }
   ],
   "source": [
    "knnOne = KNeighborsClassifier(n_neighbors=1, p= 1)\n",
    "knnOne.fit(athletes['Height'].reshape(-1, 1), athletes['Sport'])"
   ]
  },
  {
   "cell_type": "markdown",
   "metadata": {},
   "source": [
    "And using `sklearn`, it is quite easy to build and use a variety of classifiers. For example, in a few weeks we will be learning about Naive Bayes classifiers. We can build one of those without even knowing much about the algorithm:"
   ]
  },
  {
   "cell_type": "code",
   "execution_count": 16,
   "metadata": {
    "collapsed": false
   },
   "outputs": [
    {
     "data": {
      "text/plain": [
       "GaussianNB()"
      ]
     },
     "execution_count": 16,
     "metadata": {},
     "output_type": "execute_result"
    }
   ],
   "source": [
    "from sklearn.naive_bayes import GaussianNB\n",
    "clf = GaussianNB()\n",
    "clf.fit(athletes['Height'].reshape(-1, 1), athletes['Sport'])"
   ]
  },
  {
   "cell_type": "code",
   "execution_count": 50,
   "metadata": {
    "collapsed": false
   },
   "outputs": [
    {
     "data": {
      "text/plain": [
       "array(['Basketball'], \n",
       "      dtype='<U10')"
      ]
     },
     "execution_count": 50,
     "metadata": {},
     "output_type": "execute_result"
    }
   ],
   "source": [
    "clf.predict([[70]])"
   ]
  },
  {
   "cell_type": "markdown",
   "metadata": {},
   "source": [
    "Ok. back to kNN.\n",
    "\n"
   ]
  },
  {
   "cell_type": "markdown",
   "metadata": {},
   "source": [
    "# return to kNN\n",
    "I still have my `knn` classifier:"
   ]
  },
  {
   "cell_type": "code",
   "execution_count": 52,
   "metadata": {
    "collapsed": false
   },
   "outputs": [
    {
     "data": {
      "text/plain": [
       "KNeighborsClassifier(algorithm='auto', leaf_size=30, metric='minkowski',\n",
       "           metric_params=None, n_jobs=1, n_neighbors=3, p=2,\n",
       "           weights='uniform')"
      ]
     },
     "execution_count": 52,
     "metadata": {},
     "output_type": "execute_result"
    }
   ],
   "source": [
    "knn"
   ]
  },
  {
   "cell_type": "markdown",
   "metadata": {},
   "source": [
    "### training and test sets\n",
    "\n",
    "When we `fit` the classifier:\n",
    "\n",
    "    knn.fit(athletes_features, athletes_labels)\n",
    "\n",
    "We trained the classifer on a set of data that we use for training, and not surprisingly, this is called the **training set**.  So perhaps a better variable name would be:\n",
    "\n",
    "    athletes_training_features   athletes_training_labels\n",
    "\n",
    "To see how **good** a classifier we made (more on the meaning of good later) we use a set of data called the **test** set. \n",
    "\n",
    "Let's create a test set now:\n",
    "    \n",
    "    \n",
    "\n"
   ]
  },
  {
   "cell_type": "code",
   "execution_count": 5,
   "metadata": {
    "collapsed": false
   },
   "outputs": [
    {
     "data": {
      "text/html": [
       "<div>\n",
       "<table border=\"1\" class=\"dataframe\">\n",
       "  <thead>\n",
       "    <tr style=\"text-align: right;\">\n",
       "      <th></th>\n",
       "      <th>Height</th>\n",
       "    </tr>\n",
       "  </thead>\n",
       "  <tbody>\n",
       "    <tr>\n",
       "      <th>Nneka Ogwumike</th>\n",
       "      <td>74</td>\n",
       "    </tr>\n",
       "    <tr>\n",
       "      <th>Svetlana Khorkina</th>\n",
       "      <td>65</td>\n",
       "    </tr>\n",
       "    <tr>\n",
       "      <th>Leilani Mitchell</th>\n",
       "      <td>65</td>\n",
       "    </tr>\n",
       "  </tbody>\n",
       "</table>\n",
       "</div>"
      ],
      "text/plain": [
       "                   Height\n",
       "Nneka Ogwumike         74\n",
       "Svetlana Khorkina      65\n",
       "Leilani Mitchell       65"
      ]
     },
     "execution_count": 5,
     "metadata": {},
     "output_type": "execute_result"
    }
   ],
   "source": [
    "athletes_test_features = DataFrame({'Height': [74, 65, 65]}, index=['Nneka Ogwumike', 'Svetlana Khorkina', 'Leilani Mitchell'])\n",
    "athletes_test_features"
   ]
  },
  {
   "cell_type": "markdown",
   "metadata": {},
   "source": [
    "and now we can make predictions on everyone in our test set:"
   ]
  },
  {
   "cell_type": "code",
   "execution_count": 6,
   "metadata": {
    "collapsed": false
   },
   "outputs": [
    {
     "data": {
      "text/plain": [
       "array(['Basketball', 'Gymnastics', 'Gymnastics'], dtype=object)"
      ]
     },
     "execution_count": 6,
     "metadata": {},
     "output_type": "execute_result"
    }
   ],
   "source": [
    "knn.predict(athletes_test_features)"
   ]
  },
  {
   "cell_type": "markdown",
   "metadata": {},
   "source": [
    "sweet!\n",
    "\n",
    "## the non-coding part of the notebook\n",
    "First, here is a confession. I know zip about sports. I've never had an interest and don't watch any sporting event. So if I make some horrendous mistake in these descriptions you may want to cut me some slack. I am using sports as an example because \n",
    "\n",
    "1. height and weight are easy things to talk about (and it is harder to come up with easy features for musicians, and \n",
    "2. it is easy to get the height and weight of sports people (it's much, much, tougher to get the height and weight of dancers for example). \n",
    "\n",
    "Let's go back to thinking about height and weight as features. Allyson Michelle Felix is among the fastest women on the planet (she won 6 Olympic Gold Medals). Her height is 5'5 and she weighs 121. Courtney Williams is a guard for the Connecticut Suns WNBA team. She is 5'8\" and weighs 136.  Here is the chart so you can see those numbers:\n",
    "\n",
    "\n",
    " | height | weight\n",
    " :---: |  :---: | :---: \n",
    "Allyson Michelle Felix | 65 | 121\n",
    "Courtney Williams | 68 | 136\n",
    "\n",
    "\n",
    "Now I want to classify an athlete who is 5'4 and weighs 130. What is your gut feeling? Do you think she is a track person or a WNBA player?\n",
    "\n",
    "My thinking is that she is track since she seems too short for a basketball player (and plus I know that those are the stats for Carmelita 'The Jet' Jeter, the fastest women on the planet.  But if we classify by using the Manhattan Distance:\n",
    "\n",
    " | height | weight\n",
    " :---: |  :---: | :---: \n",
    "Allyson Michelle Felix | 65 | 121\n",
    "Courtney Williams | 68 | 136\n",
    "\n",
    "    distance(Carmelita, Allyson) = abs(64 - 65) + abs(130 - 120) = 1 + 10 = 11\n",
    "    distance(Carmelita, Courtney) = abs(64 - 68) + abs(130 - 136) = 4 + 6 = 10\n",
    "    \n",
    "We'd pick that she was a basketball player (and we would still pick basketball even if we used Euclidean Distance.\n",
    "    \n",
    "\n",
    "So this is sort of a bummer.  It's the same problem that I mentioned earlier in the semester. If I had a match making site and had this misguided idea that the best relationships are those people who are about the same age and have the same salaries. And I have 2 guys:\n",
    "\n",
    " | age | salary\n",
    " ---: | :---: | :---: \n",
    " Mr. Cool | 26 | 80,000\n",
    " Old Dude | 67 | 115,000\n",
    " \n",
    " And I am trying to match up Ann who is 28 and earns 100k. \n",
    " \n",
    " The Manhattan Distance between Ann and Mr. Cool is 2 + 20k = 20,002.\n",
    " \n",
    " The Manhattan Distance between Ann and Old Dude is 31 + 15k  = 15,031\n",
    " \n",
    " So, sadly, our algorithm would recommend the old dude to Ann. This is again a bummer. The problem in both examples is that the range of values in one column is far larger than the range in another column. \n",
    " \n",
    "### rescaling\n",
    "\n",
    "A solution to this problem is to rescale the values so the values in all columns range from 0 to 1. There are other (and possibly better) ways to rescale but let's start with this simple one for now.\n",
    "\n",
    "##### the formula for minmax rescaling:\n",
    "\n",
    "### $$x'= \\frac{x-x_{min}}{x_{max}-x_{min}}$$\n",
    "\n",
    "Let's look at our simple example of Ann, Mr. Cool and Old Dude:\n",
    "\n",
    "| age | salary\n",
    " ---: | :---: | :---: \n",
    " Mr. Cool | 26 | 80,000\n",
    " Old Dude | 67 | 115,000\n",
    " Ann   | 28 | 100,000\n",
    "\n",
    "so the minimum value of the age column is 26 and the max is 67 and let's say I want to normalize Mr. Cool's age:\n",
    "\n",
    "\n",
    "### $$x'_{Mr.Cool}= \\frac{x_{Mr.Cool}-x_{min}}{x_{max}-x_{min}} = \\frac{26-26}{67-26} = \\frac{0}{41} = 0$$\n",
    "\n",
    "Ann's normalized age:\n",
    "\n",
    "### $$x'_{Ann}= \\frac{x_{Ann}-x_{min}}{x_{max}-x_{min}} = \\frac{28-26}{67-26} = \\frac{2}{41} = 0.048$$\n",
    "\n",
    "Old Dude's normalized age:\n",
    "\n",
    "### $$x'_{OldDude}= \\frac{x_{OldDude}-x_{min}}{x_{max}-x_{min}} = \\frac{67-26}{67-26} = \\frac{41}{41} = 1$$\n",
    "\n",
    "\n",
    "<h3 style=\"color:red\">Q2. Normalize Salary  5xp</h3>\n",
    "<span style=\"color:red\">Can you normalize the values in the salary column?</span>\n",
    "\n",
    "Double click this cell, enter the data, and shift-enter to render this markdown cell\n",
    "\n",
    "| age | salary\n",
    " ---: | :---: | :---: \n",
    " Mr. Cool | 0 | 80,000\n",
    "Old Dude | 0.048 | 115,000\n",
    " Ann   | 1 | 100,000"
   ]
  },
  {
   "cell_type": "markdown",
   "metadata": {},
   "source": [
    "## It's pretty easy to do this in straight Python:\n",
    "\n"
   ]
  },
  {
   "cell_type": "code",
   "execution_count": 70,
   "metadata": {
    "collapsed": false
   },
   "outputs": [
    {
     "data": {
      "text/plain": [
       "[0.0, 1.0, 0.04878048780487805]"
      ]
     },
     "execution_count": 70,
     "metadata": {},
     "output_type": "execute_result"
    }
   ],
   "source": [
    "age = [26, 67, 28]\n",
    "\n",
    "def scale(arr):\n",
    "    return [(x - min(arr))/ (max(arr) - min(arr)) for x in arr]\n",
    "\n",
    "scale(age)\n"
   ]
  },
  {
   "cell_type": "markdown",
   "metadata": {},
   "source": [
    "## Using the min-max scale method in sklearn\n",
    "It's even easier to do it for pandas DataFrames. \n",
    "First, let's make a dataframe from the data we have been using."
   ]
  },
  {
   "cell_type": "code",
   "execution_count": 71,
   "metadata": {
    "collapsed": false
   },
   "outputs": [
    {
     "data": {
      "text/html": [
       "<div>\n",
       "<table border=\"1\" class=\"dataframe\">\n",
       "  <thead>\n",
       "    <tr style=\"text-align: right;\">\n",
       "      <th></th>\n",
       "      <th>age</th>\n",
       "      <th>salary</th>\n",
       "    </tr>\n",
       "  </thead>\n",
       "  <tbody>\n",
       "    <tr>\n",
       "      <th>Mr. Cool</th>\n",
       "      <td>26</td>\n",
       "      <td>80000</td>\n",
       "    </tr>\n",
       "    <tr>\n",
       "      <th>Old Dude</th>\n",
       "      <td>67</td>\n",
       "      <td>115000</td>\n",
       "    </tr>\n",
       "    <tr>\n",
       "      <th>Ann</th>\n",
       "      <td>28</td>\n",
       "      <td>100000</td>\n",
       "    </tr>\n",
       "  </tbody>\n",
       "</table>\n",
       "</div>"
      ],
      "text/plain": [
       "          age  salary\n",
       "Mr. Cool   26   80000\n",
       "Old Dude   67  115000\n",
       "Ann        28  100000"
      ]
     },
     "execution_count": 71,
     "metadata": {},
     "output_type": "execute_result"
    }
   ],
   "source": [
    "simple = DataFrame({'age': [26, 67, 28], 'salary': [80000, 115000, 100000]}, index=['Mr. Cool', 'Old Dude', 'Ann'])\n",
    "simple"
   ]
  },
  {
   "cell_type": "markdown",
   "metadata": {},
   "source": [
    "ok. and now let's scale those values:"
   ]
  },
  {
   "cell_type": "code",
   "execution_count": 78,
   "metadata": {
    "collapsed": false
   },
   "outputs": [
    {
     "data": {
      "text/html": [
       "<div>\n",
       "<table border=\"1\" class=\"dataframe\">\n",
       "  <thead>\n",
       "    <tr style=\"text-align: right;\">\n",
       "      <th></th>\n",
       "      <th>age</th>\n",
       "      <th>salary</th>\n",
       "    </tr>\n",
       "  </thead>\n",
       "  <tbody>\n",
       "    <tr>\n",
       "      <th>Mr. Cool</th>\n",
       "      <td>0.00000</td>\n",
       "      <td>0.000000</td>\n",
       "    </tr>\n",
       "    <tr>\n",
       "      <th>Old Dude</th>\n",
       "      <td>1.00000</td>\n",
       "      <td>1.000000</td>\n",
       "    </tr>\n",
       "    <tr>\n",
       "      <th>Ann</th>\n",
       "      <td>0.04878</td>\n",
       "      <td>0.571429</td>\n",
       "    </tr>\n",
       "  </tbody>\n",
       "</table>\n",
       "</div>"
      ],
      "text/plain": [
       "              age    salary\n",
       "Mr. Cool  0.00000  0.000000\n",
       "Old Dude  1.00000  1.000000\n",
       "Ann       0.04878  0.571429"
      ]
     },
     "execution_count": 78,
     "metadata": {},
     "output_type": "execute_result"
    }
   ],
   "source": [
    "from sklearn.preprocessing import MinMaxScaler\n",
    "scaler = MinMaxScaler()\n",
    "simple[['age', 'salary']] =  scaler.fit_transform(simple[['age', 'salary']] )\n",
    "simple"
   ]
  },
  {
   "cell_type": "markdown",
   "metadata": {},
   "source": [
    "Cool.  Now when I try to find the Manhattan distance from Ann to both Mr. Cool and Old Dude I get:\n",
    "\n",
    "###   $$distance_{Ann,Mr.Cool} = \\left|.048 - 0.0\\right| + \\left|0.57-0\\right| = .048 + 0.57 = 0.618$$\n",
    "\n",
    "###   $$distance_{Ann,OldDude} = \\left|.048 - 1.0\\right| + \\left|0.57-1\\right| = .952 + 0.57 = 1.32$$\n",
    "\n",
    "#### Now, fortunately, Ann is closer to Mr. Cool!\n",
    "\n",
    "\n",
    "\n",
    "\n",
    "\n",
    "<h1 style=\"color:red\">Q3. A bigger challenge: The Iris Data Set</h1>\n",
    "\n",
    "\n",
    "<img src=\"https://upload.wikimedia.org/wikipedia/commons/1/1e/IMG_7911-Iris_virginica.jpg\" width=\"250\" />\n",
    "\n",
    "We are going to use the Iris Dataset, one of the standard data mining data sets which has been around since 1988.  The data set contains 3 classes of 50 instances each\n",
    "\n",
    "1. Iris Setosa \n",
    "2. Iris Versicolour \n",
    "3. Iris Virginica (the picture above)\n",
    "\n",
    "There are only 3 attributes or features:\n",
    "\n",
    "1. sepal length in cm \n",
    "2. sepal width in cm \n",
    "3. petal length in cm \n",
    "4. petal width in cm \n",
    "\n",
    "Here is an example of the data:\n",
    "\n",
    "Sepal Length|Sepal Width|Petal Length|Petal Width|Class\n",
    ":--: | :--: |:--: |:--: |:--: \n",
    "5.3|3.7|1.5|0.2|Iris-setosa\n",
    "5.0|3.3|1.4|0.2|Iris-setosa\n",
    "5.0|2.0|3.5|1.0|Iris-versicolor\n",
    "5.9|3.0|4.2|1.5|Iris-versicolor\n",
    "6.3|3.4|5.6|2.4|Iris-virginica\n",
    "6.4|3.1|5.5|1.8|Iris-virginica\n",
    "\n",
    "The job of the classifier is to determine the class of an instance from the values of the attributes.\n",
    "\n",
    "I will pause a moment while you load the dataset from\n",
    "\n",
    "    https://raw.githubusercontent.com/zacharski/machine-learning/master/data/irisTrain.csv"
   ]
  },
  {
   "cell_type": "code",
   "execution_count": null,
   "metadata": {
    "collapsed": false
   },
   "outputs": [],
   "source": []
  },
  {
   "cell_type": "markdown",
   "metadata": {
    "collapsed": true
   },
   "source": [
    "<h2 style=\"color:red\">Q3.1 Scatter Plot   15xp</h2>\n",
    "<span style=\"color:red\">I'd like a scatter graph where the x and y coordinates are pedal length and width and the color of the dots indicates the iris class. Do the same with sepal height and width</span>.  \n",
    "\n",
    "We haven't covered how to make the dot color dependent on a column in the data so you will need to Google it."
   ]
  },
  {
   "cell_type": "code",
   "execution_count": 18,
   "metadata": {
    "collapsed": false
   },
   "outputs": [
    {
     "data": {
      "text/html": [
       "\n",
       "    <div class=\"bk-root\">\n",
       "        <a href=\"http://bokeh.pydata.org\" target=\"_blank\" class=\"bk-logo bk-logo-small bk-logo-notebook\"></a>\n",
       "        <span id=\"50dafd03-2953-428f-a100-267dc2f0d54b\">Loading BokehJS ...</span>\n",
       "    </div>"
      ]
     },
     "metadata": {},
     "output_type": "display_data"
    },
    {
     "data": {
      "application/javascript": [
       "\n",
       "(function(global) {\n",
       "  function now() {\n",
       "    return new Date();\n",
       "  }\n",
       "\n",
       "  var force = \"1\";\n",
       "\n",
       "  if (typeof (window._bokeh_onload_callbacks) === \"undefined\" || force !== \"\") {\n",
       "    window._bokeh_onload_callbacks = [];\n",
       "    window._bokeh_is_loading = undefined;\n",
       "  }\n",
       "\n",
       "\n",
       "  \n",
       "  if (typeof (window._bokeh_timeout) === \"undefined\" || force !== \"\") {\n",
       "    window._bokeh_timeout = Date.now() + 5000;\n",
       "    window._bokeh_failed_load = false;\n",
       "  }\n",
       "\n",
       "  var NB_LOAD_WARNING = {'data': {'text/html':\n",
       "     \"<div style='background-color: #fdd'>\\n\"+\n",
       "     \"<p>\\n\"+\n",
       "     \"BokehJS does not appear to have successfully loaded. If loading BokehJS from CDN, this \\n\"+\n",
       "     \"may be due to a slow or bad network connection. Possible fixes:\\n\"+\n",
       "     \"</p>\\n\"+\n",
       "     \"<ul>\\n\"+\n",
       "     \"<li>re-rerun `output_notebook()` to attempt to load from CDN again, or</li>\\n\"+\n",
       "     \"<li>use INLINE resources instead, as so:</li>\\n\"+\n",
       "     \"</ul>\\n\"+\n",
       "     \"<code>\\n\"+\n",
       "     \"from bokeh.resources import INLINE\\n\"+\n",
       "     \"output_notebook(resources=INLINE)\\n\"+\n",
       "     \"</code>\\n\"+\n",
       "     \"</div>\"}};\n",
       "\n",
       "  function display_loaded() {\n",
       "    if (window.Bokeh !== undefined) {\n",
       "      Bokeh.$(\"#50dafd03-2953-428f-a100-267dc2f0d54b\").text(\"BokehJS successfully loaded.\");\n",
       "    } else if (Date.now() < window._bokeh_timeout) {\n",
       "      setTimeout(display_loaded, 100)\n",
       "    }\n",
       "  }\n",
       "\n",
       "  function run_callbacks() {\n",
       "    window._bokeh_onload_callbacks.forEach(function(callback) { callback() });\n",
       "    delete window._bokeh_onload_callbacks\n",
       "    console.info(\"Bokeh: all callbacks have finished\");\n",
       "  }\n",
       "\n",
       "  function load_libs(js_urls, callback) {\n",
       "    window._bokeh_onload_callbacks.push(callback);\n",
       "    if (window._bokeh_is_loading > 0) {\n",
       "      console.log(\"Bokeh: BokehJS is being loaded, scheduling callback at\", now());\n",
       "      return null;\n",
       "    }\n",
       "    if (js_urls == null || js_urls.length === 0) {\n",
       "      run_callbacks();\n",
       "      return null;\n",
       "    }\n",
       "    console.log(\"Bokeh: BokehJS not loaded, scheduling load and callback at\", now());\n",
       "    window._bokeh_is_loading = js_urls.length;\n",
       "    for (var i = 0; i < js_urls.length; i++) {\n",
       "      var url = js_urls[i];\n",
       "      var s = document.createElement('script');\n",
       "      s.src = url;\n",
       "      s.async = false;\n",
       "      s.onreadystatechange = s.onload = function() {\n",
       "        window._bokeh_is_loading--;\n",
       "        if (window._bokeh_is_loading === 0) {\n",
       "          console.log(\"Bokeh: all BokehJS libraries loaded\");\n",
       "          run_callbacks()\n",
       "        }\n",
       "      };\n",
       "      s.onerror = function() {\n",
       "        console.warn(\"failed to load library \" + url);\n",
       "      };\n",
       "      console.log(\"Bokeh: injecting script tag for BokehJS library: \", url);\n",
       "      document.getElementsByTagName(\"head\")[0].appendChild(s);\n",
       "    }\n",
       "  };var element = document.getElementById(\"50dafd03-2953-428f-a100-267dc2f0d54b\");\n",
       "  if (element == null) {\n",
       "    console.log(\"Bokeh: ERROR: autoload.js configured with elementid '50dafd03-2953-428f-a100-267dc2f0d54b' but no matching script tag was found. \")\n",
       "    return false;\n",
       "  }\n",
       "\n",
       "  var js_urls = ['https://cdn.pydata.org/bokeh/release/bokeh-0.12.2.min.js', 'https://cdn.pydata.org/bokeh/release/bokeh-widgets-0.12.2.min.js', 'https://cdn.pydata.org/bokeh/release/bokeh-compiler-0.12.2.min.js'];\n",
       "\n",
       "  var inline_js = [\n",
       "    function(Bokeh) {\n",
       "      Bokeh.set_log_level(\"info\");\n",
       "    },\n",
       "    \n",
       "    function(Bokeh) {\n",
       "      \n",
       "      Bokeh.$(\"#50dafd03-2953-428f-a100-267dc2f0d54b\").text(\"BokehJS is loading...\");\n",
       "    },\n",
       "    function(Bokeh) {\n",
       "      console.log(\"Bokeh: injecting CSS: https://cdn.pydata.org/bokeh/release/bokeh-0.12.2.min.css\");\n",
       "      Bokeh.embed.inject_css(\"https://cdn.pydata.org/bokeh/release/bokeh-0.12.2.min.css\");\n",
       "      console.log(\"Bokeh: injecting CSS: https://cdn.pydata.org/bokeh/release/bokeh-widgets-0.12.2.min.css\");\n",
       "      Bokeh.embed.inject_css(\"https://cdn.pydata.org/bokeh/release/bokeh-widgets-0.12.2.min.css\");\n",
       "    }\n",
       "  ];\n",
       "\n",
       "  function run_inline_js() {\n",
       "    \n",
       "    if ((window.Bokeh !== undefined) || (force === \"1\")) {\n",
       "      for (var i = 0; i < inline_js.length; i++) {\n",
       "        inline_js[i](window.Bokeh);\n",
       "      }if (force === \"1\") {\n",
       "        display_loaded();\n",
       "      }} else if (Date.now() < window._bokeh_timeout) {\n",
       "      setTimeout(run_inline_js, 100);\n",
       "    } else if (!window._bokeh_failed_load) {\n",
       "      console.log(\"Bokeh: BokehJS failed to load within specified timeout.\");\n",
       "      window._bokeh_failed_load = true;\n",
       "    } else if (!force) {\n",
       "      var cell = $(\"#50dafd03-2953-428f-a100-267dc2f0d54b\").parents('.cell').data().cell;\n",
       "      cell.output_area.append_execute_result(NB_LOAD_WARNING)\n",
       "    }\n",
       "\n",
       "  }\n",
       "\n",
       "  if (window._bokeh_is_loading === 0) {\n",
       "    console.log(\"Bokeh: BokehJS loaded, going straight to plotting\");\n",
       "    run_inline_js();\n",
       "  } else {\n",
       "    load_libs(js_urls, function() {\n",
       "      console.log(\"Bokeh: BokehJS plotting callback run at\", now());\n",
       "      run_inline_js();\n",
       "    });\n",
       "  }\n",
       "}(this));"
      ]
     },
     "metadata": {},
     "output_type": "display_data"
    },
    {
     "data": {
      "text/html": [
       "\n",
       "\n",
       "    <div class=\"bk-root\">\n",
       "        <div class=\"plotdiv\" id=\"095df25e-78f8-4f28-8db0-c7f9e0d8e660\"></div>\n",
       "    </div>\n",
       "<script type=\"text/javascript\">\n",
       "  \n",
       "  (function(global) {\n",
       "    function now() {\n",
       "      return new Date();\n",
       "    }\n",
       "  \n",
       "    var force = \"\";\n",
       "  \n",
       "    if (typeof (window._bokeh_onload_callbacks) === \"undefined\" || force !== \"\") {\n",
       "      window._bokeh_onload_callbacks = [];\n",
       "      window._bokeh_is_loading = undefined;\n",
       "    }\n",
       "  \n",
       "  \n",
       "    \n",
       "    if (typeof (window._bokeh_timeout) === \"undefined\" || force !== \"\") {\n",
       "      window._bokeh_timeout = Date.now() + 0;\n",
       "      window._bokeh_failed_load = false;\n",
       "    }\n",
       "  \n",
       "    var NB_LOAD_WARNING = {'data': {'text/html':\n",
       "       \"<div style='background-color: #fdd'>\\n\"+\n",
       "       \"<p>\\n\"+\n",
       "       \"BokehJS does not appear to have successfully loaded. If loading BokehJS from CDN, this \\n\"+\n",
       "       \"may be due to a slow or bad network connection. Possible fixes:\\n\"+\n",
       "       \"</p>\\n\"+\n",
       "       \"<ul>\\n\"+\n",
       "       \"<li>re-rerun `output_notebook()` to attempt to load from CDN again, or</li>\\n\"+\n",
       "       \"<li>use INLINE resources instead, as so:</li>\\n\"+\n",
       "       \"</ul>\\n\"+\n",
       "       \"<code>\\n\"+\n",
       "       \"from bokeh.resources import INLINE\\n\"+\n",
       "       \"output_notebook(resources=INLINE)\\n\"+\n",
       "       \"</code>\\n\"+\n",
       "       \"</div>\"}};\n",
       "  \n",
       "    function display_loaded() {\n",
       "      if (window.Bokeh !== undefined) {\n",
       "        Bokeh.$(\"#095df25e-78f8-4f28-8db0-c7f9e0d8e660\").text(\"BokehJS successfully loaded.\");\n",
       "      } else if (Date.now() < window._bokeh_timeout) {\n",
       "        setTimeout(display_loaded, 100)\n",
       "      }\n",
       "    }\n",
       "  \n",
       "    function run_callbacks() {\n",
       "      window._bokeh_onload_callbacks.forEach(function(callback) { callback() });\n",
       "      delete window._bokeh_onload_callbacks\n",
       "      console.info(\"Bokeh: all callbacks have finished\");\n",
       "    }\n",
       "  \n",
       "    function load_libs(js_urls, callback) {\n",
       "      window._bokeh_onload_callbacks.push(callback);\n",
       "      if (window._bokeh_is_loading > 0) {\n",
       "        console.log(\"Bokeh: BokehJS is being loaded, scheduling callback at\", now());\n",
       "        return null;\n",
       "      }\n",
       "      if (js_urls == null || js_urls.length === 0) {\n",
       "        run_callbacks();\n",
       "        return null;\n",
       "      }\n",
       "      console.log(\"Bokeh: BokehJS not loaded, scheduling load and callback at\", now());\n",
       "      window._bokeh_is_loading = js_urls.length;\n",
       "      for (var i = 0; i < js_urls.length; i++) {\n",
       "        var url = js_urls[i];\n",
       "        var s = document.createElement('script');\n",
       "        s.src = url;\n",
       "        s.async = false;\n",
       "        s.onreadystatechange = s.onload = function() {\n",
       "          window._bokeh_is_loading--;\n",
       "          if (window._bokeh_is_loading === 0) {\n",
       "            console.log(\"Bokeh: all BokehJS libraries loaded\");\n",
       "            run_callbacks()\n",
       "          }\n",
       "        };\n",
       "        s.onerror = function() {\n",
       "          console.warn(\"failed to load library \" + url);\n",
       "        };\n",
       "        console.log(\"Bokeh: injecting script tag for BokehJS library: \", url);\n",
       "        document.getElementsByTagName(\"head\")[0].appendChild(s);\n",
       "      }\n",
       "    };var element = document.getElementById(\"095df25e-78f8-4f28-8db0-c7f9e0d8e660\");\n",
       "    if (element == null) {\n",
       "      console.log(\"Bokeh: ERROR: autoload.js configured with elementid '095df25e-78f8-4f28-8db0-c7f9e0d8e660' but no matching script tag was found. \")\n",
       "      return false;\n",
       "    }\n",
       "  \n",
       "    var js_urls = [];\n",
       "  \n",
       "    var inline_js = [\n",
       "      function(Bokeh) {\n",
       "        Bokeh.$(function() {\n",
       "            var docs_json = {\"0934a4a6-8304-4b4a-afc7-608abcb30f6a\":{\"roots\":{\"references\":[{\"attributes\":{},\"id\":\"6e614872-0c95-49ca-bfab-02abb3938327\",\"type\":\"BasicTicker\"},{\"attributes\":{\"bottom_units\":\"screen\",\"fill_alpha\":{\"value\":0.5},\"fill_color\":{\"value\":\"lightgrey\"},\"left_units\":\"screen\",\"level\":\"overlay\",\"line_alpha\":{\"value\":1.0},\"line_color\":{\"value\":\"black\"},\"line_dash\":[4,4],\"line_width\":{\"value\":2},\"plot\":null,\"render_mode\":\"css\",\"right_units\":\"screen\",\"top_units\":\"screen\"},\"id\":\"ca1d63fc-d098-4f7e-a02a-b8efee301402\",\"type\":\"BoxAnnotation\"},{\"attributes\":{},\"id\":\"0ac57902-af72-4967-a270-ea0a602d94e9\",\"type\":\"BasicTickFormatter\"},{\"attributes\":{\"plot\":{\"id\":\"da3309dd-d023-43c3-9f23-9907869c4793\",\"subtype\":\"Chart\",\"type\":\"Plot\"}},\"id\":\"ff5896e0-f72d-4cf9-965c-25f178687e04\",\"type\":\"PanTool\"},{\"attributes\":{},\"id\":\"b4ca56cd-0018-4c35-93eb-a094393e2e60\",\"type\":\"BasicTicker\"},{\"attributes\":{\"fill_alpha\":{\"value\":0.7},\"fill_color\":{\"value\":\"#407ee7\"},\"line_color\":{\"value\":\"#407ee7\"},\"size\":{\"units\":\"screen\",\"value\":8},\"x\":{\"field\":\"x_values\"},\"y\":{\"field\":\"y_values\"}},\"id\":\"a7aa0c6a-7562-4000-9314-318520427349\",\"type\":\"Circle\"},{\"attributes\":{\"plot\":{\"id\":\"da3309dd-d023-43c3-9f23-9907869c4793\",\"subtype\":\"Chart\",\"type\":\"Plot\"}},\"id\":\"b8842a92-1240-41c2-b725-8fb020caf3db\",\"type\":\"SaveTool\"},{\"attributes\":{\"active_drag\":\"auto\",\"active_scroll\":\"auto\",\"active_tap\":\"auto\",\"tools\":[{\"id\":\"ff5896e0-f72d-4cf9-965c-25f178687e04\",\"type\":\"PanTool\"},{\"id\":\"b625e7e5-73ab-4099-b06c-c151bb36d300\",\"type\":\"WheelZoomTool\"},{\"id\":\"79608590-1f75-4cc7-bf1e-9afb093e5678\",\"type\":\"BoxZoomTool\"},{\"id\":\"b8842a92-1240-41c2-b725-8fb020caf3db\",\"type\":\"SaveTool\"},{\"id\":\"5318cff6-873e-4aca-a4e5-9807728b410f\",\"type\":\"ResetTool\"},{\"id\":\"f6a25e9a-d2d8-40c9-b6ca-11f1915496ed\",\"type\":\"HelpTool\"}]},\"id\":\"421f022a-6b71-475b-8352-ebc8c2abc91c\",\"type\":\"Toolbar\"},{\"attributes\":{\"data_source\":{\"id\":\"669e8270-8a55-4629-b4f8-76cbffae453d\",\"type\":\"ColumnDataSource\"},\"glyph\":{\"id\":\"7c78754b-6cb8-4a08-a7b0-3d1115d33afa\",\"type\":\"Circle\"},\"hover_glyph\":null,\"nonselection_glyph\":null,\"selection_glyph\":null},\"id\":\"3eb78cd9-cb91-40f8-a62b-ca5714937ef6\",\"type\":\"GlyphRenderer\"},{\"attributes\":{\"plot\":{\"id\":\"da3309dd-d023-43c3-9f23-9907869c4793\",\"subtype\":\"Chart\",\"type\":\"Plot\"}},\"id\":\"b625e7e5-73ab-4099-b06c-c151bb36d300\",\"type\":\"WheelZoomTool\"},{\"attributes\":{\"plot\":null,\"text\":\"Montly Expenditures on Makeup and Clothes\"},\"id\":\"b4f10588-3fb1-47de-964d-2b2d4a73217e\",\"type\":\"Title\"},{\"attributes\":{\"legends\":[[\"Iris-setosa\",[{\"id\":\"3eb78cd9-cb91-40f8-a62b-ca5714937ef6\",\"type\":\"GlyphRenderer\"}]],[\"Iris-versicolor\",[{\"id\":\"7d5a489e-c1cc-4df6-b0b8-16f28f32bceb\",\"type\":\"GlyphRenderer\"}]],[\"Iris-virginica\",[{\"id\":\"95f8892e-ed75-4f0d-842d-2c4413b67cce\",\"type\":\"GlyphRenderer\"}]]],\"location\":\"top_left\",\"plot\":{\"id\":\"da3309dd-d023-43c3-9f23-9907869c4793\",\"subtype\":\"Chart\",\"type\":\"Plot\"}},\"id\":\"ede67549-90bd-46ee-92cd-67379fdb0754\",\"type\":\"Legend\"},{\"attributes\":{\"fill_alpha\":{\"value\":0.7},\"fill_color\":{\"value\":\"#5ab738\"},\"line_color\":{\"value\":\"#5ab738\"},\"size\":{\"units\":\"screen\",\"value\":8},\"x\":{\"field\":\"x_values\"},\"y\":{\"field\":\"y_values\"}},\"id\":\"e6302600-afae-496e-8539-03dcc190e39f\",\"type\":\"Circle\"},{\"attributes\":{},\"id\":\"ea11c78e-4103-4cb8-8092-728d6c7d038b\",\"type\":\"BasicTickFormatter\"},{\"attributes\":{\"callback\":null,\"column_names\":[\"x_values\",\"y_values\"],\"data\":{\"Class\":[\"Iris-setosa\",\"Iris-setosa\",\"Iris-setosa\",\"Iris-setosa\",\"Iris-setosa\",\"Iris-setosa\",\"Iris-setosa\",\"Iris-setosa\",\"Iris-setosa\",\"Iris-setosa\",\"Iris-setosa\",\"Iris-setosa\",\"Iris-setosa\",\"Iris-setosa\",\"Iris-setosa\",\"Iris-setosa\",\"Iris-setosa\",\"Iris-setosa\",\"Iris-setosa\",\"Iris-setosa\",\"Iris-setosa\",\"Iris-setosa\",\"Iris-setosa\",\"Iris-setosa\",\"Iris-setosa\",\"Iris-setosa\",\"Iris-setosa\",\"Iris-setosa\",\"Iris-setosa\",\"Iris-setosa\",\"Iris-setosa\",\"Iris-setosa\",\"Iris-setosa\",\"Iris-setosa\",\"Iris-setosa\",\"Iris-setosa\",\"Iris-setosa\",\"Iris-setosa\",\"Iris-setosa\",\"Iris-setosa\"],\"chart_index\":[{\"Class\":\"Iris-setosa\"},{\"Class\":\"Iris-setosa\"},{\"Class\":\"Iris-setosa\"},{\"Class\":\"Iris-setosa\"},{\"Class\":\"Iris-setosa\"},{\"Class\":\"Iris-setosa\"},{\"Class\":\"Iris-setosa\"},{\"Class\":\"Iris-setosa\"},{\"Class\":\"Iris-setosa\"},{\"Class\":\"Iris-setosa\"},{\"Class\":\"Iris-setosa\"},{\"Class\":\"Iris-setosa\"},{\"Class\":\"Iris-setosa\"},{\"Class\":\"Iris-setosa\"},{\"Class\":\"Iris-setosa\"},{\"Class\":\"Iris-setosa\"},{\"Class\":\"Iris-setosa\"},{\"Class\":\"Iris-setosa\"},{\"Class\":\"Iris-setosa\"},{\"Class\":\"Iris-setosa\"},{\"Class\":\"Iris-setosa\"},{\"Class\":\"Iris-setosa\"},{\"Class\":\"Iris-setosa\"},{\"Class\":\"Iris-setosa\"},{\"Class\":\"Iris-setosa\"},{\"Class\":\"Iris-setosa\"},{\"Class\":\"Iris-setosa\"},{\"Class\":\"Iris-setosa\"},{\"Class\":\"Iris-setosa\"},{\"Class\":\"Iris-setosa\"},{\"Class\":\"Iris-setosa\"},{\"Class\":\"Iris-setosa\"},{\"Class\":\"Iris-setosa\"},{\"Class\":\"Iris-setosa\"},{\"Class\":\"Iris-setosa\"},{\"Class\":\"Iris-setosa\"},{\"Class\":\"Iris-setosa\"},{\"Class\":\"Iris-setosa\"},{\"Class\":\"Iris-setosa\"},{\"Class\":\"Iris-setosa\"}],\"x_values\":[1.5,1.6,1.4,1.1,1.2,1.5,1.3,1.4,1.7,1.5,1.7,1.5,1.0,1.7,1.9,1.6,1.6,1.5,1.4,1.6,1.6,1.5,1.5,1.4,1.5,1.2,1.3,1.5,1.3,1.5,1.3,1.3,1.3,1.6,1.9,1.4,1.6,1.4,1.5,1.4],\"y_values\":[0.2,0.2,0.1,0.1,0.2,0.4,0.4,0.3,0.3,0.3,0.2,0.4,0.2,0.5,0.2,0.2,0.4,0.2,0.2,0.2,0.2,0.4,0.1,0.2,0.1,0.2,0.2,0.1,0.2,0.2,0.3,0.3,0.2,0.6,0.4,0.3,0.2,0.2,0.2,0.2]}},\"id\":\"669e8270-8a55-4629-b4f8-76cbffae453d\",\"type\":\"ColumnDataSource\"},{\"attributes\":{\"callback\":null,\"column_names\":[\"x_values\",\"y_values\"],\"data\":{\"Class\":[\"Iris-versicolor\",\"Iris-versicolor\",\"Iris-versicolor\",\"Iris-versicolor\",\"Iris-versicolor\",\"Iris-versicolor\",\"Iris-versicolor\",\"Iris-versicolor\",\"Iris-versicolor\",\"Iris-versicolor\",\"Iris-versicolor\",\"Iris-versicolor\",\"Iris-versicolor\",\"Iris-versicolor\",\"Iris-versicolor\",\"Iris-versicolor\",\"Iris-versicolor\",\"Iris-versicolor\",\"Iris-versicolor\",\"Iris-versicolor\",\"Iris-versicolor\",\"Iris-versicolor\",\"Iris-versicolor\",\"Iris-versicolor\",\"Iris-versicolor\",\"Iris-versicolor\",\"Iris-versicolor\",\"Iris-versicolor\",\"Iris-versicolor\",\"Iris-versicolor\",\"Iris-versicolor\",\"Iris-versicolor\",\"Iris-versicolor\",\"Iris-versicolor\",\"Iris-versicolor\",\"Iris-versicolor\",\"Iris-versicolor\",\"Iris-versicolor\",\"Iris-versicolor\",\"Iris-versicolor\"],\"chart_index\":[{\"Class\":\"Iris-versicolor\"},{\"Class\":\"Iris-versicolor\"},{\"Class\":\"Iris-versicolor\"},{\"Class\":\"Iris-versicolor\"},{\"Class\":\"Iris-versicolor\"},{\"Class\":\"Iris-versicolor\"},{\"Class\":\"Iris-versicolor\"},{\"Class\":\"Iris-versicolor\"},{\"Class\":\"Iris-versicolor\"},{\"Class\":\"Iris-versicolor\"},{\"Class\":\"Iris-versicolor\"},{\"Class\":\"Iris-versicolor\"},{\"Class\":\"Iris-versicolor\"},{\"Class\":\"Iris-versicolor\"},{\"Class\":\"Iris-versicolor\"},{\"Class\":\"Iris-versicolor\"},{\"Class\":\"Iris-versicolor\"},{\"Class\":\"Iris-versicolor\"},{\"Class\":\"Iris-versicolor\"},{\"Class\":\"Iris-versicolor\"},{\"Class\":\"Iris-versicolor\"},{\"Class\":\"Iris-versicolor\"},{\"Class\":\"Iris-versicolor\"},{\"Class\":\"Iris-versicolor\"},{\"Class\":\"Iris-versicolor\"},{\"Class\":\"Iris-versicolor\"},{\"Class\":\"Iris-versicolor\"},{\"Class\":\"Iris-versicolor\"},{\"Class\":\"Iris-versicolor\"},{\"Class\":\"Iris-versicolor\"},{\"Class\":\"Iris-versicolor\"},{\"Class\":\"Iris-versicolor\"},{\"Class\":\"Iris-versicolor\"},{\"Class\":\"Iris-versicolor\"},{\"Class\":\"Iris-versicolor\"},{\"Class\":\"Iris-versicolor\"},{\"Class\":\"Iris-versicolor\"},{\"Class\":\"Iris-versicolor\"},{\"Class\":\"Iris-versicolor\"},{\"Class\":\"Iris-versicolor\"}],\"x_values\":[3.5,4.2,4.0,4.7,3.6,4.4,4.5,4.1,4.5,3.9,4.8,4.0,4.9,4.7,4.3,4.4,4.8,5.0,4.5,3.5,3.8,3.7,3.9,5.1,4.5,4.5,4.7,4.4,4.1,4.0,4.4,4.6,4.0,3.3,4.2,4.2,4.2,4.3,3.0,4.1],\"y_values\":[1.0,1.5,1.0,1.4,1.3,1.4,1.5,1.0,1.5,1.1,1.8,1.3,1.5,1.2,1.3,1.4,1.4,1.7,1.5,1.0,1.1,1.0,1.2,1.6,1.5,1.6,1.5,1.3,1.3,1.3,1.2,1.4,1.2,1.0,1.3,1.2,1.3,1.3,1.1,1.3]}},\"id\":\"fdaea6a9-45ed-4af4-a1f2-a1f7b2a9ae6e\",\"type\":\"ColumnDataSource\"},{\"attributes\":{\"plot\":{\"id\":\"da3309dd-d023-43c3-9f23-9907869c4793\",\"subtype\":\"Chart\",\"type\":\"Plot\"},\"ticker\":{\"id\":\"b4ca56cd-0018-4c35-93eb-a094393e2e60\",\"type\":\"BasicTicker\"}},\"id\":\"51a527b6-b6e4-4dd9-99ba-3d067f71bafb\",\"type\":\"Grid\"},{\"attributes\":{\"axis_label\":\"Petal Width\",\"formatter\":{\"id\":\"ea11c78e-4103-4cb8-8092-728d6c7d038b\",\"type\":\"BasicTickFormatter\"},\"plot\":{\"id\":\"da3309dd-d023-43c3-9f23-9907869c4793\",\"subtype\":\"Chart\",\"type\":\"Plot\"},\"ticker\":{\"id\":\"6e614872-0c95-49ca-bfab-02abb3938327\",\"type\":\"BasicTicker\"}},\"id\":\"808991ef-2a59-45b7-9d2a-aa94037c5e5f\",\"type\":\"LinearAxis\"},{\"attributes\":{\"plot\":{\"id\":\"da3309dd-d023-43c3-9f23-9907869c4793\",\"subtype\":\"Chart\",\"type\":\"Plot\"}},\"id\":\"f6a25e9a-d2d8-40c9-b6ca-11f1915496ed\",\"type\":\"HelpTool\"},{\"attributes\":{},\"id\":\"f109aae9-5c3b-4c82-b758-98f0391d9467\",\"type\":\"ToolEvents\"},{\"attributes\":{\"callback\":null,\"column_names\":[\"x_values\",\"y_values\"],\"data\":{\"Class\":[\"Iris-virginica\",\"Iris-virginica\",\"Iris-virginica\",\"Iris-virginica\",\"Iris-virginica\",\"Iris-virginica\",\"Iris-virginica\",\"Iris-virginica\",\"Iris-virginica\",\"Iris-virginica\",\"Iris-virginica\",\"Iris-virginica\",\"Iris-virginica\",\"Iris-virginica\",\"Iris-virginica\",\"Iris-virginica\",\"Iris-virginica\",\"Iris-virginica\",\"Iris-virginica\",\"Iris-virginica\",\"Iris-virginica\",\"Iris-virginica\",\"Iris-virginica\",\"Iris-virginica\",\"Iris-virginica\",\"Iris-virginica\",\"Iris-virginica\",\"Iris-virginica\",\"Iris-virginica\",\"Iris-virginica\",\"Iris-virginica\",\"Iris-virginica\",\"Iris-virginica\",\"Iris-virginica\",\"Iris-virginica\",\"Iris-virginica\",\"Iris-virginica\",\"Iris-virginica\",\"Iris-virginica\",\"Iris-virginica\"],\"chart_index\":[{\"Class\":\"Iris-virginica\"},{\"Class\":\"Iris-virginica\"},{\"Class\":\"Iris-virginica\"},{\"Class\":\"Iris-virginica\"},{\"Class\":\"Iris-virginica\"},{\"Class\":\"Iris-virginica\"},{\"Class\":\"Iris-virginica\"},{\"Class\":\"Iris-virginica\"},{\"Class\":\"Iris-virginica\"},{\"Class\":\"Iris-virginica\"},{\"Class\":\"Iris-virginica\"},{\"Class\":\"Iris-virginica\"},{\"Class\":\"Iris-virginica\"},{\"Class\":\"Iris-virginica\"},{\"Class\":\"Iris-virginica\"},{\"Class\":\"Iris-virginica\"},{\"Class\":\"Iris-virginica\"},{\"Class\":\"Iris-virginica\"},{\"Class\":\"Iris-virginica\"},{\"Class\":\"Iris-virginica\"},{\"Class\":\"Iris-virginica\"},{\"Class\":\"Iris-virginica\"},{\"Class\":\"Iris-virginica\"},{\"Class\":\"Iris-virginica\"},{\"Class\":\"Iris-virginica\"},{\"Class\":\"Iris-virginica\"},{\"Class\":\"Iris-virginica\"},{\"Class\":\"Iris-virginica\"},{\"Class\":\"Iris-virginica\"},{\"Class\":\"Iris-virginica\"},{\"Class\":\"Iris-virginica\"},{\"Class\":\"Iris-virginica\"},{\"Class\":\"Iris-virginica\"},{\"Class\":\"Iris-virginica\"},{\"Class\":\"Iris-virginica\"},{\"Class\":\"Iris-virginica\"},{\"Class\":\"Iris-virginica\"},{\"Class\":\"Iris-virginica\"},{\"Class\":\"Iris-virginica\"},{\"Class\":\"Iris-virginica\"}],\"x_values\":[5.1,5.3,5.5,5.0,5.1,5.3,5.5,6.7,6.9,5.0,5.7,4.9,6.7,4.9,5.7,6.0,4.8,4.9,5.6,5.8,6.1,6.4,5.6,5.1,5.6,6.1,5.6,5.5,4.8,5.4,5.6,5.1,5.1,5.9,5.7,5.2,5.0,5.2,5.4,5.1],\"y_values\":[2.0,1.9,2.1,2.0,2.4,2.3,1.8,2.2,2.3,1.5,2.3,2.0,2.0,1.8,2.1,1.8,1.8,1.8,2.1,1.6,1.9,2.0,2.2,1.5,1.4,2.3,2.4,1.8,1.8,2.1,2.4,2.3,1.9,2.3,2.5,2.3,1.9,2.0,2.3,1.8]}},\"id\":\"a27e63e3-41a4-44db-bb6f-ef773ab69cad\",\"type\":\"ColumnDataSource\"},{\"attributes\":{\"callback\":null,\"end\":2.74,\"start\":-0.13999999999999999},\"id\":\"8180aa14-27ff-44f7-91c8-d9a7d87792bf\",\"type\":\"Range1d\"},{\"attributes\":{\"below\":[{\"id\":\"c4f5ba85-8e12-46df-98a6-53bfc7e521c9\",\"type\":\"LinearAxis\"}],\"left\":[{\"id\":\"808991ef-2a59-45b7-9d2a-aa94037c5e5f\",\"type\":\"LinearAxis\"}],\"renderers\":[{\"id\":\"ca1d63fc-d098-4f7e-a02a-b8efee301402\",\"type\":\"BoxAnnotation\"},{\"id\":\"3eb78cd9-cb91-40f8-a62b-ca5714937ef6\",\"type\":\"GlyphRenderer\"},{\"id\":\"7d5a489e-c1cc-4df6-b0b8-16f28f32bceb\",\"type\":\"GlyphRenderer\"},{\"id\":\"95f8892e-ed75-4f0d-842d-2c4413b67cce\",\"type\":\"GlyphRenderer\"},{\"id\":\"ede67549-90bd-46ee-92cd-67379fdb0754\",\"type\":\"Legend\"},{\"id\":\"c4f5ba85-8e12-46df-98a6-53bfc7e521c9\",\"type\":\"LinearAxis\"},{\"id\":\"808991ef-2a59-45b7-9d2a-aa94037c5e5f\",\"type\":\"LinearAxis\"},{\"id\":\"51a527b6-b6e4-4dd9-99ba-3d067f71bafb\",\"type\":\"Grid\"},{\"id\":\"b1388d10-cc52-4676-9c77-47fac2e23271\",\"type\":\"Grid\"}],\"title\":{\"id\":\"b4f10588-3fb1-47de-964d-2b2d4a73217e\",\"type\":\"Title\"},\"tool_events\":{\"id\":\"f109aae9-5c3b-4c82-b758-98f0391d9467\",\"type\":\"ToolEvents\"},\"toolbar\":{\"id\":\"421f022a-6b71-475b-8352-ebc8c2abc91c\",\"type\":\"Toolbar\"},\"x_mapper_type\":\"auto\",\"x_range\":{\"id\":\"c76030a1-4398-4b24-a81b-fb0b8d20b305\",\"type\":\"Range1d\"},\"y_mapper_type\":\"auto\",\"y_range\":{\"id\":\"8180aa14-27ff-44f7-91c8-d9a7d87792bf\",\"type\":\"Range1d\"}},\"id\":\"da3309dd-d023-43c3-9f23-9907869c4793\",\"subtype\":\"Chart\",\"type\":\"Plot\"},{\"attributes\":{\"callback\":null,\"end\":7.49,\"start\":0.4099999999999999},\"id\":\"c76030a1-4398-4b24-a81b-fb0b8d20b305\",\"type\":\"Range1d\"},{\"attributes\":{\"overlay\":{\"id\":\"ca1d63fc-d098-4f7e-a02a-b8efee301402\",\"type\":\"BoxAnnotation\"},\"plot\":{\"id\":\"da3309dd-d023-43c3-9f23-9907869c4793\",\"subtype\":\"Chart\",\"type\":\"Plot\"}},\"id\":\"79608590-1f75-4cc7-bf1e-9afb093e5678\",\"type\":\"BoxZoomTool\"},{\"attributes\":{\"axis_label\":\"Petal Length in cm\",\"formatter\":{\"id\":\"0ac57902-af72-4967-a270-ea0a602d94e9\",\"type\":\"BasicTickFormatter\"},\"plot\":{\"id\":\"da3309dd-d023-43c3-9f23-9907869c4793\",\"subtype\":\"Chart\",\"type\":\"Plot\"},\"ticker\":{\"id\":\"b4ca56cd-0018-4c35-93eb-a094393e2e60\",\"type\":\"BasicTicker\"}},\"id\":\"c4f5ba85-8e12-46df-98a6-53bfc7e521c9\",\"type\":\"LinearAxis\"},{\"attributes\":{\"plot\":{\"id\":\"da3309dd-d023-43c3-9f23-9907869c4793\",\"subtype\":\"Chart\",\"type\":\"Plot\"}},\"id\":\"5318cff6-873e-4aca-a4e5-9807728b410f\",\"type\":\"ResetTool\"},{\"attributes\":{\"dimension\":1,\"plot\":{\"id\":\"da3309dd-d023-43c3-9f23-9907869c4793\",\"subtype\":\"Chart\",\"type\":\"Plot\"},\"ticker\":{\"id\":\"6e614872-0c95-49ca-bfab-02abb3938327\",\"type\":\"BasicTicker\"}},\"id\":\"b1388d10-cc52-4676-9c77-47fac2e23271\",\"type\":\"Grid\"},{\"attributes\":{\"data_source\":{\"id\":\"fdaea6a9-45ed-4af4-a1f2-a1f7b2a9ae6e\",\"type\":\"ColumnDataSource\"},\"glyph\":{\"id\":\"e6302600-afae-496e-8539-03dcc190e39f\",\"type\":\"Circle\"},\"hover_glyph\":null,\"nonselection_glyph\":null,\"selection_glyph\":null},\"id\":\"7d5a489e-c1cc-4df6-b0b8-16f28f32bceb\",\"type\":\"GlyphRenderer\"},{\"attributes\":{\"data_source\":{\"id\":\"a27e63e3-41a4-44db-bb6f-ef773ab69cad\",\"type\":\"ColumnDataSource\"},\"glyph\":{\"id\":\"a7aa0c6a-7562-4000-9314-318520427349\",\"type\":\"Circle\"},\"hover_glyph\":null,\"nonselection_glyph\":null,\"selection_glyph\":null},\"id\":\"95f8892e-ed75-4f0d-842d-2c4413b67cce\",\"type\":\"GlyphRenderer\"},{\"attributes\":{\"fill_alpha\":{\"value\":0.7},\"fill_color\":{\"value\":\"#f22c40\"},\"line_color\":{\"value\":\"#f22c40\"},\"size\":{\"units\":\"screen\",\"value\":8},\"x\":{\"field\":\"x_values\"},\"y\":{\"field\":\"y_values\"}},\"id\":\"7c78754b-6cb8-4a08-a7b0-3d1115d33afa\",\"type\":\"Circle\"}],\"root_ids\":[\"da3309dd-d023-43c3-9f23-9907869c4793\"]},\"title\":\"Bokeh Application\",\"version\":\"0.12.2\"}};\n",
       "            var render_items = [{\"docid\":\"0934a4a6-8304-4b4a-afc7-608abcb30f6a\",\"elementid\":\"095df25e-78f8-4f28-8db0-c7f9e0d8e660\",\"modelid\":\"da3309dd-d023-43c3-9f23-9907869c4793\"}];\n",
       "            \n",
       "            Bokeh.embed.embed_items(docs_json, render_items);\n",
       "        });\n",
       "      },\n",
       "      function(Bokeh) {\n",
       "      }\n",
       "    ];\n",
       "  \n",
       "    function run_inline_js() {\n",
       "      \n",
       "      if ((window.Bokeh !== undefined) || (force === \"1\")) {\n",
       "        for (var i = 0; i < inline_js.length; i++) {\n",
       "          inline_js[i](window.Bokeh);\n",
       "        }if (force === \"1\") {\n",
       "          display_loaded();\n",
       "        }} else if (Date.now() < window._bokeh_timeout) {\n",
       "        setTimeout(run_inline_js, 100);\n",
       "      } else if (!window._bokeh_failed_load) {\n",
       "        console.log(\"Bokeh: BokehJS failed to load within specified timeout.\");\n",
       "        window._bokeh_failed_load = true;\n",
       "      } else if (!force) {\n",
       "        var cell = $(\"#095df25e-78f8-4f28-8db0-c7f9e0d8e660\").parents('.cell').data().cell;\n",
       "        cell.output_area.append_execute_result(NB_LOAD_WARNING)\n",
       "      }\n",
       "  \n",
       "    }\n",
       "  \n",
       "    if (window._bokeh_is_loading === 0) {\n",
       "      console.log(\"Bokeh: BokehJS loaded, going straight to plotting\");\n",
       "      run_inline_js();\n",
       "    } else {\n",
       "      load_libs(js_urls, function() {\n",
       "        console.log(\"Bokeh: BokehJS plotting callback run at\", now());\n",
       "        run_inline_js();\n",
       "      });\n",
       "    }\n",
       "  }(this));\n",
       "</script>"
      ]
     },
     "metadata": {},
     "output_type": "display_data"
    }
   ],
   "source": [
    "# Your code here"
   ]
  },
  {
   "cell_type": "code",
   "execution_count": null,
   "metadata": {
    "collapsed": true
   },
   "outputs": [],
   "source": []
  },
  {
   "cell_type": "markdown",
   "metadata": {
    "collapsed": true
   },
   "source": [
    "<h2 style=\"color:red\">Q3.2 Build a kNN classifier and use it to classify instances 15xp</h2>\n",
    "<span style=\"color:red\">The instances I would like you to classify are at:</span>.  \n",
    "\n",
    "    https://raw.githubusercontent.com/zacharski/machine-learning/master/data/irisTest.csv\n",
    "    \n",
    "At this point you should have 4 DataFrames: the training features, the training classes or labels, the test features and the test labels."
   ]
  },
  {
   "cell_type": "code",
   "execution_count": 20,
   "metadata": {
    "collapsed": false
   },
   "outputs": [
    {
     "data": {
      "text/plain": [
       "KNeighborsClassifier(algorithm='auto', leaf_size=30, metric='minkowski',\n",
       "           metric_params=None, n_jobs=1, n_neighbors=3, p=2,\n",
       "           weights='uniform')"
      ]
     },
     "execution_count": 20,
     "metadata": {},
     "output_type": "execute_result"
    }
   ],
   "source": [
    "#"
   ]
  },
  {
   "cell_type": "code",
   "execution_count": 17,
   "metadata": {
    "collapsed": false
   },
   "outputs": [],
   "source": [
    "#"
   ]
  },
  {
   "cell_type": "code",
   "execution_count": 28,
   "metadata": {
    "collapsed": false
   },
   "outputs": [],
   "source": [
    "#"
   ]
  },
  {
   "cell_type": "markdown",
   "metadata": {},
   "source": [
    "<h2 style=\"color:red\">Q3.3 Accuracy  15xp</h2>\n",
    "\n",
    "I am defining accuracy as:\n",
    "\n",
    "### $$accuracy= \\frac{totalNumberCorrectlyClassified}{totalNumberOfCasesInOurTestSet} $$\n",
    "\n",
    "So if we have 40 items in our test set and we classified 30 correctly we have an accuracy of 0.75 or 75%\n",
    "\n",
    "<span style=\"color:red\">I would like you to calculate the accuracy</span>.  \n",
    "\n",
    "`sklearn` has a method that does this. To see how to use it google `sklearn accuracy`\n",
    "\n"
   ]
  },
  {
   "cell_type": "code",
   "execution_count": 33,
   "metadata": {
    "collapsed": false
   },
   "outputs": [
    {
     "data": {
      "text/plain": [
       "0.96666666666666667"
      ]
     },
     "execution_count": 33,
     "metadata": {},
     "output_type": "execute_result"
    }
   ],
   "source": [
    "# your code here"
   ]
  },
  {
   "cell_type": "markdown",
   "metadata": {
    "collapsed": true
   },
   "source": [
    "<h2 style=\"color:red\">Q3.4 Improving Accuracy: up to 15xp</h2>\n",
    "\n",
    "    \n",
    "There are a number of variables you can adjust for classification:\n",
    "    \n",
    "1. you can normalize all or some of the columns\n",
    "2. you can select which columns to use\n",
    "3. you can select the k and p values for the classifier.\n",
    "\n",
    "You will get 5xp just for trying a few variations. "
   ]
  }
 ],
 "metadata": {
  "anaconda-cloud": {},
  "kernelspec": {
   "display_name": "Python [conda root]",
   "language": "python",
   "name": "conda-root-py"
  },
  "language_info": {
   "codemirror_mode": {
    "name": "ipython",
    "version": 3
   },
   "file_extension": ".py",
   "mimetype": "text/x-python",
   "name": "python",
   "nbconvert_exporter": "python",
   "pygments_lexer": "ipython3",
   "version": "3.5.2"
  }
 },
 "nbformat": 4,
 "nbformat_minor": 1
}
